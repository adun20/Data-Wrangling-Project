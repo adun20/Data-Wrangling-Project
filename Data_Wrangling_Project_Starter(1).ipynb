{
 "cells": [
  {
   "cell_type": "markdown",
   "metadata": {
    "id": "GNIwe5N7s0e_"
   },
   "source": [
    "# Real-world Data Wrangling"
   ]
  },
  {
   "cell_type": "markdown",
   "metadata": {
    "id": "_BG63Tpg8ep_"
   },
   "source": [
    "In this project, you will apply the skills you acquired in the course to gather and wrangle real-world data with two datasets of your choice.\n",
    "\n",
    "You will retrieve and extract the data, assess the data programmatically and visually, accross elements of data quality and structure, and implement a cleaning strategy for the data. You will then store the updated data into your selected database/data store, combine the data, and answer a research question with the datasets.\n",
    "\n",
    "Throughout the process, you are expected to:\n",
    "\n",
    "1. Explain your decisions towards methods used for gathering, assessing, cleaning, storing, and answering the research question\n",
    "2. Write code comments so your code is more readable"
   ]
  },
  {
   "cell_type": "markdown",
   "metadata": {
    "id": "lDYDkH-Zs7Nn"
   },
   "source": [
    "## 1. Gather data\n",
    "\n",
    "In this section, you will extract data using two different data gathering methods and combine the data. Use at least two different types of data-gathering methods."
   ]
  },
  {
   "cell_type": "markdown",
   "metadata": {
    "id": "LbN7z7rcuqpO"
   },
   "source": [
    "### **1.1.** Problem Statement\n",
    "In 2-4 sentences, explain the kind of problem you want to look at and the datasets you will be wrangling for this project.\n",
    "\n",
    "There have been concerns about pesticide use being linked to health related illnesses. One of the illnesses in particular is cancer. I will be looking at data that includes the use of pesticides by state, and a dataset that has the top 5 causes of death, which includes cancer, by state to see if cancer related deaths are high where the use of pesticides are high in the year of 2015."
   ]
  },
  {
   "cell_type": "markdown",
   "metadata": {
    "id": "gi6swhjSYqu2"
   },
   "source": [
    "Finding the right datasets can be time-consuming. Here we provide you with a list of websites to start with. But we encourage you to explore more websites and find the data that interests you.\n",
    "\n",
    "* Google Dataset Search https://datasetsearch.research.google.com/\n",
    "* The U.S. Government’s open data https://data.gov/\n",
    "* UCI Machine Learning Repository https://archive.ics.uci.edu/ml/index.php\n"
   ]
  },
  {
   "cell_type": "markdown",
   "metadata": {
    "id": "8AQfBAdUypMm"
   },
   "source": [
    "### **1.2.** Gather at least two datasets using two different data gathering methods\n",
    "\n",
    "List of data gathering methods:\n",
    "\n",
    "- Download data manually\n",
    "- Programmatically downloading files\n",
    "- Gather data by accessing APIs\n",
    "- Gather and extract data from HTML files using BeautifulSoup\n",
    "- Extract data from a SQL database\n",
    "\n",
    "Each dataset must have at least two variables, and have greater than 500 data samples within each dataset.\n",
    "\n",
    "For each dataset, briefly describe why you picked the dataset and the gathering method (2-3 full sentences), including the names and significance of the variables in the dataset. Show your work (e.g., if using an API to download the data, please include a snippet of your code). \n",
    "\n",
    "Load the dataset programmtically into this notebook."
   ]
  },
  {
   "cell_type": "markdown",
   "metadata": {
    "id": "7e6gS0wL1KTu"
   },
   "source": [
    "#### **Dataset 1**\n",
    "\n",
    "Type: CSV File (e.g., CSV File.)\n",
    "\n",
    "Method: The Five Leading Causes of Death dataset was gathered using the \"Programmatically downloading file\" method from CDC.gov website.\n",
    "\n",
    "Dataset variables that we are interested in:\n",
    "\n",
    "* Year: Year of death\n",
    "* Cause of Death: Illness related to death\n",
    "* State: Location/State name\n",
    "* State FIPS Code: Location/State code\n",
    "* Age Range: Age range of the deceased\n",
    "* Benchmark: Based on three states with the lowest age and specific cause of death mortaliy rates.\n",
    "* Locality: Specifies if the area is Metropolitan, Non-Metropolitan, or both (\"All\").\n",
    "* Observed Deaths: Number of deaths\n",
    "* Population: Location population\n",
    "\n",
    "I am not interested in including HHS Region, Expected Deaths, Potentially Excess Deaths, and Percent Potentially Excess Deaths, so I will be removing these variables.\n",
    "\n",
    "Since this dataset includes the numbers of death and population by state, I will be able to calculate the the percent of deaths."
   ]
  },
  {
   "cell_type": "code",
   "execution_count": 198,
   "metadata": {},
   "outputs": [],
   "source": [
    "#import libraries\n",
    "import pandas as pd\n",
    "import requests\n",
    "import os\n",
    "import numpy as np\n",
    "import seaborn as sns\n",
    "import matplotlib.pyplot as plt\n",
    "%matplotlib inline"
   ]
  },
  {
   "cell_type": "code",
   "execution_count": 199,
   "metadata": {},
   "outputs": [],
   "source": [
    "#1st data gathering and loading method\n",
    "#Load Five Leading Causes of Death CSV file by programmatically downloading the file.\n",
    "\n",
    "#Provide URL\n",
    "url = 'https://data.cdc.gov/api/views/vdpk-qzpr/rows.csv?accessType=DOWNLOAD'"
   ]
  },
  {
   "cell_type": "code",
   "execution_count": 200,
   "metadata": {},
   "outputs": [
    {
     "name": "stdout",
     "output_type": "stream",
     "text": [
      "<Response [200]>\n"
     ]
    }
   ],
   "source": [
    "#Test connection\n",
    "response = requests.get(url)\n",
    "print(response)"
   ]
  },
  {
   "cell_type": "code",
   "execution_count": 201,
   "metadata": {},
   "outputs": [],
   "source": [
    "response.raise_for_status()"
   ]
  },
  {
   "cell_type": "code",
   "execution_count": 202,
   "metadata": {},
   "outputs": [],
   "source": [
    "#Read in CSV file\n",
    "orig_death_df = pd.read_csv(url)"
   ]
  },
  {
   "cell_type": "code",
   "execution_count": 203,
   "metadata": {},
   "outputs": [
    {
     "data": {
      "text/html": [
       "<div>\n",
       "<style scoped>\n",
       "    .dataframe tbody tr th:only-of-type {\n",
       "        vertical-align: middle;\n",
       "    }\n",
       "\n",
       "    .dataframe tbody tr th {\n",
       "        vertical-align: top;\n",
       "    }\n",
       "\n",
       "    .dataframe thead th {\n",
       "        text-align: right;\n",
       "    }\n",
       "</style>\n",
       "<table border=\"1\" class=\"dataframe\">\n",
       "  <thead>\n",
       "    <tr style=\"text-align: right;\">\n",
       "      <th></th>\n",
       "      <th>Year</th>\n",
       "      <th>Cause of Death</th>\n",
       "      <th>State</th>\n",
       "      <th>State FIPS Code</th>\n",
       "      <th>HHS Region</th>\n",
       "      <th>Age Range</th>\n",
       "      <th>Benchmark</th>\n",
       "      <th>Locality</th>\n",
       "      <th>Observed Deaths</th>\n",
       "      <th>Population</th>\n",
       "      <th>Expected Deaths</th>\n",
       "      <th>Potentially Excess Deaths</th>\n",
       "      <th>Percent Potentially Excess Deaths</th>\n",
       "    </tr>\n",
       "  </thead>\n",
       "  <tbody>\n",
       "    <tr>\n",
       "      <th>0</th>\n",
       "      <td>2005</td>\n",
       "      <td>Cancer</td>\n",
       "      <td>Alabama</td>\n",
       "      <td>AL</td>\n",
       "      <td>4</td>\n",
       "      <td>0-49</td>\n",
       "      <td>2005 Fixed</td>\n",
       "      <td>All</td>\n",
       "      <td>756.0</td>\n",
       "      <td>3148377.0</td>\n",
       "      <td>451.0</td>\n",
       "      <td>305.0</td>\n",
       "      <td>40.3</td>\n",
       "    </tr>\n",
       "    <tr>\n",
       "      <th>1</th>\n",
       "      <td>2005</td>\n",
       "      <td>Cancer</td>\n",
       "      <td>Alabama</td>\n",
       "      <td>AL</td>\n",
       "      <td>4</td>\n",
       "      <td>0-49</td>\n",
       "      <td>2005 Fixed</td>\n",
       "      <td>Metropolitan</td>\n",
       "      <td>556.0</td>\n",
       "      <td>2379871.0</td>\n",
       "      <td>341.0</td>\n",
       "      <td>217.0</td>\n",
       "      <td>39.0</td>\n",
       "    </tr>\n",
       "    <tr>\n",
       "      <th>2</th>\n",
       "      <td>2005</td>\n",
       "      <td>Cancer</td>\n",
       "      <td>Alabama</td>\n",
       "      <td>AL</td>\n",
       "      <td>4</td>\n",
       "      <td>0-49</td>\n",
       "      <td>2005 Fixed</td>\n",
       "      <td>Nonmetropolitan</td>\n",
       "      <td>200.0</td>\n",
       "      <td>768506.0</td>\n",
       "      <td>111.0</td>\n",
       "      <td>89.0</td>\n",
       "      <td>44.5</td>\n",
       "    </tr>\n",
       "    <tr>\n",
       "      <th>3</th>\n",
       "      <td>2005</td>\n",
       "      <td>Cancer</td>\n",
       "      <td>Alabama</td>\n",
       "      <td>AL</td>\n",
       "      <td>4</td>\n",
       "      <td>0-49</td>\n",
       "      <td>2010 Fixed</td>\n",
       "      <td>All</td>\n",
       "      <td>756.0</td>\n",
       "      <td>3148377.0</td>\n",
       "      <td>421.0</td>\n",
       "      <td>335.0</td>\n",
       "      <td>44.3</td>\n",
       "    </tr>\n",
       "    <tr>\n",
       "      <th>4</th>\n",
       "      <td>2005</td>\n",
       "      <td>Cancer</td>\n",
       "      <td>Alabama</td>\n",
       "      <td>AL</td>\n",
       "      <td>4</td>\n",
       "      <td>0-49</td>\n",
       "      <td>2010 Fixed</td>\n",
       "      <td>Metropolitan</td>\n",
       "      <td>556.0</td>\n",
       "      <td>2379871.0</td>\n",
       "      <td>318.0</td>\n",
       "      <td>238.0</td>\n",
       "      <td>42.8</td>\n",
       "    </tr>\n",
       "  </tbody>\n",
       "</table>\n",
       "</div>"
      ],
      "text/plain": [
       "   Year Cause of Death    State State FIPS Code  HHS Region Age Range  \\\n",
       "0  2005         Cancer  Alabama              AL           4      0-49   \n",
       "1  2005         Cancer  Alabama              AL           4      0-49   \n",
       "2  2005         Cancer  Alabama              AL           4      0-49   \n",
       "3  2005         Cancer  Alabama              AL           4      0-49   \n",
       "4  2005         Cancer  Alabama              AL           4      0-49   \n",
       "\n",
       "    Benchmark         Locality  Observed Deaths  Population  Expected Deaths  \\\n",
       "0  2005 Fixed              All            756.0   3148377.0            451.0   \n",
       "1  2005 Fixed     Metropolitan            556.0   2379871.0            341.0   \n",
       "2  2005 Fixed  Nonmetropolitan            200.0    768506.0            111.0   \n",
       "3  2010 Fixed              All            756.0   3148377.0            421.0   \n",
       "4  2010 Fixed     Metropolitan            556.0   2379871.0            318.0   \n",
       "\n",
       "   Potentially Excess Deaths  Percent Potentially Excess Deaths  \n",
       "0                      305.0                               40.3  \n",
       "1                      217.0                               39.0  \n",
       "2                       89.0                               44.5  \n",
       "3                      335.0                               44.3  \n",
       "4                      238.0                               42.8  "
      ]
     },
     "execution_count": 203,
     "metadata": {},
     "output_type": "execute_result"
    }
   ],
   "source": [
    "#Print cancer_df head\n",
    "orig_death_df.head()"
   ]
  },
  {
   "cell_type": "markdown",
   "metadata": {
    "id": "hoUjq1tPzz7P"
   },
   "source": [
    "#### Dataset 2\n",
    "\n",
    "Type: CSV File\n",
    "\n",
    "Method: The Pesticide Use in Agriculture data was gather using the \"Download data manually\" method from the Kaggle.com website, along with the Data Dictionary to get the name for the state code.\n",
    "\n",
    "Dataset variables:\n",
    "\n",
    "* COMPOUND: Type of pesticide\n",
    "* YEAR: Year pesicide used\n",
    "* STATE_CODE: Code for location/state name\n",
    "* LOW_ESTIMATE: Assumed zero use if usage was not reported\n",
    "* HIGH_ESTIMATE: Unreported usage that is treated as missing data and has estimated pesticide usage based on use of pesticides in neighboring locations within the same region.\n",
    "\n",
    "I am not interested in keeping County Code, so I will be dropping that variable.\n",
    "\n",
    "This dataset will allow me to gather the mean of pesicide use by state."
   ]
  },
  {
   "cell_type": "code",
   "execution_count": 204,
   "metadata": {
    "id": "6zT0QxRyYmm7"
   },
   "outputs": [],
   "source": [
    "#2nd data gathering and loading method\n",
    "#Load Pesticide Use CSV file manually\n",
    "orig_pesticide_df = pd.read_csv('Pesticide_Use.csv')\n"
   ]
  },
  {
   "cell_type": "code",
   "execution_count": 205,
   "metadata": {},
   "outputs": [
    {
     "data": {
      "text/html": [
       "<div>\n",
       "<style scoped>\n",
       "    .dataframe tbody tr th:only-of-type {\n",
       "        vertical-align: middle;\n",
       "    }\n",
       "\n",
       "    .dataframe tbody tr th {\n",
       "        vertical-align: top;\n",
       "    }\n",
       "\n",
       "    .dataframe thead th {\n",
       "        text-align: right;\n",
       "    }\n",
       "</style>\n",
       "<table border=\"1\" class=\"dataframe\">\n",
       "  <thead>\n",
       "    <tr style=\"text-align: right;\">\n",
       "      <th></th>\n",
       "      <th>COMPOUND</th>\n",
       "      <th>YEAR</th>\n",
       "      <th>STATE_CODE</th>\n",
       "      <th>COUNTY_CODE</th>\n",
       "      <th>LOW_ESTIMATE</th>\n",
       "      <th>HIGH_ESTIMATE</th>\n",
       "    </tr>\n",
       "  </thead>\n",
       "  <tbody>\n",
       "    <tr>\n",
       "      <th>0</th>\n",
       "      <td>1-Methyl Cyclopropene</td>\n",
       "      <td>2015</td>\n",
       "      <td>41</td>\n",
       "      <td>1</td>\n",
       "      <td>NaN</td>\n",
       "      <td>0.0</td>\n",
       "    </tr>\n",
       "    <tr>\n",
       "      <th>1</th>\n",
       "      <td>1-Methyl Cyclopropene</td>\n",
       "      <td>2015</td>\n",
       "      <td>41</td>\n",
       "      <td>21</td>\n",
       "      <td>NaN</td>\n",
       "      <td>0.1</td>\n",
       "    </tr>\n",
       "    <tr>\n",
       "      <th>2</th>\n",
       "      <td>1-Methyl Cyclopropene</td>\n",
       "      <td>2015</td>\n",
       "      <td>41</td>\n",
       "      <td>27</td>\n",
       "      <td>NaN</td>\n",
       "      <td>1.7</td>\n",
       "    </tr>\n",
       "    <tr>\n",
       "      <th>3</th>\n",
       "      <td>1-Methyl Cyclopropene</td>\n",
       "      <td>2015</td>\n",
       "      <td>41</td>\n",
       "      <td>49</td>\n",
       "      <td>NaN</td>\n",
       "      <td>0.1</td>\n",
       "    </tr>\n",
       "    <tr>\n",
       "      <th>4</th>\n",
       "      <td>1-Methyl Cyclopropene</td>\n",
       "      <td>2015</td>\n",
       "      <td>41</td>\n",
       "      <td>55</td>\n",
       "      <td>NaN</td>\n",
       "      <td>0.0</td>\n",
       "    </tr>\n",
       "  </tbody>\n",
       "</table>\n",
       "</div>"
      ],
      "text/plain": [
       "                COMPOUND  YEAR  STATE_CODE  COUNTY_CODE  LOW_ESTIMATE  \\\n",
       "0  1-Methyl Cyclopropene  2015          41            1           NaN   \n",
       "1  1-Methyl Cyclopropene  2015          41           21           NaN   \n",
       "2  1-Methyl Cyclopropene  2015          41           27           NaN   \n",
       "3  1-Methyl Cyclopropene  2015          41           49           NaN   \n",
       "4  1-Methyl Cyclopropene  2015          41           55           NaN   \n",
       "\n",
       "   HIGH_ESTIMATE  \n",
       "0            0.0  \n",
       "1            0.1  \n",
       "2            1.7  \n",
       "3            0.1  \n",
       "4            0.0  "
      ]
     },
     "execution_count": 205,
     "metadata": {},
     "output_type": "execute_result"
    }
   ],
   "source": [
    "orig_pesticide_df.head()"
   ]
  },
  {
   "cell_type": "markdown",
   "metadata": {},
   "source": [
    "#### Dataset 3\n",
    "\n",
    "Type: CSV File\n",
    "\n",
    "Method: The Pesticide Use Dictionary data was gather using the \"Download data manually\" method from the Kaggle.com website.\n",
    "\n",
    "Dataset variables:\n",
    "\n",
    "* STATE_CODE: Location/State code\n",
    "* STATE: Location/State name\n",
    "\n",
    "The dataframe also includes County Code and County, but I will not need to use those two variables, so I will dropping them."
   ]
  },
  {
   "cell_type": "code",
   "execution_count": 206,
   "metadata": {},
   "outputs": [],
   "source": [
    "#3rd data gathering and loading method\n",
    "#Load Pesticide Use Dictionary CSV file manually\n",
    "p_dictionary = pd.read_csv('Pesticide_Use_Dictionary.csv')"
   ]
  },
  {
   "cell_type": "code",
   "execution_count": 207,
   "metadata": {
    "scrolled": true
   },
   "outputs": [
    {
     "data": {
      "text/html": [
       "<div>\n",
       "<style scoped>\n",
       "    .dataframe tbody tr th:only-of-type {\n",
       "        vertical-align: middle;\n",
       "    }\n",
       "\n",
       "    .dataframe tbody tr th {\n",
       "        vertical-align: top;\n",
       "    }\n",
       "\n",
       "    .dataframe thead th {\n",
       "        text-align: right;\n",
       "    }\n",
       "</style>\n",
       "<table border=\"1\" class=\"dataframe\">\n",
       "  <thead>\n",
       "    <tr style=\"text-align: right;\">\n",
       "      <th></th>\n",
       "      <th>STATE_CODE</th>\n",
       "      <th>COUNTY_CODE</th>\n",
       "      <th>COUNTY</th>\n",
       "      <th>STATE</th>\n",
       "    </tr>\n",
       "  </thead>\n",
       "  <tbody>\n",
       "    <tr>\n",
       "      <th>0</th>\n",
       "      <td>1</td>\n",
       "      <td>1</td>\n",
       "      <td>Autauga County</td>\n",
       "      <td>AL</td>\n",
       "    </tr>\n",
       "    <tr>\n",
       "      <th>1</th>\n",
       "      <td>1</td>\n",
       "      <td>3</td>\n",
       "      <td>Baldwin County</td>\n",
       "      <td>AL</td>\n",
       "    </tr>\n",
       "    <tr>\n",
       "      <th>2</th>\n",
       "      <td>1</td>\n",
       "      <td>5</td>\n",
       "      <td>Barbour County</td>\n",
       "      <td>AL</td>\n",
       "    </tr>\n",
       "    <tr>\n",
       "      <th>3</th>\n",
       "      <td>1</td>\n",
       "      <td>7</td>\n",
       "      <td>Bibb County</td>\n",
       "      <td>AL</td>\n",
       "    </tr>\n",
       "    <tr>\n",
       "      <th>4</th>\n",
       "      <td>1</td>\n",
       "      <td>9</td>\n",
       "      <td>Blount County</td>\n",
       "      <td>AL</td>\n",
       "    </tr>\n",
       "  </tbody>\n",
       "</table>\n",
       "</div>"
      ],
      "text/plain": [
       "   STATE_CODE  COUNTY_CODE          COUNTY STATE\n",
       "0           1            1  Autauga County    AL\n",
       "1           1            3  Baldwin County    AL\n",
       "2           1            5  Barbour County    AL\n",
       "3           1            7     Bibb County    AL\n",
       "4           1            9   Blount County    AL"
      ]
     },
     "execution_count": 207,
     "metadata": {},
     "output_type": "execute_result"
    }
   ],
   "source": [
    "p_dictionary.head()"
   ]
  },
  {
   "cell_type": "markdown",
   "metadata": {},
   "source": [
    "Optional data storing step: You may save your raw dataset files to the local data store before moving to the next step."
   ]
  },
  {
   "cell_type": "code",
   "execution_count": 208,
   "metadata": {},
   "outputs": [],
   "source": [
    "#Optional: store the raw data in your local data store\n",
    "orig_death_df.to_csv('orig_death_df.csv', index=False)"
   ]
  },
  {
   "cell_type": "markdown",
   "metadata": {
    "id": "QwSWIVmotLgV"
   },
   "source": [
    "## 2. Assess data\n",
    "\n",
    "Assess the data according to data quality and tidiness metrics using the report below.\n",
    "\n",
    "List **two** data quality issues and **two** tidiness issues. Assess each data issue visually **and** programmatically, then briefly describe the issue you find.  **Make sure you include justifications for the methods you use for the assessment.**"
   ]
  },
  {
   "cell_type": "markdown",
   "metadata": {
    "id": "8Be77N4I1AmE"
   },
   "source": [
    "### Quality Issue 1:"
   ]
  },
  {
   "cell_type": "code",
   "execution_count": 209,
   "metadata": {
    "id": "iMhHyiyLM2I3"
   },
   "outputs": [
    {
     "data": {
      "text/html": [
       "<div>\n",
       "<style scoped>\n",
       "    .dataframe tbody tr th:only-of-type {\n",
       "        vertical-align: middle;\n",
       "    }\n",
       "\n",
       "    .dataframe tbody tr th {\n",
       "        vertical-align: top;\n",
       "    }\n",
       "\n",
       "    .dataframe thead th {\n",
       "        text-align: right;\n",
       "    }\n",
       "</style>\n",
       "<table border=\"1\" class=\"dataframe\">\n",
       "  <thead>\n",
       "    <tr style=\"text-align: right;\">\n",
       "      <th></th>\n",
       "      <th>Year</th>\n",
       "      <th>Cause of Death</th>\n",
       "      <th>State</th>\n",
       "      <th>State FIPS Code</th>\n",
       "      <th>HHS Region</th>\n",
       "      <th>Age Range</th>\n",
       "      <th>Benchmark</th>\n",
       "      <th>Locality</th>\n",
       "      <th>Observed Deaths</th>\n",
       "      <th>Population</th>\n",
       "      <th>Expected Deaths</th>\n",
       "      <th>Potentially Excess Deaths</th>\n",
       "      <th>Percent Potentially Excess Deaths</th>\n",
       "    </tr>\n",
       "  </thead>\n",
       "  <tbody>\n",
       "    <tr>\n",
       "      <th>0</th>\n",
       "      <td>2005</td>\n",
       "      <td>Cancer</td>\n",
       "      <td>Alabama</td>\n",
       "      <td>AL</td>\n",
       "      <td>4</td>\n",
       "      <td>0-49</td>\n",
       "      <td>2005 Fixed</td>\n",
       "      <td>All</td>\n",
       "      <td>756.0</td>\n",
       "      <td>3148377.0</td>\n",
       "      <td>451.0</td>\n",
       "      <td>305.0</td>\n",
       "      <td>40.3</td>\n",
       "    </tr>\n",
       "    <tr>\n",
       "      <th>1</th>\n",
       "      <td>2005</td>\n",
       "      <td>Cancer</td>\n",
       "      <td>Alabama</td>\n",
       "      <td>AL</td>\n",
       "      <td>4</td>\n",
       "      <td>0-49</td>\n",
       "      <td>2005 Fixed</td>\n",
       "      <td>Metropolitan</td>\n",
       "      <td>556.0</td>\n",
       "      <td>2379871.0</td>\n",
       "      <td>341.0</td>\n",
       "      <td>217.0</td>\n",
       "      <td>39.0</td>\n",
       "    </tr>\n",
       "    <tr>\n",
       "      <th>2</th>\n",
       "      <td>2005</td>\n",
       "      <td>Cancer</td>\n",
       "      <td>Alabama</td>\n",
       "      <td>AL</td>\n",
       "      <td>4</td>\n",
       "      <td>0-49</td>\n",
       "      <td>2005 Fixed</td>\n",
       "      <td>Nonmetropolitan</td>\n",
       "      <td>200.0</td>\n",
       "      <td>768506.0</td>\n",
       "      <td>111.0</td>\n",
       "      <td>89.0</td>\n",
       "      <td>44.5</td>\n",
       "    </tr>\n",
       "    <tr>\n",
       "      <th>3</th>\n",
       "      <td>2005</td>\n",
       "      <td>Cancer</td>\n",
       "      <td>Alabama</td>\n",
       "      <td>AL</td>\n",
       "      <td>4</td>\n",
       "      <td>0-49</td>\n",
       "      <td>2010 Fixed</td>\n",
       "      <td>All</td>\n",
       "      <td>756.0</td>\n",
       "      <td>3148377.0</td>\n",
       "      <td>421.0</td>\n",
       "      <td>335.0</td>\n",
       "      <td>44.3</td>\n",
       "    </tr>\n",
       "    <tr>\n",
       "      <th>4</th>\n",
       "      <td>2005</td>\n",
       "      <td>Cancer</td>\n",
       "      <td>Alabama</td>\n",
       "      <td>AL</td>\n",
       "      <td>4</td>\n",
       "      <td>0-49</td>\n",
       "      <td>2010 Fixed</td>\n",
       "      <td>Metropolitan</td>\n",
       "      <td>556.0</td>\n",
       "      <td>2379871.0</td>\n",
       "      <td>318.0</td>\n",
       "      <td>238.0</td>\n",
       "      <td>42.8</td>\n",
       "    </tr>\n",
       "  </tbody>\n",
       "</table>\n",
       "</div>"
      ],
      "text/plain": [
       "   Year Cause of Death    State State FIPS Code  HHS Region Age Range  \\\n",
       "0  2005         Cancer  Alabama              AL           4      0-49   \n",
       "1  2005         Cancer  Alabama              AL           4      0-49   \n",
       "2  2005         Cancer  Alabama              AL           4      0-49   \n",
       "3  2005         Cancer  Alabama              AL           4      0-49   \n",
       "4  2005         Cancer  Alabama              AL           4      0-49   \n",
       "\n",
       "    Benchmark         Locality  Observed Deaths  Population  Expected Deaths  \\\n",
       "0  2005 Fixed              All            756.0   3148377.0            451.0   \n",
       "1  2005 Fixed     Metropolitan            556.0   2379871.0            341.0   \n",
       "2  2005 Fixed  Nonmetropolitan            200.0    768506.0            111.0   \n",
       "3  2010 Fixed              All            756.0   3148377.0            421.0   \n",
       "4  2010 Fixed     Metropolitan            556.0   2379871.0            318.0   \n",
       "\n",
       "   Potentially Excess Deaths  Percent Potentially Excess Deaths  \n",
       "0                      305.0                               40.3  \n",
       "1                      217.0                               39.0  \n",
       "2                       89.0                               44.5  \n",
       "3                      335.0                               44.3  \n",
       "4                      238.0                               42.8  "
      ]
     },
     "execution_count": 209,
     "metadata": {},
     "output_type": "execute_result"
    }
   ],
   "source": [
    "#FILL IN - Inspecting the dataframe visually\n",
    "orig_death_df.head()"
   ]
  },
  {
   "cell_type": "code",
   "execution_count": 210,
   "metadata": {
    "id": "bnviRCUI-bb7",
    "scrolled": false
   },
   "outputs": [
    {
     "name": "stdout",
     "output_type": "stream",
     "text": [
      "<class 'pandas.core.frame.DataFrame'>\n",
      "RangeIndex: 205920 entries, 0 to 205919\n",
      "Data columns (total 13 columns):\n",
      " #   Column                             Non-Null Count   Dtype  \n",
      "---  ------                             --------------   -----  \n",
      " 0   Year                               205920 non-null  int64  \n",
      " 1   Cause of Death                     205920 non-null  object \n",
      " 2   State                              205920 non-null  object \n",
      " 3   State FIPS Code                    205920 non-null  object \n",
      " 4   HHS Region                         205920 non-null  int64  \n",
      " 5   Age Range                          205920 non-null  object \n",
      " 6   Benchmark                          205920 non-null  object \n",
      " 7   Locality                           205920 non-null  object \n",
      " 8   Observed Deaths                    195708 non-null  float64\n",
      " 9   Population                         200640 non-null  float64\n",
      " 10  Expected Deaths                    195708 non-null  float64\n",
      " 11  Potentially Excess Deaths          195708 non-null  float64\n",
      " 12  Percent Potentially Excess Deaths  195708 non-null  float64\n",
      "dtypes: float64(5), int64(2), object(6)\n",
      "memory usage: 20.4+ MB\n"
     ]
    }
   ],
   "source": [
    "#FILL IN - Inspecting the dataframe programmatically\n",
    "orig_death_df.info()"
   ]
  },
  {
   "cell_type": "markdown",
   "metadata": {},
   "source": [
    "Issue and justification: There are null values in the Observed Deaths and Population columns. These null values will not be helpful when calculating the percent of deaths, so I am choosing to remove them."
   ]
  },
  {
   "cell_type": "markdown",
   "metadata": {},
   "source": [
    "### Quality Issue 2:"
   ]
  },
  {
   "cell_type": "code",
   "execution_count": 211,
   "metadata": {
    "scrolled": true
   },
   "outputs": [
    {
     "data": {
      "text/html": [
       "<div>\n",
       "<style scoped>\n",
       "    .dataframe tbody tr th:only-of-type {\n",
       "        vertical-align: middle;\n",
       "    }\n",
       "\n",
       "    .dataframe tbody tr th {\n",
       "        vertical-align: top;\n",
       "    }\n",
       "\n",
       "    .dataframe thead th {\n",
       "        text-align: right;\n",
       "    }\n",
       "</style>\n",
       "<table border=\"1\" class=\"dataframe\">\n",
       "  <thead>\n",
       "    <tr style=\"text-align: right;\">\n",
       "      <th></th>\n",
       "      <th>COMPOUND</th>\n",
       "      <th>YEAR</th>\n",
       "      <th>STATE_CODE</th>\n",
       "      <th>COUNTY_CODE</th>\n",
       "      <th>LOW_ESTIMATE</th>\n",
       "      <th>HIGH_ESTIMATE</th>\n",
       "    </tr>\n",
       "  </thead>\n",
       "  <tbody>\n",
       "    <tr>\n",
       "      <th>0</th>\n",
       "      <td>1-Methyl Cyclopropene</td>\n",
       "      <td>2015</td>\n",
       "      <td>41</td>\n",
       "      <td>1</td>\n",
       "      <td>NaN</td>\n",
       "      <td>0.0</td>\n",
       "    </tr>\n",
       "    <tr>\n",
       "      <th>1</th>\n",
       "      <td>1-Methyl Cyclopropene</td>\n",
       "      <td>2015</td>\n",
       "      <td>41</td>\n",
       "      <td>21</td>\n",
       "      <td>NaN</td>\n",
       "      <td>0.1</td>\n",
       "    </tr>\n",
       "    <tr>\n",
       "      <th>2</th>\n",
       "      <td>1-Methyl Cyclopropene</td>\n",
       "      <td>2015</td>\n",
       "      <td>41</td>\n",
       "      <td>27</td>\n",
       "      <td>NaN</td>\n",
       "      <td>1.7</td>\n",
       "    </tr>\n",
       "    <tr>\n",
       "      <th>3</th>\n",
       "      <td>1-Methyl Cyclopropene</td>\n",
       "      <td>2015</td>\n",
       "      <td>41</td>\n",
       "      <td>49</td>\n",
       "      <td>NaN</td>\n",
       "      <td>0.1</td>\n",
       "    </tr>\n",
       "    <tr>\n",
       "      <th>4</th>\n",
       "      <td>1-Methyl Cyclopropene</td>\n",
       "      <td>2015</td>\n",
       "      <td>41</td>\n",
       "      <td>55</td>\n",
       "      <td>NaN</td>\n",
       "      <td>0.0</td>\n",
       "    </tr>\n",
       "  </tbody>\n",
       "</table>\n",
       "</div>"
      ],
      "text/plain": [
       "                COMPOUND  YEAR  STATE_CODE  COUNTY_CODE  LOW_ESTIMATE  \\\n",
       "0  1-Methyl Cyclopropene  2015          41            1           NaN   \n",
       "1  1-Methyl Cyclopropene  2015          41           21           NaN   \n",
       "2  1-Methyl Cyclopropene  2015          41           27           NaN   \n",
       "3  1-Methyl Cyclopropene  2015          41           49           NaN   \n",
       "4  1-Methyl Cyclopropene  2015          41           55           NaN   \n",
       "\n",
       "   HIGH_ESTIMATE  \n",
       "0            0.0  \n",
       "1            0.1  \n",
       "2            1.7  \n",
       "3            0.1  \n",
       "4            0.0  "
      ]
     },
     "execution_count": 211,
     "metadata": {},
     "output_type": "execute_result"
    }
   ],
   "source": [
    "#Inspecting the dataframe visually\n",
    "orig_pesticide_df.head()"
   ]
  },
  {
   "cell_type": "code",
   "execution_count": 212,
   "metadata": {},
   "outputs": [
    {
     "name": "stdout",
     "output_type": "stream",
     "text": [
      "<class 'pandas.core.frame.DataFrame'>\n",
      "RangeIndex: 369763 entries, 0 to 369762\n",
      "Data columns (total 6 columns):\n",
      " #   Column         Non-Null Count   Dtype  \n",
      "---  ------         --------------   -----  \n",
      " 0   COMPOUND       369763 non-null  object \n",
      " 1   YEAR           369763 non-null  int64  \n",
      " 2   STATE_CODE     369763 non-null  int64  \n",
      " 3   COUNTY_CODE    369763 non-null  int64  \n",
      " 4   LOW_ESTIMATE   247583 non-null  float64\n",
      " 5   HIGH_ESTIMATE  369763 non-null  float64\n",
      "dtypes: float64(2), int64(3), object(1)\n",
      "memory usage: 16.9+ MB\n"
     ]
    }
   ],
   "source": [
    "#Inspecting the dataframe programmatically\n",
    "orig_pesticide_df.info()"
   ]
  },
  {
   "cell_type": "markdown",
   "metadata": {},
   "source": [
    "Issue and justification: There are a great number of null values in the LOW_ESTIMATE column of the pesticide dataframe. I will drop that column and use the HIGH_ESTIMATE column to get the pesticide usage result."
   ]
  },
  {
   "cell_type": "markdown",
   "metadata": {
    "id": "adaK2iPNzVu4"
   },
   "source": [
    "### Quality Issue 3:"
   ]
  },
  {
   "cell_type": "code",
   "execution_count": 213,
   "metadata": {
    "id": "SpW59kh-zl8d"
   },
   "outputs": [
    {
     "data": {
      "text/html": [
       "<div>\n",
       "<style scoped>\n",
       "    .dataframe tbody tr th:only-of-type {\n",
       "        vertical-align: middle;\n",
       "    }\n",
       "\n",
       "    .dataframe tbody tr th {\n",
       "        vertical-align: top;\n",
       "    }\n",
       "\n",
       "    .dataframe thead th {\n",
       "        text-align: right;\n",
       "    }\n",
       "</style>\n",
       "<table border=\"1\" class=\"dataframe\">\n",
       "  <thead>\n",
       "    <tr style=\"text-align: right;\">\n",
       "      <th></th>\n",
       "      <th>Year</th>\n",
       "      <th>Cause of Death</th>\n",
       "      <th>State</th>\n",
       "      <th>State FIPS Code</th>\n",
       "      <th>HHS Region</th>\n",
       "      <th>Age Range</th>\n",
       "      <th>Benchmark</th>\n",
       "      <th>Locality</th>\n",
       "      <th>Observed Deaths</th>\n",
       "      <th>Population</th>\n",
       "      <th>Expected Deaths</th>\n",
       "      <th>Potentially Excess Deaths</th>\n",
       "      <th>Percent Potentially Excess Deaths</th>\n",
       "    </tr>\n",
       "  </thead>\n",
       "  <tbody>\n",
       "    <tr>\n",
       "      <th>0</th>\n",
       "      <td>2005</td>\n",
       "      <td>Cancer</td>\n",
       "      <td>Alabama</td>\n",
       "      <td>AL</td>\n",
       "      <td>4</td>\n",
       "      <td>0-49</td>\n",
       "      <td>2005 Fixed</td>\n",
       "      <td>All</td>\n",
       "      <td>756.0</td>\n",
       "      <td>3148377.0</td>\n",
       "      <td>451.0</td>\n",
       "      <td>305.0</td>\n",
       "      <td>40.3</td>\n",
       "    </tr>\n",
       "    <tr>\n",
       "      <th>1</th>\n",
       "      <td>2005</td>\n",
       "      <td>Cancer</td>\n",
       "      <td>Alabama</td>\n",
       "      <td>AL</td>\n",
       "      <td>4</td>\n",
       "      <td>0-49</td>\n",
       "      <td>2005 Fixed</td>\n",
       "      <td>Metropolitan</td>\n",
       "      <td>556.0</td>\n",
       "      <td>2379871.0</td>\n",
       "      <td>341.0</td>\n",
       "      <td>217.0</td>\n",
       "      <td>39.0</td>\n",
       "    </tr>\n",
       "    <tr>\n",
       "      <th>2</th>\n",
       "      <td>2005</td>\n",
       "      <td>Cancer</td>\n",
       "      <td>Alabama</td>\n",
       "      <td>AL</td>\n",
       "      <td>4</td>\n",
       "      <td>0-49</td>\n",
       "      <td>2005 Fixed</td>\n",
       "      <td>Nonmetropolitan</td>\n",
       "      <td>200.0</td>\n",
       "      <td>768506.0</td>\n",
       "      <td>111.0</td>\n",
       "      <td>89.0</td>\n",
       "      <td>44.5</td>\n",
       "    </tr>\n",
       "    <tr>\n",
       "      <th>3</th>\n",
       "      <td>2005</td>\n",
       "      <td>Cancer</td>\n",
       "      <td>Alabama</td>\n",
       "      <td>AL</td>\n",
       "      <td>4</td>\n",
       "      <td>0-49</td>\n",
       "      <td>2010 Fixed</td>\n",
       "      <td>All</td>\n",
       "      <td>756.0</td>\n",
       "      <td>3148377.0</td>\n",
       "      <td>421.0</td>\n",
       "      <td>335.0</td>\n",
       "      <td>44.3</td>\n",
       "    </tr>\n",
       "    <tr>\n",
       "      <th>4</th>\n",
       "      <td>2005</td>\n",
       "      <td>Cancer</td>\n",
       "      <td>Alabama</td>\n",
       "      <td>AL</td>\n",
       "      <td>4</td>\n",
       "      <td>0-49</td>\n",
       "      <td>2010 Fixed</td>\n",
       "      <td>Metropolitan</td>\n",
       "      <td>556.0</td>\n",
       "      <td>2379871.0</td>\n",
       "      <td>318.0</td>\n",
       "      <td>238.0</td>\n",
       "      <td>42.8</td>\n",
       "    </tr>\n",
       "  </tbody>\n",
       "</table>\n",
       "</div>"
      ],
      "text/plain": [
       "   Year Cause of Death    State State FIPS Code  HHS Region Age Range  \\\n",
       "0  2005         Cancer  Alabama              AL           4      0-49   \n",
       "1  2005         Cancer  Alabama              AL           4      0-49   \n",
       "2  2005         Cancer  Alabama              AL           4      0-49   \n",
       "3  2005         Cancer  Alabama              AL           4      0-49   \n",
       "4  2005         Cancer  Alabama              AL           4      0-49   \n",
       "\n",
       "    Benchmark         Locality  Observed Deaths  Population  Expected Deaths  \\\n",
       "0  2005 Fixed              All            756.0   3148377.0            451.0   \n",
       "1  2005 Fixed     Metropolitan            556.0   2379871.0            341.0   \n",
       "2  2005 Fixed  Nonmetropolitan            200.0    768506.0            111.0   \n",
       "3  2010 Fixed              All            756.0   3148377.0            421.0   \n",
       "4  2010 Fixed     Metropolitan            556.0   2379871.0            318.0   \n",
       "\n",
       "   Potentially Excess Deaths  Percent Potentially Excess Deaths  \n",
       "0                      305.0                               40.3  \n",
       "1                      217.0                               39.0  \n",
       "2                       89.0                               44.5  \n",
       "3                      335.0                               44.3  \n",
       "4                      238.0                               42.8  "
      ]
     },
     "execution_count": 213,
     "metadata": {},
     "output_type": "execute_result"
    }
   ],
   "source": [
    "#Inspecting the dataframe visually\n",
    "orig_death_df.head()"
   ]
  },
  {
   "cell_type": "code",
   "execution_count": 214,
   "metadata": {},
   "outputs": [
    {
     "data": {
      "text/plain": [
       "52"
      ]
     },
     "execution_count": 214,
     "metadata": {},
     "output_type": "execute_result"
    }
   ],
   "source": [
    "#FILL IN - Inspecting the dataframe programmatically\n",
    "orig_death_df.State.nunique()"
   ]
  },
  {
   "cell_type": "code",
   "execution_count": 215,
   "metadata": {},
   "outputs": [
    {
     "data": {
      "text/plain": [
       "array(['Alabama', 'Alaska', 'Arizona', 'Arkansas', 'Delaware',\n",
       "       'California', 'Colorado', 'Connecticut', 'New Jersey',\n",
       "       'District of\\nColumbia', 'Florida', 'Georgia', 'Hawaii', 'Idaho',\n",
       "       'Illinois', 'Indiana', 'Iowa', 'Rhode Island', 'Kansas',\n",
       "       'Kentucky', 'Louisiana', 'Maine', 'Maryland', 'Massachusetts',\n",
       "       'Michigan', 'Minnesota', 'Mississippi', 'Missouri', 'Montana',\n",
       "       'Nebraska', 'Nevada', 'New Hampshire', 'New Mexico', 'New York',\n",
       "       'North Carolina', 'North Dakota', 'Ohio', 'Oklahoma', 'Oregon',\n",
       "       'Pennsylvania', 'South Carolina', 'South Dakota', 'Tennessee',\n",
       "       'Texas', 'United States', 'Utah', 'Vermont', 'Virginia',\n",
       "       'Washington', 'West Virginia', 'Wisconsin', 'Wyoming'],\n",
       "      dtype=object)"
      ]
     },
     "execution_count": 215,
     "metadata": {},
     "output_type": "execute_result"
    }
   ],
   "source": [
    "#FILL IN - Inspecting the dataframe programmatically\n",
    "orig_death_df.State.unique()"
   ]
  },
  {
   "cell_type": "code",
   "execution_count": 216,
   "metadata": {},
   "outputs": [
    {
     "data": {
      "text/html": [
       "<div>\n",
       "<style scoped>\n",
       "    .dataframe tbody tr th:only-of-type {\n",
       "        vertical-align: middle;\n",
       "    }\n",
       "\n",
       "    .dataframe tbody tr th {\n",
       "        vertical-align: top;\n",
       "    }\n",
       "\n",
       "    .dataframe thead th {\n",
       "        text-align: right;\n",
       "    }\n",
       "</style>\n",
       "<table border=\"1\" class=\"dataframe\">\n",
       "  <thead>\n",
       "    <tr style=\"text-align: right;\">\n",
       "      <th></th>\n",
       "      <th>COMPOUND</th>\n",
       "      <th>YEAR</th>\n",
       "      <th>STATE_CODE</th>\n",
       "      <th>COUNTY_CODE</th>\n",
       "      <th>LOW_ESTIMATE</th>\n",
       "      <th>HIGH_ESTIMATE</th>\n",
       "    </tr>\n",
       "  </thead>\n",
       "  <tbody>\n",
       "    <tr>\n",
       "      <th>0</th>\n",
       "      <td>1-Methyl Cyclopropene</td>\n",
       "      <td>2015</td>\n",
       "      <td>41</td>\n",
       "      <td>1</td>\n",
       "      <td>NaN</td>\n",
       "      <td>0.0</td>\n",
       "    </tr>\n",
       "    <tr>\n",
       "      <th>1</th>\n",
       "      <td>1-Methyl Cyclopropene</td>\n",
       "      <td>2015</td>\n",
       "      <td>41</td>\n",
       "      <td>21</td>\n",
       "      <td>NaN</td>\n",
       "      <td>0.1</td>\n",
       "    </tr>\n",
       "    <tr>\n",
       "      <th>2</th>\n",
       "      <td>1-Methyl Cyclopropene</td>\n",
       "      <td>2015</td>\n",
       "      <td>41</td>\n",
       "      <td>27</td>\n",
       "      <td>NaN</td>\n",
       "      <td>1.7</td>\n",
       "    </tr>\n",
       "    <tr>\n",
       "      <th>3</th>\n",
       "      <td>1-Methyl Cyclopropene</td>\n",
       "      <td>2015</td>\n",
       "      <td>41</td>\n",
       "      <td>49</td>\n",
       "      <td>NaN</td>\n",
       "      <td>0.1</td>\n",
       "    </tr>\n",
       "    <tr>\n",
       "      <th>4</th>\n",
       "      <td>1-Methyl Cyclopropene</td>\n",
       "      <td>2015</td>\n",
       "      <td>41</td>\n",
       "      <td>55</td>\n",
       "      <td>NaN</td>\n",
       "      <td>0.0</td>\n",
       "    </tr>\n",
       "    <tr>\n",
       "      <th>5</th>\n",
       "      <td>1-Methyl Cyclopropene</td>\n",
       "      <td>2015</td>\n",
       "      <td>41</td>\n",
       "      <td>59</td>\n",
       "      <td>NaN</td>\n",
       "      <td>5.7</td>\n",
       "    </tr>\n",
       "    <tr>\n",
       "      <th>6</th>\n",
       "      <td>1-Methyl Cyclopropene</td>\n",
       "      <td>2015</td>\n",
       "      <td>41</td>\n",
       "      <td>61</td>\n",
       "      <td>NaN</td>\n",
       "      <td>0.0</td>\n",
       "    </tr>\n",
       "    <tr>\n",
       "      <th>7</th>\n",
       "      <td>1-Methyl Cyclopropene</td>\n",
       "      <td>2015</td>\n",
       "      <td>41</td>\n",
       "      <td>63</td>\n",
       "      <td>NaN</td>\n",
       "      <td>0.0</td>\n",
       "    </tr>\n",
       "    <tr>\n",
       "      <th>8</th>\n",
       "      <td>1-Methyl Cyclopropene</td>\n",
       "      <td>2015</td>\n",
       "      <td>41</td>\n",
       "      <td>65</td>\n",
       "      <td>NaN</td>\n",
       "      <td>0.1</td>\n",
       "    </tr>\n",
       "    <tr>\n",
       "      <th>9</th>\n",
       "      <td>1-Methyl Cyclopropene</td>\n",
       "      <td>2015</td>\n",
       "      <td>53</td>\n",
       "      <td>1</td>\n",
       "      <td>NaN</td>\n",
       "      <td>10.6</td>\n",
       "    </tr>\n",
       "    <tr>\n",
       "      <th>10</th>\n",
       "      <td>1-Methyl Cyclopropene</td>\n",
       "      <td>2015</td>\n",
       "      <td>53</td>\n",
       "      <td>3</td>\n",
       "      <td>0.0</td>\n",
       "      <td>0.0</td>\n",
       "    </tr>\n",
       "    <tr>\n",
       "      <th>11</th>\n",
       "      <td>1-Methyl Cyclopropene</td>\n",
       "      <td>2015</td>\n",
       "      <td>53</td>\n",
       "      <td>5</td>\n",
       "      <td>31.5</td>\n",
       "      <td>31.5</td>\n",
       "    </tr>\n",
       "    <tr>\n",
       "      <th>12</th>\n",
       "      <td>1-Methyl Cyclopropene</td>\n",
       "      <td>2015</td>\n",
       "      <td>53</td>\n",
       "      <td>7</td>\n",
       "      <td>13.5</td>\n",
       "      <td>13.5</td>\n",
       "    </tr>\n",
       "    <tr>\n",
       "      <th>13</th>\n",
       "      <td>1-Methyl Cyclopropene</td>\n",
       "      <td>2015</td>\n",
       "      <td>53</td>\n",
       "      <td>9</td>\n",
       "      <td>0.1</td>\n",
       "      <td>0.1</td>\n",
       "    </tr>\n",
       "    <tr>\n",
       "      <th>14</th>\n",
       "      <td>1-Methyl Cyclopropene</td>\n",
       "      <td>2015</td>\n",
       "      <td>53</td>\n",
       "      <td>11</td>\n",
       "      <td>0.2</td>\n",
       "      <td>0.2</td>\n",
       "    </tr>\n",
       "  </tbody>\n",
       "</table>\n",
       "</div>"
      ],
      "text/plain": [
       "                 COMPOUND  YEAR  STATE_CODE  COUNTY_CODE  LOW_ESTIMATE  \\\n",
       "0   1-Methyl Cyclopropene  2015          41            1           NaN   \n",
       "1   1-Methyl Cyclopropene  2015          41           21           NaN   \n",
       "2   1-Methyl Cyclopropene  2015          41           27           NaN   \n",
       "3   1-Methyl Cyclopropene  2015          41           49           NaN   \n",
       "4   1-Methyl Cyclopropene  2015          41           55           NaN   \n",
       "5   1-Methyl Cyclopropene  2015          41           59           NaN   \n",
       "6   1-Methyl Cyclopropene  2015          41           61           NaN   \n",
       "7   1-Methyl Cyclopropene  2015          41           63           NaN   \n",
       "8   1-Methyl Cyclopropene  2015          41           65           NaN   \n",
       "9   1-Methyl Cyclopropene  2015          53            1           NaN   \n",
       "10  1-Methyl Cyclopropene  2015          53            3           0.0   \n",
       "11  1-Methyl Cyclopropene  2015          53            5          31.5   \n",
       "12  1-Methyl Cyclopropene  2015          53            7          13.5   \n",
       "13  1-Methyl Cyclopropene  2015          53            9           0.1   \n",
       "14  1-Methyl Cyclopropene  2015          53           11           0.2   \n",
       "\n",
       "    HIGH_ESTIMATE  \n",
       "0             0.0  \n",
       "1             0.1  \n",
       "2             1.7  \n",
       "3             0.1  \n",
       "4             0.0  \n",
       "5             5.7  \n",
       "6             0.0  \n",
       "7             0.0  \n",
       "8             0.1  \n",
       "9            10.6  \n",
       "10            0.0  \n",
       "11           31.5  \n",
       "12           13.5  \n",
       "13            0.1  \n",
       "14            0.2  "
      ]
     },
     "execution_count": 216,
     "metadata": {},
     "output_type": "execute_result"
    }
   ],
   "source": [
    "#FILL IN - Inspecting the dataframe visually\n",
    "orig_pesticide_df.head(15)"
   ]
  },
  {
   "cell_type": "code",
   "execution_count": 217,
   "metadata": {},
   "outputs": [
    {
     "data": {
      "text/plain": [
       "47"
      ]
     },
     "execution_count": 217,
     "metadata": {},
     "output_type": "execute_result"
    }
   ],
   "source": [
    "#Inspecting the dataframe programmatically\n",
    "orig_pesticide_df.STATE_CODE.nunique()"
   ]
  },
  {
   "cell_type": "markdown",
   "metadata": {},
   "source": [
    "Issue and justification: I will eventually merge the dataframes based on the State columns. I need to determine if all or the same states are in each dataframe. In the death dataframe there are 52 unique values in the state column. In the pesticide dataframe there or only 47 unique values in the STATE_CODE column. It appears that we have 5 more states in the death dataframe than we do in the pesticide dataframe. Because we will not have pesticide data for some of the states, we will need to remove those states in the clean dataframe."
   ]
  },
  {
   "cell_type": "markdown",
   "metadata": {
    "id": "4ffMoRGSwzYj"
   },
   "source": [
    "### Tidiness Issue 1: "
   ]
  },
  {
   "cell_type": "code",
   "execution_count": 218,
   "metadata": {
    "id": "XUpeoqokw5Qt"
   },
   "outputs": [
    {
     "data": {
      "text/html": [
       "<div>\n",
       "<style scoped>\n",
       "    .dataframe tbody tr th:only-of-type {\n",
       "        vertical-align: middle;\n",
       "    }\n",
       "\n",
       "    .dataframe tbody tr th {\n",
       "        vertical-align: top;\n",
       "    }\n",
       "\n",
       "    .dataframe thead th {\n",
       "        text-align: right;\n",
       "    }\n",
       "</style>\n",
       "<table border=\"1\" class=\"dataframe\">\n",
       "  <thead>\n",
       "    <tr style=\"text-align: right;\">\n",
       "      <th></th>\n",
       "      <th>COMPOUND</th>\n",
       "      <th>YEAR</th>\n",
       "      <th>STATE_CODE</th>\n",
       "      <th>COUNTY_CODE</th>\n",
       "      <th>LOW_ESTIMATE</th>\n",
       "      <th>HIGH_ESTIMATE</th>\n",
       "    </tr>\n",
       "  </thead>\n",
       "  <tbody>\n",
       "    <tr>\n",
       "      <th>0</th>\n",
       "      <td>1-Methyl Cyclopropene</td>\n",
       "      <td>2015</td>\n",
       "      <td>41</td>\n",
       "      <td>1</td>\n",
       "      <td>NaN</td>\n",
       "      <td>0.0</td>\n",
       "    </tr>\n",
       "    <tr>\n",
       "      <th>1</th>\n",
       "      <td>1-Methyl Cyclopropene</td>\n",
       "      <td>2015</td>\n",
       "      <td>41</td>\n",
       "      <td>21</td>\n",
       "      <td>NaN</td>\n",
       "      <td>0.1</td>\n",
       "    </tr>\n",
       "    <tr>\n",
       "      <th>2</th>\n",
       "      <td>1-Methyl Cyclopropene</td>\n",
       "      <td>2015</td>\n",
       "      <td>41</td>\n",
       "      <td>27</td>\n",
       "      <td>NaN</td>\n",
       "      <td>1.7</td>\n",
       "    </tr>\n",
       "    <tr>\n",
       "      <th>3</th>\n",
       "      <td>1-Methyl Cyclopropene</td>\n",
       "      <td>2015</td>\n",
       "      <td>41</td>\n",
       "      <td>49</td>\n",
       "      <td>NaN</td>\n",
       "      <td>0.1</td>\n",
       "    </tr>\n",
       "    <tr>\n",
       "      <th>4</th>\n",
       "      <td>1-Methyl Cyclopropene</td>\n",
       "      <td>2015</td>\n",
       "      <td>41</td>\n",
       "      <td>55</td>\n",
       "      <td>NaN</td>\n",
       "      <td>0.0</td>\n",
       "    </tr>\n",
       "  </tbody>\n",
       "</table>\n",
       "</div>"
      ],
      "text/plain": [
       "                COMPOUND  YEAR  STATE_CODE  COUNTY_CODE  LOW_ESTIMATE  \\\n",
       "0  1-Methyl Cyclopropene  2015          41            1           NaN   \n",
       "1  1-Methyl Cyclopropene  2015          41           21           NaN   \n",
       "2  1-Methyl Cyclopropene  2015          41           27           NaN   \n",
       "3  1-Methyl Cyclopropene  2015          41           49           NaN   \n",
       "4  1-Methyl Cyclopropene  2015          41           55           NaN   \n",
       "\n",
       "   HIGH_ESTIMATE  \n",
       "0            0.0  \n",
       "1            0.1  \n",
       "2            1.7  \n",
       "3            0.1  \n",
       "4            0.0  "
      ]
     },
     "execution_count": 218,
     "metadata": {},
     "output_type": "execute_result"
    }
   ],
   "source": [
    "#Inspecting the dataframe visually\n",
    "orig_pesticide_df.head()"
   ]
  },
  {
   "cell_type": "code",
   "execution_count": 219,
   "metadata": {
    "id": "c8JK4DoXxtFA",
    "scrolled": true
   },
   "outputs": [
    {
     "data": {
      "text/plain": [
       "array([41, 53,  1,  4,  5,  8,  9, 10, 12, 13, 16, 17, 18, 19, 20, 21, 22,\n",
       "       23, 24, 25, 26, 27, 28, 29, 30, 31, 32, 33, 34, 35, 36, 37, 38, 39,\n",
       "       40, 42, 44, 45, 46, 47, 48, 49, 50, 51, 54, 55, 56])"
      ]
     },
     "execution_count": 219,
     "metadata": {},
     "output_type": "execute_result"
    }
   ],
   "source": [
    "#Inspecting the dataframe programmatically\n",
    "orig_pesticide_df['STATE_CODE'].unique()"
   ]
  },
  {
   "cell_type": "code",
   "execution_count": 220,
   "metadata": {},
   "outputs": [
    {
     "data": {
      "text/html": [
       "<div>\n",
       "<style scoped>\n",
       "    .dataframe tbody tr th:only-of-type {\n",
       "        vertical-align: middle;\n",
       "    }\n",
       "\n",
       "    .dataframe tbody tr th {\n",
       "        vertical-align: top;\n",
       "    }\n",
       "\n",
       "    .dataframe thead th {\n",
       "        text-align: right;\n",
       "    }\n",
       "</style>\n",
       "<table border=\"1\" class=\"dataframe\">\n",
       "  <thead>\n",
       "    <tr style=\"text-align: right;\">\n",
       "      <th></th>\n",
       "      <th>STATE_CODE</th>\n",
       "      <th>COUNTY_CODE</th>\n",
       "      <th>COUNTY</th>\n",
       "      <th>STATE</th>\n",
       "    </tr>\n",
       "  </thead>\n",
       "  <tbody>\n",
       "    <tr>\n",
       "      <th>0</th>\n",
       "      <td>1</td>\n",
       "      <td>1</td>\n",
       "      <td>Autauga County</td>\n",
       "      <td>AL</td>\n",
       "    </tr>\n",
       "    <tr>\n",
       "      <th>1</th>\n",
       "      <td>1</td>\n",
       "      <td>3</td>\n",
       "      <td>Baldwin County</td>\n",
       "      <td>AL</td>\n",
       "    </tr>\n",
       "    <tr>\n",
       "      <th>2</th>\n",
       "      <td>1</td>\n",
       "      <td>5</td>\n",
       "      <td>Barbour County</td>\n",
       "      <td>AL</td>\n",
       "    </tr>\n",
       "    <tr>\n",
       "      <th>3</th>\n",
       "      <td>1</td>\n",
       "      <td>7</td>\n",
       "      <td>Bibb County</td>\n",
       "      <td>AL</td>\n",
       "    </tr>\n",
       "    <tr>\n",
       "      <th>4</th>\n",
       "      <td>1</td>\n",
       "      <td>9</td>\n",
       "      <td>Blount County</td>\n",
       "      <td>AL</td>\n",
       "    </tr>\n",
       "  </tbody>\n",
       "</table>\n",
       "</div>"
      ],
      "text/plain": [
       "   STATE_CODE  COUNTY_CODE          COUNTY STATE\n",
       "0           1            1  Autauga County    AL\n",
       "1           1            3  Baldwin County    AL\n",
       "2           1            5  Barbour County    AL\n",
       "3           1            7     Bibb County    AL\n",
       "4           1            9   Blount County    AL"
      ]
     },
     "execution_count": 220,
     "metadata": {},
     "output_type": "execute_result"
    }
   ],
   "source": [
    "p_dictionary.head()"
   ]
  },
  {
   "cell_type": "markdown",
   "metadata": {},
   "source": [
    "Issue and justification: In the pesticide dataframe we have the STATE_CODE column but it does not have a column for the state's name. We will need to add the State column from the pesticide dictionary dataframe based on the state code."
   ]
  },
  {
   "cell_type": "markdown",
   "metadata": {},
   "source": [
    "### Tidiness Issue 2: "
   ]
  },
  {
   "cell_type": "code",
   "execution_count": 221,
   "metadata": {},
   "outputs": [
    {
     "data": {
      "text/html": [
       "<div>\n",
       "<style scoped>\n",
       "    .dataframe tbody tr th:only-of-type {\n",
       "        vertical-align: middle;\n",
       "    }\n",
       "\n",
       "    .dataframe tbody tr th {\n",
       "        vertical-align: top;\n",
       "    }\n",
       "\n",
       "    .dataframe thead th {\n",
       "        text-align: right;\n",
       "    }\n",
       "</style>\n",
       "<table border=\"1\" class=\"dataframe\">\n",
       "  <thead>\n",
       "    <tr style=\"text-align: right;\">\n",
       "      <th></th>\n",
       "      <th>Year</th>\n",
       "      <th>Cause of Death</th>\n",
       "      <th>State</th>\n",
       "      <th>State FIPS Code</th>\n",
       "      <th>HHS Region</th>\n",
       "      <th>Age Range</th>\n",
       "      <th>Benchmark</th>\n",
       "      <th>Locality</th>\n",
       "      <th>Observed Deaths</th>\n",
       "      <th>Population</th>\n",
       "      <th>Expected Deaths</th>\n",
       "      <th>Potentially Excess Deaths</th>\n",
       "      <th>Percent Potentially Excess Deaths</th>\n",
       "    </tr>\n",
       "  </thead>\n",
       "  <tbody>\n",
       "    <tr>\n",
       "      <th>0</th>\n",
       "      <td>2005</td>\n",
       "      <td>Cancer</td>\n",
       "      <td>Alabama</td>\n",
       "      <td>AL</td>\n",
       "      <td>4</td>\n",
       "      <td>0-49</td>\n",
       "      <td>2005 Fixed</td>\n",
       "      <td>All</td>\n",
       "      <td>756.0</td>\n",
       "      <td>3148377.0</td>\n",
       "      <td>451.0</td>\n",
       "      <td>305.0</td>\n",
       "      <td>40.3</td>\n",
       "    </tr>\n",
       "    <tr>\n",
       "      <th>1</th>\n",
       "      <td>2005</td>\n",
       "      <td>Cancer</td>\n",
       "      <td>Alabama</td>\n",
       "      <td>AL</td>\n",
       "      <td>4</td>\n",
       "      <td>0-49</td>\n",
       "      <td>2005 Fixed</td>\n",
       "      <td>Metropolitan</td>\n",
       "      <td>556.0</td>\n",
       "      <td>2379871.0</td>\n",
       "      <td>341.0</td>\n",
       "      <td>217.0</td>\n",
       "      <td>39.0</td>\n",
       "    </tr>\n",
       "    <tr>\n",
       "      <th>2</th>\n",
       "      <td>2005</td>\n",
       "      <td>Cancer</td>\n",
       "      <td>Alabama</td>\n",
       "      <td>AL</td>\n",
       "      <td>4</td>\n",
       "      <td>0-49</td>\n",
       "      <td>2005 Fixed</td>\n",
       "      <td>Nonmetropolitan</td>\n",
       "      <td>200.0</td>\n",
       "      <td>768506.0</td>\n",
       "      <td>111.0</td>\n",
       "      <td>89.0</td>\n",
       "      <td>44.5</td>\n",
       "    </tr>\n",
       "    <tr>\n",
       "      <th>3</th>\n",
       "      <td>2005</td>\n",
       "      <td>Cancer</td>\n",
       "      <td>Alabama</td>\n",
       "      <td>AL</td>\n",
       "      <td>4</td>\n",
       "      <td>0-49</td>\n",
       "      <td>2010 Fixed</td>\n",
       "      <td>All</td>\n",
       "      <td>756.0</td>\n",
       "      <td>3148377.0</td>\n",
       "      <td>421.0</td>\n",
       "      <td>335.0</td>\n",
       "      <td>44.3</td>\n",
       "    </tr>\n",
       "    <tr>\n",
       "      <th>4</th>\n",
       "      <td>2005</td>\n",
       "      <td>Cancer</td>\n",
       "      <td>Alabama</td>\n",
       "      <td>AL</td>\n",
       "      <td>4</td>\n",
       "      <td>0-49</td>\n",
       "      <td>2010 Fixed</td>\n",
       "      <td>Metropolitan</td>\n",
       "      <td>556.0</td>\n",
       "      <td>2379871.0</td>\n",
       "      <td>318.0</td>\n",
       "      <td>238.0</td>\n",
       "      <td>42.8</td>\n",
       "    </tr>\n",
       "  </tbody>\n",
       "</table>\n",
       "</div>"
      ],
      "text/plain": [
       "   Year Cause of Death    State State FIPS Code  HHS Region Age Range  \\\n",
       "0  2005         Cancer  Alabama              AL           4      0-49   \n",
       "1  2005         Cancer  Alabama              AL           4      0-49   \n",
       "2  2005         Cancer  Alabama              AL           4      0-49   \n",
       "3  2005         Cancer  Alabama              AL           4      0-49   \n",
       "4  2005         Cancer  Alabama              AL           4      0-49   \n",
       "\n",
       "    Benchmark         Locality  Observed Deaths  Population  Expected Deaths  \\\n",
       "0  2005 Fixed              All            756.0   3148377.0            451.0   \n",
       "1  2005 Fixed     Metropolitan            556.0   2379871.0            341.0   \n",
       "2  2005 Fixed  Nonmetropolitan            200.0    768506.0            111.0   \n",
       "3  2010 Fixed              All            756.0   3148377.0            421.0   \n",
       "4  2010 Fixed     Metropolitan            556.0   2379871.0            318.0   \n",
       "\n",
       "   Potentially Excess Deaths  Percent Potentially Excess Deaths  \n",
       "0                      305.0                               40.3  \n",
       "1                      217.0                               39.0  \n",
       "2                       89.0                               44.5  \n",
       "3                      335.0                               44.3  \n",
       "4                      238.0                               42.8  "
      ]
     },
     "execution_count": 221,
     "metadata": {},
     "output_type": "execute_result"
    }
   ],
   "source": [
    "#Inspecting the dataframe visually\n",
    "orig_death_df.head() "
   ]
  },
  {
   "cell_type": "code",
   "execution_count": 222,
   "metadata": {},
   "outputs": [
    {
     "data": {
      "text/plain": [
       "array(['Cancer', 'Chronic Lower Respiratory Disease', 'Heart Disease',\n",
       "       'Stroke', 'Unintentional Injury'], dtype=object)"
      ]
     },
     "execution_count": 222,
     "metadata": {},
     "output_type": "execute_result"
    }
   ],
   "source": [
    "#Inspecting the dataframe programmatically\n",
    "orig_death_df['Cause of Death'].unique()"
   ]
  },
  {
   "cell_type": "markdown",
   "metadata": {},
   "source": [
    "Issue and justification: The death dataframe includes the top 5 causes of death. For this project, we will only need to include the data where the cause of death is cancer. I will remove the rows where the cause of the death is Chronic Lower Respiratory Disease, Heart Disease, Stroke, or Unintentional Injury."
   ]
  },
  {
   "cell_type": "markdown",
   "metadata": {},
   "source": [
    "### Tidiness Issue 3:"
   ]
  },
  {
   "cell_type": "code",
   "execution_count": 223,
   "metadata": {},
   "outputs": [
    {
     "data": {
      "text/html": [
       "<div>\n",
       "<style scoped>\n",
       "    .dataframe tbody tr th:only-of-type {\n",
       "        vertical-align: middle;\n",
       "    }\n",
       "\n",
       "    .dataframe tbody tr th {\n",
       "        vertical-align: top;\n",
       "    }\n",
       "\n",
       "    .dataframe thead th {\n",
       "        text-align: right;\n",
       "    }\n",
       "</style>\n",
       "<table border=\"1\" class=\"dataframe\">\n",
       "  <thead>\n",
       "    <tr style=\"text-align: right;\">\n",
       "      <th></th>\n",
       "      <th>Year</th>\n",
       "      <th>Cause of Death</th>\n",
       "      <th>State</th>\n",
       "      <th>State FIPS Code</th>\n",
       "      <th>HHS Region</th>\n",
       "      <th>Age Range</th>\n",
       "      <th>Benchmark</th>\n",
       "      <th>Locality</th>\n",
       "      <th>Observed Deaths</th>\n",
       "      <th>Population</th>\n",
       "      <th>Expected Deaths</th>\n",
       "      <th>Potentially Excess Deaths</th>\n",
       "      <th>Percent Potentially Excess Deaths</th>\n",
       "    </tr>\n",
       "  </thead>\n",
       "  <tbody>\n",
       "    <tr>\n",
       "      <th>0</th>\n",
       "      <td>2005</td>\n",
       "      <td>Cancer</td>\n",
       "      <td>Alabama</td>\n",
       "      <td>AL</td>\n",
       "      <td>4</td>\n",
       "      <td>0-49</td>\n",
       "      <td>2005 Fixed</td>\n",
       "      <td>All</td>\n",
       "      <td>756.0</td>\n",
       "      <td>3148377.0</td>\n",
       "      <td>451.0</td>\n",
       "      <td>305.0</td>\n",
       "      <td>40.3</td>\n",
       "    </tr>\n",
       "    <tr>\n",
       "      <th>1</th>\n",
       "      <td>2005</td>\n",
       "      <td>Cancer</td>\n",
       "      <td>Alabama</td>\n",
       "      <td>AL</td>\n",
       "      <td>4</td>\n",
       "      <td>0-49</td>\n",
       "      <td>2005 Fixed</td>\n",
       "      <td>Metropolitan</td>\n",
       "      <td>556.0</td>\n",
       "      <td>2379871.0</td>\n",
       "      <td>341.0</td>\n",
       "      <td>217.0</td>\n",
       "      <td>39.0</td>\n",
       "    </tr>\n",
       "    <tr>\n",
       "      <th>2</th>\n",
       "      <td>2005</td>\n",
       "      <td>Cancer</td>\n",
       "      <td>Alabama</td>\n",
       "      <td>AL</td>\n",
       "      <td>4</td>\n",
       "      <td>0-49</td>\n",
       "      <td>2005 Fixed</td>\n",
       "      <td>Nonmetropolitan</td>\n",
       "      <td>200.0</td>\n",
       "      <td>768506.0</td>\n",
       "      <td>111.0</td>\n",
       "      <td>89.0</td>\n",
       "      <td>44.5</td>\n",
       "    </tr>\n",
       "    <tr>\n",
       "      <th>3</th>\n",
       "      <td>2005</td>\n",
       "      <td>Cancer</td>\n",
       "      <td>Alabama</td>\n",
       "      <td>AL</td>\n",
       "      <td>4</td>\n",
       "      <td>0-49</td>\n",
       "      <td>2010 Fixed</td>\n",
       "      <td>All</td>\n",
       "      <td>756.0</td>\n",
       "      <td>3148377.0</td>\n",
       "      <td>421.0</td>\n",
       "      <td>335.0</td>\n",
       "      <td>44.3</td>\n",
       "    </tr>\n",
       "    <tr>\n",
       "      <th>4</th>\n",
       "      <td>2005</td>\n",
       "      <td>Cancer</td>\n",
       "      <td>Alabama</td>\n",
       "      <td>AL</td>\n",
       "      <td>4</td>\n",
       "      <td>0-49</td>\n",
       "      <td>2010 Fixed</td>\n",
       "      <td>Metropolitan</td>\n",
       "      <td>556.0</td>\n",
       "      <td>2379871.0</td>\n",
       "      <td>318.0</td>\n",
       "      <td>238.0</td>\n",
       "      <td>42.8</td>\n",
       "    </tr>\n",
       "  </tbody>\n",
       "</table>\n",
       "</div>"
      ],
      "text/plain": [
       "   Year Cause of Death    State State FIPS Code  HHS Region Age Range  \\\n",
       "0  2005         Cancer  Alabama              AL           4      0-49   \n",
       "1  2005         Cancer  Alabama              AL           4      0-49   \n",
       "2  2005         Cancer  Alabama              AL           4      0-49   \n",
       "3  2005         Cancer  Alabama              AL           4      0-49   \n",
       "4  2005         Cancer  Alabama              AL           4      0-49   \n",
       "\n",
       "    Benchmark         Locality  Observed Deaths  Population  Expected Deaths  \\\n",
       "0  2005 Fixed              All            756.0   3148377.0            451.0   \n",
       "1  2005 Fixed     Metropolitan            556.0   2379871.0            341.0   \n",
       "2  2005 Fixed  Nonmetropolitan            200.0    768506.0            111.0   \n",
       "3  2010 Fixed              All            756.0   3148377.0            421.0   \n",
       "4  2010 Fixed     Metropolitan            556.0   2379871.0            318.0   \n",
       "\n",
       "   Potentially Excess Deaths  Percent Potentially Excess Deaths  \n",
       "0                      305.0                               40.3  \n",
       "1                      217.0                               39.0  \n",
       "2                       89.0                               44.5  \n",
       "3                      335.0                               44.3  \n",
       "4                      238.0                               42.8  "
      ]
     },
     "execution_count": 223,
     "metadata": {},
     "output_type": "execute_result"
    }
   ],
   "source": [
    "#Inspecting the dataframe visually\n",
    "orig_death_df.head()"
   ]
  },
  {
   "cell_type": "code",
   "execution_count": 224,
   "metadata": {},
   "outputs": [
    {
     "data": {
      "text/plain": [
       "array(['All', 'Metropolitan', 'Nonmetropolitan'], dtype=object)"
      ]
     },
     "execution_count": 224,
     "metadata": {},
     "output_type": "execute_result"
    }
   ],
   "source": [
    "#Inspecting the dataframe programmatically\n",
    "orig_death_df.Locality.unique()"
   ]
  },
  {
   "cell_type": "markdown",
   "metadata": {},
   "source": [
    "Issue and justification: The Locality columns breaks out the location by Metropolitan and Non-Metropolitan. I am choosing to include both location types in my research, so I will only be including the rows where Locality is \"All\", and removing the rows that have \"Metropolitan\" or \"Nonmetropolitan\"."
   ]
  },
  {
   "cell_type": "markdown",
   "metadata": {},
   "source": [
    "### Tidiness Issue 4: "
   ]
  },
  {
   "cell_type": "code",
   "execution_count": 225,
   "metadata": {},
   "outputs": [
    {
     "data": {
      "text/html": [
       "<div>\n",
       "<style scoped>\n",
       "    .dataframe tbody tr th:only-of-type {\n",
       "        vertical-align: middle;\n",
       "    }\n",
       "\n",
       "    .dataframe tbody tr th {\n",
       "        vertical-align: top;\n",
       "    }\n",
       "\n",
       "    .dataframe thead th {\n",
       "        text-align: right;\n",
       "    }\n",
       "</style>\n",
       "<table border=\"1\" class=\"dataframe\">\n",
       "  <thead>\n",
       "    <tr style=\"text-align: right;\">\n",
       "      <th></th>\n",
       "      <th>COMPOUND</th>\n",
       "      <th>YEAR</th>\n",
       "      <th>STATE_CODE</th>\n",
       "      <th>COUNTY_CODE</th>\n",
       "      <th>LOW_ESTIMATE</th>\n",
       "      <th>HIGH_ESTIMATE</th>\n",
       "    </tr>\n",
       "  </thead>\n",
       "  <tbody>\n",
       "    <tr>\n",
       "      <th>0</th>\n",
       "      <td>1-Methyl Cyclopropene</td>\n",
       "      <td>2015</td>\n",
       "      <td>41</td>\n",
       "      <td>1</td>\n",
       "      <td>NaN</td>\n",
       "      <td>0.0</td>\n",
       "    </tr>\n",
       "    <tr>\n",
       "      <th>1</th>\n",
       "      <td>1-Methyl Cyclopropene</td>\n",
       "      <td>2015</td>\n",
       "      <td>41</td>\n",
       "      <td>21</td>\n",
       "      <td>NaN</td>\n",
       "      <td>0.1</td>\n",
       "    </tr>\n",
       "    <tr>\n",
       "      <th>2</th>\n",
       "      <td>1-Methyl Cyclopropene</td>\n",
       "      <td>2015</td>\n",
       "      <td>41</td>\n",
       "      <td>27</td>\n",
       "      <td>NaN</td>\n",
       "      <td>1.7</td>\n",
       "    </tr>\n",
       "    <tr>\n",
       "      <th>3</th>\n",
       "      <td>1-Methyl Cyclopropene</td>\n",
       "      <td>2015</td>\n",
       "      <td>41</td>\n",
       "      <td>49</td>\n",
       "      <td>NaN</td>\n",
       "      <td>0.1</td>\n",
       "    </tr>\n",
       "    <tr>\n",
       "      <th>4</th>\n",
       "      <td>1-Methyl Cyclopropene</td>\n",
       "      <td>2015</td>\n",
       "      <td>41</td>\n",
       "      <td>55</td>\n",
       "      <td>NaN</td>\n",
       "      <td>0.0</td>\n",
       "    </tr>\n",
       "  </tbody>\n",
       "</table>\n",
       "</div>"
      ],
      "text/plain": [
       "                COMPOUND  YEAR  STATE_CODE  COUNTY_CODE  LOW_ESTIMATE  \\\n",
       "0  1-Methyl Cyclopropene  2015          41            1           NaN   \n",
       "1  1-Methyl Cyclopropene  2015          41           21           NaN   \n",
       "2  1-Methyl Cyclopropene  2015          41           27           NaN   \n",
       "3  1-Methyl Cyclopropene  2015          41           49           NaN   \n",
       "4  1-Methyl Cyclopropene  2015          41           55           NaN   \n",
       "\n",
       "   HIGH_ESTIMATE  \n",
       "0            0.0  \n",
       "1            0.1  \n",
       "2            1.7  \n",
       "3            0.1  \n",
       "4            0.0  "
      ]
     },
     "execution_count": 225,
     "metadata": {},
     "output_type": "execute_result"
    }
   ],
   "source": [
    "#Inspecting the dataframe visually\n",
    "orig_pesticide_df.head()"
   ]
  },
  {
   "cell_type": "code",
   "execution_count": 226,
   "metadata": {},
   "outputs": [
    {
     "data": {
      "text/plain": [
       "343"
      ]
     },
     "execution_count": 226,
     "metadata": {},
     "output_type": "execute_result"
    }
   ],
   "source": [
    "#Inspecting the dataframe programmatically\n",
    "orig_pesticide_df.COMPOUND.nunique()"
   ]
  },
  {
   "cell_type": "markdown",
   "metadata": {},
   "source": [
    "Issue and justification: There are 343 unique pesticide names in the COMPOUND column. I will need to get the median of the HIGH_ESTIMATE column by grouping all Compounds together, so that I will have one result for each state."
   ]
  },
  {
   "cell_type": "markdown",
   "metadata": {},
   "source": [
    "### Tidiness Issue 5:"
   ]
  },
  {
   "cell_type": "code",
   "execution_count": 227,
   "metadata": {},
   "outputs": [
    {
     "data": {
      "text/html": [
       "<div>\n",
       "<style scoped>\n",
       "    .dataframe tbody tr th:only-of-type {\n",
       "        vertical-align: middle;\n",
       "    }\n",
       "\n",
       "    .dataframe tbody tr th {\n",
       "        vertical-align: top;\n",
       "    }\n",
       "\n",
       "    .dataframe thead th {\n",
       "        text-align: right;\n",
       "    }\n",
       "</style>\n",
       "<table border=\"1\" class=\"dataframe\">\n",
       "  <thead>\n",
       "    <tr style=\"text-align: right;\">\n",
       "      <th></th>\n",
       "      <th>Year</th>\n",
       "      <th>Cause of Death</th>\n",
       "      <th>State</th>\n",
       "      <th>State FIPS Code</th>\n",
       "      <th>HHS Region</th>\n",
       "      <th>Age Range</th>\n",
       "      <th>Benchmark</th>\n",
       "      <th>Locality</th>\n",
       "      <th>Observed Deaths</th>\n",
       "      <th>Population</th>\n",
       "      <th>Expected Deaths</th>\n",
       "      <th>Potentially Excess Deaths</th>\n",
       "      <th>Percent Potentially Excess Deaths</th>\n",
       "    </tr>\n",
       "  </thead>\n",
       "  <tbody>\n",
       "    <tr>\n",
       "      <th>0</th>\n",
       "      <td>2005</td>\n",
       "      <td>Cancer</td>\n",
       "      <td>Alabama</td>\n",
       "      <td>AL</td>\n",
       "      <td>4</td>\n",
       "      <td>0-49</td>\n",
       "      <td>2005 Fixed</td>\n",
       "      <td>All</td>\n",
       "      <td>756.0</td>\n",
       "      <td>3148377.0</td>\n",
       "      <td>451.0</td>\n",
       "      <td>305.0</td>\n",
       "      <td>40.3</td>\n",
       "    </tr>\n",
       "    <tr>\n",
       "      <th>1</th>\n",
       "      <td>2005</td>\n",
       "      <td>Cancer</td>\n",
       "      <td>Alabama</td>\n",
       "      <td>AL</td>\n",
       "      <td>4</td>\n",
       "      <td>0-49</td>\n",
       "      <td>2005 Fixed</td>\n",
       "      <td>Metropolitan</td>\n",
       "      <td>556.0</td>\n",
       "      <td>2379871.0</td>\n",
       "      <td>341.0</td>\n",
       "      <td>217.0</td>\n",
       "      <td>39.0</td>\n",
       "    </tr>\n",
       "    <tr>\n",
       "      <th>2</th>\n",
       "      <td>2005</td>\n",
       "      <td>Cancer</td>\n",
       "      <td>Alabama</td>\n",
       "      <td>AL</td>\n",
       "      <td>4</td>\n",
       "      <td>0-49</td>\n",
       "      <td>2005 Fixed</td>\n",
       "      <td>Nonmetropolitan</td>\n",
       "      <td>200.0</td>\n",
       "      <td>768506.0</td>\n",
       "      <td>111.0</td>\n",
       "      <td>89.0</td>\n",
       "      <td>44.5</td>\n",
       "    </tr>\n",
       "    <tr>\n",
       "      <th>3</th>\n",
       "      <td>2005</td>\n",
       "      <td>Cancer</td>\n",
       "      <td>Alabama</td>\n",
       "      <td>AL</td>\n",
       "      <td>4</td>\n",
       "      <td>0-49</td>\n",
       "      <td>2010 Fixed</td>\n",
       "      <td>All</td>\n",
       "      <td>756.0</td>\n",
       "      <td>3148377.0</td>\n",
       "      <td>421.0</td>\n",
       "      <td>335.0</td>\n",
       "      <td>44.3</td>\n",
       "    </tr>\n",
       "    <tr>\n",
       "      <th>4</th>\n",
       "      <td>2005</td>\n",
       "      <td>Cancer</td>\n",
       "      <td>Alabama</td>\n",
       "      <td>AL</td>\n",
       "      <td>4</td>\n",
       "      <td>0-49</td>\n",
       "      <td>2010 Fixed</td>\n",
       "      <td>Metropolitan</td>\n",
       "      <td>556.0</td>\n",
       "      <td>2379871.0</td>\n",
       "      <td>318.0</td>\n",
       "      <td>238.0</td>\n",
       "      <td>42.8</td>\n",
       "    </tr>\n",
       "  </tbody>\n",
       "</table>\n",
       "</div>"
      ],
      "text/plain": [
       "   Year Cause of Death    State State FIPS Code  HHS Region Age Range  \\\n",
       "0  2005         Cancer  Alabama              AL           4      0-49   \n",
       "1  2005         Cancer  Alabama              AL           4      0-49   \n",
       "2  2005         Cancer  Alabama              AL           4      0-49   \n",
       "3  2005         Cancer  Alabama              AL           4      0-49   \n",
       "4  2005         Cancer  Alabama              AL           4      0-49   \n",
       "\n",
       "    Benchmark         Locality  Observed Deaths  Population  Expected Deaths  \\\n",
       "0  2005 Fixed              All            756.0   3148377.0            451.0   \n",
       "1  2005 Fixed     Metropolitan            556.0   2379871.0            341.0   \n",
       "2  2005 Fixed  Nonmetropolitan            200.0    768506.0            111.0   \n",
       "3  2010 Fixed              All            756.0   3148377.0            421.0   \n",
       "4  2010 Fixed     Metropolitan            556.0   2379871.0            318.0   \n",
       "\n",
       "   Potentially Excess Deaths  Percent Potentially Excess Deaths  \n",
       "0                      305.0                               40.3  \n",
       "1                      217.0                               39.0  \n",
       "2                       89.0                               44.5  \n",
       "3                      335.0                               44.3  \n",
       "4                      238.0                               42.8  "
      ]
     },
     "execution_count": 227,
     "metadata": {},
     "output_type": "execute_result"
    }
   ],
   "source": [
    "#Inspecting the dataframe visually\n",
    "orig_death_df.head()"
   ]
  },
  {
   "cell_type": "code",
   "execution_count": 228,
   "metadata": {},
   "outputs": [
    {
     "data": {
      "text/plain": [
       "array(['2005 Fixed', '2010 Fixed', 'Floating'], dtype=object)"
      ]
     },
     "execution_count": 228,
     "metadata": {},
     "output_type": "execute_result"
    }
   ],
   "source": [
    "#Inspecting the dataframe programmatically\n",
    "orig_death_df.Benchmark.unique()"
   ]
  },
  {
   "cell_type": "markdown",
   "metadata": {},
   "source": [
    "Issue and justification: I am choosing to use the with rows with Floating benchmark instead of 2005 Fixed and 2010 Fixed. 2005 Fixed and 2010 Fixed are benchmark for 2005 and 2010 respectively. The floating benchmark with give us the benchmark for the year of that particular row."
   ]
  },
  {
   "cell_type": "markdown",
   "metadata": {},
   "source": [
    "### Tidiness Issue 6:"
   ]
  },
  {
   "cell_type": "code",
   "execution_count": 229,
   "metadata": {},
   "outputs": [
    {
     "data": {
      "text/html": [
       "<div>\n",
       "<style scoped>\n",
       "    .dataframe tbody tr th:only-of-type {\n",
       "        vertical-align: middle;\n",
       "    }\n",
       "\n",
       "    .dataframe tbody tr th {\n",
       "        vertical-align: top;\n",
       "    }\n",
       "\n",
       "    .dataframe thead th {\n",
       "        text-align: right;\n",
       "    }\n",
       "</style>\n",
       "<table border=\"1\" class=\"dataframe\">\n",
       "  <thead>\n",
       "    <tr style=\"text-align: right;\">\n",
       "      <th></th>\n",
       "      <th>Year</th>\n",
       "      <th>Cause of Death</th>\n",
       "      <th>State</th>\n",
       "      <th>State FIPS Code</th>\n",
       "      <th>HHS Region</th>\n",
       "      <th>Age Range</th>\n",
       "      <th>Benchmark</th>\n",
       "      <th>Locality</th>\n",
       "      <th>Observed Deaths</th>\n",
       "      <th>Population</th>\n",
       "      <th>Expected Deaths</th>\n",
       "      <th>Potentially Excess Deaths</th>\n",
       "      <th>Percent Potentially Excess Deaths</th>\n",
       "    </tr>\n",
       "  </thead>\n",
       "  <tbody>\n",
       "    <tr>\n",
       "      <th>0</th>\n",
       "      <td>2005</td>\n",
       "      <td>Cancer</td>\n",
       "      <td>Alabama</td>\n",
       "      <td>AL</td>\n",
       "      <td>4</td>\n",
       "      <td>0-49</td>\n",
       "      <td>2005 Fixed</td>\n",
       "      <td>All</td>\n",
       "      <td>756.0</td>\n",
       "      <td>3148377.0</td>\n",
       "      <td>451.0</td>\n",
       "      <td>305.0</td>\n",
       "      <td>40.3</td>\n",
       "    </tr>\n",
       "    <tr>\n",
       "      <th>1</th>\n",
       "      <td>2005</td>\n",
       "      <td>Cancer</td>\n",
       "      <td>Alabama</td>\n",
       "      <td>AL</td>\n",
       "      <td>4</td>\n",
       "      <td>0-49</td>\n",
       "      <td>2005 Fixed</td>\n",
       "      <td>Metropolitan</td>\n",
       "      <td>556.0</td>\n",
       "      <td>2379871.0</td>\n",
       "      <td>341.0</td>\n",
       "      <td>217.0</td>\n",
       "      <td>39.0</td>\n",
       "    </tr>\n",
       "    <tr>\n",
       "      <th>2</th>\n",
       "      <td>2005</td>\n",
       "      <td>Cancer</td>\n",
       "      <td>Alabama</td>\n",
       "      <td>AL</td>\n",
       "      <td>4</td>\n",
       "      <td>0-49</td>\n",
       "      <td>2005 Fixed</td>\n",
       "      <td>Nonmetropolitan</td>\n",
       "      <td>200.0</td>\n",
       "      <td>768506.0</td>\n",
       "      <td>111.0</td>\n",
       "      <td>89.0</td>\n",
       "      <td>44.5</td>\n",
       "    </tr>\n",
       "    <tr>\n",
       "      <th>3</th>\n",
       "      <td>2005</td>\n",
       "      <td>Cancer</td>\n",
       "      <td>Alabama</td>\n",
       "      <td>AL</td>\n",
       "      <td>4</td>\n",
       "      <td>0-49</td>\n",
       "      <td>2010 Fixed</td>\n",
       "      <td>All</td>\n",
       "      <td>756.0</td>\n",
       "      <td>3148377.0</td>\n",
       "      <td>421.0</td>\n",
       "      <td>335.0</td>\n",
       "      <td>44.3</td>\n",
       "    </tr>\n",
       "    <tr>\n",
       "      <th>4</th>\n",
       "      <td>2005</td>\n",
       "      <td>Cancer</td>\n",
       "      <td>Alabama</td>\n",
       "      <td>AL</td>\n",
       "      <td>4</td>\n",
       "      <td>0-49</td>\n",
       "      <td>2010 Fixed</td>\n",
       "      <td>Metropolitan</td>\n",
       "      <td>556.0</td>\n",
       "      <td>2379871.0</td>\n",
       "      <td>318.0</td>\n",
       "      <td>238.0</td>\n",
       "      <td>42.8</td>\n",
       "    </tr>\n",
       "  </tbody>\n",
       "</table>\n",
       "</div>"
      ],
      "text/plain": [
       "   Year Cause of Death    State State FIPS Code  HHS Region Age Range  \\\n",
       "0  2005         Cancer  Alabama              AL           4      0-49   \n",
       "1  2005         Cancer  Alabama              AL           4      0-49   \n",
       "2  2005         Cancer  Alabama              AL           4      0-49   \n",
       "3  2005         Cancer  Alabama              AL           4      0-49   \n",
       "4  2005         Cancer  Alabama              AL           4      0-49   \n",
       "\n",
       "    Benchmark         Locality  Observed Deaths  Population  Expected Deaths  \\\n",
       "0  2005 Fixed              All            756.0   3148377.0            451.0   \n",
       "1  2005 Fixed     Metropolitan            556.0   2379871.0            341.0   \n",
       "2  2005 Fixed  Nonmetropolitan            200.0    768506.0            111.0   \n",
       "3  2010 Fixed              All            756.0   3148377.0            421.0   \n",
       "4  2010 Fixed     Metropolitan            556.0   2379871.0            318.0   \n",
       "\n",
       "   Potentially Excess Deaths  Percent Potentially Excess Deaths  \n",
       "0                      305.0                               40.3  \n",
       "1                      217.0                               39.0  \n",
       "2                       89.0                               44.5  \n",
       "3                      335.0                               44.3  \n",
       "4                      238.0                               42.8  "
      ]
     },
     "execution_count": 229,
     "metadata": {},
     "output_type": "execute_result"
    }
   ],
   "source": [
    "#Inspecting the dataframe visually\n",
    "orig_death_df.head()"
   ]
  },
  {
   "cell_type": "code",
   "execution_count": 230,
   "metadata": {},
   "outputs": [
    {
     "data": {
      "text/plain": [
       "array(['0-49', '0-54', '0-59', '0-64', '0-69', '0-74', '0-79', '0-84'],\n",
       "      dtype=object)"
      ]
     },
     "execution_count": 230,
     "metadata": {},
     "output_type": "execute_result"
    }
   ],
   "source": [
    "#Inspecting the dataframe programmatically\n",
    "orig_death_df['Age Range'].unique()"
   ]
  },
  {
   "cell_type": "markdown",
   "metadata": {},
   "source": [
    "Issue and justification: I am choosing to include all ages in research project, so I will be using the row where the age range is 0-84 and removing the rows with the other age ranges."
   ]
  },
  {
   "cell_type": "markdown",
   "metadata": {},
   "source": [
    "### Tidiness Issue 7:"
   ]
  },
  {
   "cell_type": "code",
   "execution_count": 231,
   "metadata": {},
   "outputs": [
    {
     "data": {
      "text/html": [
       "<div>\n",
       "<style scoped>\n",
       "    .dataframe tbody tr th:only-of-type {\n",
       "        vertical-align: middle;\n",
       "    }\n",
       "\n",
       "    .dataframe tbody tr th {\n",
       "        vertical-align: top;\n",
       "    }\n",
       "\n",
       "    .dataframe thead th {\n",
       "        text-align: right;\n",
       "    }\n",
       "</style>\n",
       "<table border=\"1\" class=\"dataframe\">\n",
       "  <thead>\n",
       "    <tr style=\"text-align: right;\">\n",
       "      <th></th>\n",
       "      <th>Year</th>\n",
       "      <th>Cause of Death</th>\n",
       "      <th>State</th>\n",
       "      <th>State FIPS Code</th>\n",
       "      <th>HHS Region</th>\n",
       "      <th>Age Range</th>\n",
       "      <th>Benchmark</th>\n",
       "      <th>Locality</th>\n",
       "      <th>Observed Deaths</th>\n",
       "      <th>Population</th>\n",
       "      <th>Expected Deaths</th>\n",
       "      <th>Potentially Excess Deaths</th>\n",
       "      <th>Percent Potentially Excess Deaths</th>\n",
       "    </tr>\n",
       "  </thead>\n",
       "  <tbody>\n",
       "    <tr>\n",
       "      <th>0</th>\n",
       "      <td>2005</td>\n",
       "      <td>Cancer</td>\n",
       "      <td>Alabama</td>\n",
       "      <td>AL</td>\n",
       "      <td>4</td>\n",
       "      <td>0-49</td>\n",
       "      <td>2005 Fixed</td>\n",
       "      <td>All</td>\n",
       "      <td>756.0</td>\n",
       "      <td>3148377.0</td>\n",
       "      <td>451.0</td>\n",
       "      <td>305.0</td>\n",
       "      <td>40.3</td>\n",
       "    </tr>\n",
       "    <tr>\n",
       "      <th>1</th>\n",
       "      <td>2005</td>\n",
       "      <td>Cancer</td>\n",
       "      <td>Alabama</td>\n",
       "      <td>AL</td>\n",
       "      <td>4</td>\n",
       "      <td>0-49</td>\n",
       "      <td>2005 Fixed</td>\n",
       "      <td>Metropolitan</td>\n",
       "      <td>556.0</td>\n",
       "      <td>2379871.0</td>\n",
       "      <td>341.0</td>\n",
       "      <td>217.0</td>\n",
       "      <td>39.0</td>\n",
       "    </tr>\n",
       "    <tr>\n",
       "      <th>2</th>\n",
       "      <td>2005</td>\n",
       "      <td>Cancer</td>\n",
       "      <td>Alabama</td>\n",
       "      <td>AL</td>\n",
       "      <td>4</td>\n",
       "      <td>0-49</td>\n",
       "      <td>2005 Fixed</td>\n",
       "      <td>Nonmetropolitan</td>\n",
       "      <td>200.0</td>\n",
       "      <td>768506.0</td>\n",
       "      <td>111.0</td>\n",
       "      <td>89.0</td>\n",
       "      <td>44.5</td>\n",
       "    </tr>\n",
       "    <tr>\n",
       "      <th>3</th>\n",
       "      <td>2005</td>\n",
       "      <td>Cancer</td>\n",
       "      <td>Alabama</td>\n",
       "      <td>AL</td>\n",
       "      <td>4</td>\n",
       "      <td>0-49</td>\n",
       "      <td>2010 Fixed</td>\n",
       "      <td>All</td>\n",
       "      <td>756.0</td>\n",
       "      <td>3148377.0</td>\n",
       "      <td>421.0</td>\n",
       "      <td>335.0</td>\n",
       "      <td>44.3</td>\n",
       "    </tr>\n",
       "    <tr>\n",
       "      <th>4</th>\n",
       "      <td>2005</td>\n",
       "      <td>Cancer</td>\n",
       "      <td>Alabama</td>\n",
       "      <td>AL</td>\n",
       "      <td>4</td>\n",
       "      <td>0-49</td>\n",
       "      <td>2010 Fixed</td>\n",
       "      <td>Metropolitan</td>\n",
       "      <td>556.0</td>\n",
       "      <td>2379871.0</td>\n",
       "      <td>318.0</td>\n",
       "      <td>238.0</td>\n",
       "      <td>42.8</td>\n",
       "    </tr>\n",
       "  </tbody>\n",
       "</table>\n",
       "</div>"
      ],
      "text/plain": [
       "   Year Cause of Death    State State FIPS Code  HHS Region Age Range  \\\n",
       "0  2005         Cancer  Alabama              AL           4      0-49   \n",
       "1  2005         Cancer  Alabama              AL           4      0-49   \n",
       "2  2005         Cancer  Alabama              AL           4      0-49   \n",
       "3  2005         Cancer  Alabama              AL           4      0-49   \n",
       "4  2005         Cancer  Alabama              AL           4      0-49   \n",
       "\n",
       "    Benchmark         Locality  Observed Deaths  Population  Expected Deaths  \\\n",
       "0  2005 Fixed              All            756.0   3148377.0            451.0   \n",
       "1  2005 Fixed     Metropolitan            556.0   2379871.0            341.0   \n",
       "2  2005 Fixed  Nonmetropolitan            200.0    768506.0            111.0   \n",
       "3  2010 Fixed              All            756.0   3148377.0            421.0   \n",
       "4  2010 Fixed     Metropolitan            556.0   2379871.0            318.0   \n",
       "\n",
       "   Potentially Excess Deaths  Percent Potentially Excess Deaths  \n",
       "0                      305.0                               40.3  \n",
       "1                      217.0                               39.0  \n",
       "2                       89.0                               44.5  \n",
       "3                      335.0                               44.3  \n",
       "4                      238.0                               42.8  "
      ]
     },
     "execution_count": 231,
     "metadata": {},
     "output_type": "execute_result"
    }
   ],
   "source": [
    "#Inspecting the dataframe visually\n",
    "orig_death_df.head()"
   ]
  },
  {
   "cell_type": "code",
   "execution_count": 232,
   "metadata": {},
   "outputs": [
    {
     "data": {
      "text/html": [
       "<div>\n",
       "<style scoped>\n",
       "    .dataframe tbody tr th:only-of-type {\n",
       "        vertical-align: middle;\n",
       "    }\n",
       "\n",
       "    .dataframe tbody tr th {\n",
       "        vertical-align: top;\n",
       "    }\n",
       "\n",
       "    .dataframe thead th {\n",
       "        text-align: right;\n",
       "    }\n",
       "</style>\n",
       "<table border=\"1\" class=\"dataframe\">\n",
       "  <thead>\n",
       "    <tr style=\"text-align: right;\">\n",
       "      <th></th>\n",
       "      <th>Year</th>\n",
       "      <th>Cause of Death</th>\n",
       "      <th>State</th>\n",
       "      <th>State FIPS Code</th>\n",
       "      <th>HHS Region</th>\n",
       "      <th>Age Range</th>\n",
       "      <th>Benchmark</th>\n",
       "      <th>Locality</th>\n",
       "      <th>Observed Deaths</th>\n",
       "      <th>Population</th>\n",
       "      <th>Expected Deaths</th>\n",
       "      <th>Potentially Excess Deaths</th>\n",
       "      <th>Percent Potentially Excess Deaths</th>\n",
       "    </tr>\n",
       "  </thead>\n",
       "  <tbody>\n",
       "    <tr>\n",
       "      <th>0</th>\n",
       "      <td>2005</td>\n",
       "      <td>Cancer</td>\n",
       "      <td>Alabama</td>\n",
       "      <td>AL</td>\n",
       "      <td>4</td>\n",
       "      <td>0-49</td>\n",
       "      <td>2005 Fixed</td>\n",
       "      <td>All</td>\n",
       "      <td>756.0</td>\n",
       "      <td>3148377.0</td>\n",
       "      <td>451.0</td>\n",
       "      <td>305.0</td>\n",
       "      <td>40.3</td>\n",
       "    </tr>\n",
       "    <tr>\n",
       "      <th>1</th>\n",
       "      <td>2005</td>\n",
       "      <td>Cancer</td>\n",
       "      <td>Alabama</td>\n",
       "      <td>AL</td>\n",
       "      <td>4</td>\n",
       "      <td>0-49</td>\n",
       "      <td>2005 Fixed</td>\n",
       "      <td>Metropolitan</td>\n",
       "      <td>556.0</td>\n",
       "      <td>2379871.0</td>\n",
       "      <td>341.0</td>\n",
       "      <td>217.0</td>\n",
       "      <td>39.0</td>\n",
       "    </tr>\n",
       "    <tr>\n",
       "      <th>2</th>\n",
       "      <td>2005</td>\n",
       "      <td>Cancer</td>\n",
       "      <td>Alabama</td>\n",
       "      <td>AL</td>\n",
       "      <td>4</td>\n",
       "      <td>0-49</td>\n",
       "      <td>2005 Fixed</td>\n",
       "      <td>Nonmetropolitan</td>\n",
       "      <td>200.0</td>\n",
       "      <td>768506.0</td>\n",
       "      <td>111.0</td>\n",
       "      <td>89.0</td>\n",
       "      <td>44.5</td>\n",
       "    </tr>\n",
       "    <tr>\n",
       "      <th>3</th>\n",
       "      <td>2005</td>\n",
       "      <td>Cancer</td>\n",
       "      <td>Alabama</td>\n",
       "      <td>AL</td>\n",
       "      <td>4</td>\n",
       "      <td>0-49</td>\n",
       "      <td>2010 Fixed</td>\n",
       "      <td>All</td>\n",
       "      <td>756.0</td>\n",
       "      <td>3148377.0</td>\n",
       "      <td>421.0</td>\n",
       "      <td>335.0</td>\n",
       "      <td>44.3</td>\n",
       "    </tr>\n",
       "    <tr>\n",
       "      <th>4</th>\n",
       "      <td>2005</td>\n",
       "      <td>Cancer</td>\n",
       "      <td>Alabama</td>\n",
       "      <td>AL</td>\n",
       "      <td>4</td>\n",
       "      <td>0-49</td>\n",
       "      <td>2010 Fixed</td>\n",
       "      <td>Metropolitan</td>\n",
       "      <td>556.0</td>\n",
       "      <td>2379871.0</td>\n",
       "      <td>318.0</td>\n",
       "      <td>238.0</td>\n",
       "      <td>42.8</td>\n",
       "    </tr>\n",
       "  </tbody>\n",
       "</table>\n",
       "</div>"
      ],
      "text/plain": [
       "   Year Cause of Death    State State FIPS Code  HHS Region Age Range  \\\n",
       "0  2005         Cancer  Alabama              AL           4      0-49   \n",
       "1  2005         Cancer  Alabama              AL           4      0-49   \n",
       "2  2005         Cancer  Alabama              AL           4      0-49   \n",
       "3  2005         Cancer  Alabama              AL           4      0-49   \n",
       "4  2005         Cancer  Alabama              AL           4      0-49   \n",
       "\n",
       "    Benchmark         Locality  Observed Deaths  Population  Expected Deaths  \\\n",
       "0  2005 Fixed              All            756.0   3148377.0            451.0   \n",
       "1  2005 Fixed     Metropolitan            556.0   2379871.0            341.0   \n",
       "2  2005 Fixed  Nonmetropolitan            200.0    768506.0            111.0   \n",
       "3  2010 Fixed              All            756.0   3148377.0            421.0   \n",
       "4  2010 Fixed     Metropolitan            556.0   2379871.0            318.0   \n",
       "\n",
       "   Potentially Excess Deaths  Percent Potentially Excess Deaths  \n",
       "0                      305.0                               40.3  \n",
       "1                      217.0                               39.0  \n",
       "2                       89.0                               44.5  \n",
       "3                      335.0                               44.3  \n",
       "4                      238.0                               42.8  "
      ]
     },
     "execution_count": 232,
     "metadata": {},
     "output_type": "execute_result"
    }
   ],
   "source": [
    "#Inspecting the dataframe programmatically\n",
    "orig_death_df.head()"
   ]
  },
  {
   "cell_type": "markdown",
   "metadata": {},
   "source": [
    "Issue and justification: The Death dataframe does not have the percentage of deaths. I would like to include that value in my research."
   ]
  },
  {
   "cell_type": "markdown",
   "metadata": {},
   "source": [
    "### Tidiness Issue 8:"
   ]
  },
  {
   "cell_type": "code",
   "execution_count": 233,
   "metadata": {
    "scrolled": true
   },
   "outputs": [
    {
     "data": {
      "text/html": [
       "<div>\n",
       "<style scoped>\n",
       "    .dataframe tbody tr th:only-of-type {\n",
       "        vertical-align: middle;\n",
       "    }\n",
       "\n",
       "    .dataframe tbody tr th {\n",
       "        vertical-align: top;\n",
       "    }\n",
       "\n",
       "    .dataframe thead th {\n",
       "        text-align: right;\n",
       "    }\n",
       "</style>\n",
       "<table border=\"1\" class=\"dataframe\">\n",
       "  <thead>\n",
       "    <tr style=\"text-align: right;\">\n",
       "      <th></th>\n",
       "      <th>Year</th>\n",
       "      <th>Cause of Death</th>\n",
       "      <th>State</th>\n",
       "      <th>State FIPS Code</th>\n",
       "      <th>HHS Region</th>\n",
       "      <th>Age Range</th>\n",
       "      <th>Benchmark</th>\n",
       "      <th>Locality</th>\n",
       "      <th>Observed Deaths</th>\n",
       "      <th>Population</th>\n",
       "      <th>Expected Deaths</th>\n",
       "      <th>Potentially Excess Deaths</th>\n",
       "      <th>Percent Potentially Excess Deaths</th>\n",
       "    </tr>\n",
       "  </thead>\n",
       "  <tbody>\n",
       "    <tr>\n",
       "      <th>0</th>\n",
       "      <td>2005</td>\n",
       "      <td>Cancer</td>\n",
       "      <td>Alabama</td>\n",
       "      <td>AL</td>\n",
       "      <td>4</td>\n",
       "      <td>0-49</td>\n",
       "      <td>2005 Fixed</td>\n",
       "      <td>All</td>\n",
       "      <td>756.0</td>\n",
       "      <td>3148377.0</td>\n",
       "      <td>451.0</td>\n",
       "      <td>305.0</td>\n",
       "      <td>40.3</td>\n",
       "    </tr>\n",
       "    <tr>\n",
       "      <th>1</th>\n",
       "      <td>2005</td>\n",
       "      <td>Cancer</td>\n",
       "      <td>Alabama</td>\n",
       "      <td>AL</td>\n",
       "      <td>4</td>\n",
       "      <td>0-49</td>\n",
       "      <td>2005 Fixed</td>\n",
       "      <td>Metropolitan</td>\n",
       "      <td>556.0</td>\n",
       "      <td>2379871.0</td>\n",
       "      <td>341.0</td>\n",
       "      <td>217.0</td>\n",
       "      <td>39.0</td>\n",
       "    </tr>\n",
       "    <tr>\n",
       "      <th>2</th>\n",
       "      <td>2005</td>\n",
       "      <td>Cancer</td>\n",
       "      <td>Alabama</td>\n",
       "      <td>AL</td>\n",
       "      <td>4</td>\n",
       "      <td>0-49</td>\n",
       "      <td>2005 Fixed</td>\n",
       "      <td>Nonmetropolitan</td>\n",
       "      <td>200.0</td>\n",
       "      <td>768506.0</td>\n",
       "      <td>111.0</td>\n",
       "      <td>89.0</td>\n",
       "      <td>44.5</td>\n",
       "    </tr>\n",
       "    <tr>\n",
       "      <th>3</th>\n",
       "      <td>2005</td>\n",
       "      <td>Cancer</td>\n",
       "      <td>Alabama</td>\n",
       "      <td>AL</td>\n",
       "      <td>4</td>\n",
       "      <td>0-49</td>\n",
       "      <td>2010 Fixed</td>\n",
       "      <td>All</td>\n",
       "      <td>756.0</td>\n",
       "      <td>3148377.0</td>\n",
       "      <td>421.0</td>\n",
       "      <td>335.0</td>\n",
       "      <td>44.3</td>\n",
       "    </tr>\n",
       "    <tr>\n",
       "      <th>4</th>\n",
       "      <td>2005</td>\n",
       "      <td>Cancer</td>\n",
       "      <td>Alabama</td>\n",
       "      <td>AL</td>\n",
       "      <td>4</td>\n",
       "      <td>0-49</td>\n",
       "      <td>2010 Fixed</td>\n",
       "      <td>Metropolitan</td>\n",
       "      <td>556.0</td>\n",
       "      <td>2379871.0</td>\n",
       "      <td>318.0</td>\n",
       "      <td>238.0</td>\n",
       "      <td>42.8</td>\n",
       "    </tr>\n",
       "  </tbody>\n",
       "</table>\n",
       "</div>"
      ],
      "text/plain": [
       "   Year Cause of Death    State State FIPS Code  HHS Region Age Range  \\\n",
       "0  2005         Cancer  Alabama              AL           4      0-49   \n",
       "1  2005         Cancer  Alabama              AL           4      0-49   \n",
       "2  2005         Cancer  Alabama              AL           4      0-49   \n",
       "3  2005         Cancer  Alabama              AL           4      0-49   \n",
       "4  2005         Cancer  Alabama              AL           4      0-49   \n",
       "\n",
       "    Benchmark         Locality  Observed Deaths  Population  Expected Deaths  \\\n",
       "0  2005 Fixed              All            756.0   3148377.0            451.0   \n",
       "1  2005 Fixed     Metropolitan            556.0   2379871.0            341.0   \n",
       "2  2005 Fixed  Nonmetropolitan            200.0    768506.0            111.0   \n",
       "3  2010 Fixed              All            756.0   3148377.0            421.0   \n",
       "4  2010 Fixed     Metropolitan            556.0   2379871.0            318.0   \n",
       "\n",
       "   Potentially Excess Deaths  Percent Potentially Excess Deaths  \n",
       "0                      305.0                               40.3  \n",
       "1                      217.0                               39.0  \n",
       "2                       89.0                               44.5  \n",
       "3                      335.0                               44.3  \n",
       "4                      238.0                               42.8  "
      ]
     },
     "execution_count": 233,
     "metadata": {},
     "output_type": "execute_result"
    }
   ],
   "source": [
    "#Inspecting the dataframe visually\n",
    "orig_death_df.head()"
   ]
  },
  {
   "cell_type": "code",
   "execution_count": 234,
   "metadata": {},
   "outputs": [
    {
     "data": {
      "text/plain": [
       "Index(['Year', 'Cause of Death', 'State', 'State FIPS Code', 'HHS Region',\n",
       "       'Age Range', 'Benchmark', 'Locality', 'Observed Deaths', 'Population',\n",
       "       'Expected Deaths', 'Potentially Excess Deaths',\n",
       "       'Percent Potentially Excess Deaths'],\n",
       "      dtype='object')"
      ]
     },
     "execution_count": 234,
     "metadata": {},
     "output_type": "execute_result"
    }
   ],
   "source": [
    "#Inspecting the dataframe programmatically\n",
    "orig_death_df.columns"
   ]
  },
  {
   "cell_type": "markdown",
   "metadata": {},
   "source": [
    "Issue and justification: The column names with more than one word have spaces. I would like to remove spaces from the column names."
   ]
  },
  {
   "cell_type": "markdown",
   "metadata": {
    "id": "D6gmLnBttpCh"
   },
   "source": [
    "## 3. Clean data\n",
    "Clean the data to solve the 4 issues corresponding to data quality and tidiness found in the assessing step. **Make sure you include justifications for your cleaning decisions.**\n",
    "\n",
    "After the cleaning for each issue, please use **either** the visually or programatical method to validate the cleaning was succesful.\n",
    "\n",
    "At this stage, you are also expected to remove variables that are unnecessary for your analysis and combine your datasets. Depending on your datasets, you may choose to perform variable combination and elimination before or after the cleaning stage. Your dataset must have **at least** 4 variables after combining the data."
   ]
  },
  {
   "cell_type": "code",
   "execution_count": 235,
   "metadata": {},
   "outputs": [],
   "source": [
    "#Make copies of the datasets to ensure the raw dataframes \n",
    "# are not impacted\n",
    "clean_cancer_df = orig_death_df.copy()\n",
    "clean_pesticide_df = orig_pesticide_df.copy()\n",
    "clean_p_dictionary_df = p_dictionary.copy()"
   ]
  },
  {
   "cell_type": "markdown",
   "metadata": {
    "id": "FmFhN52Yyn3l"
   },
   "source": [
    "### Quality Issue 1: \n",
    "The Observed Death and Population columns have null values. These null values with not be helpful when calculating the percentage of deaths, so they should be removed."
   ]
  },
  {
   "cell_type": "code",
   "execution_count": 236,
   "metadata": {
    "id": "9UejDWrNMW4a"
   },
   "outputs": [],
   "source": [
    "# Apply the cleaning strategy\n",
    "clean_cancer_df = clean_cancer_df.dropna(subset=['Observed Deaths'])\n"
   ]
  },
  {
   "cell_type": "code",
   "execution_count": 237,
   "metadata": {
    "id": "oUBee-LPytkv"
   },
   "outputs": [
    {
     "name": "stdout",
     "output_type": "stream",
     "text": [
      "<class 'pandas.core.frame.DataFrame'>\n",
      "Index: 195708 entries, 0 to 205919\n",
      "Data columns (total 13 columns):\n",
      " #   Column                             Non-Null Count   Dtype  \n",
      "---  ------                             --------------   -----  \n",
      " 0   Year                               195708 non-null  int64  \n",
      " 1   Cause of Death                     195708 non-null  object \n",
      " 2   State                              195708 non-null  object \n",
      " 3   State FIPS Code                    195708 non-null  object \n",
      " 4   HHS Region                         195708 non-null  int64  \n",
      " 5   Age Range                          195708 non-null  object \n",
      " 6   Benchmark                          195708 non-null  object \n",
      " 7   Locality                           195708 non-null  object \n",
      " 8   Observed Deaths                    195708 non-null  float64\n",
      " 9   Population                         195708 non-null  float64\n",
      " 10  Expected Deaths                    195708 non-null  float64\n",
      " 11  Potentially Excess Deaths          195708 non-null  float64\n",
      " 12  Percent Potentially Excess Deaths  195708 non-null  float64\n",
      "dtypes: float64(5), int64(2), object(6)\n",
      "memory usage: 20.9+ MB\n"
     ]
    }
   ],
   "source": [
    "# Validate the cleaning was successful\n",
    "clean_cancer_df.info()"
   ]
  },
  {
   "cell_type": "markdown",
   "metadata": {},
   "source": [
    "Justification: After dropping the the rows where the Observed Death value is null, all nulls have been removed for Observed Death and Population. This dataset no longer has null values."
   ]
  },
  {
   "cell_type": "markdown",
   "metadata": {
    "id": "n_DAUbJrymBL"
   },
   "source": [
    "### Quality Issue 2: \n",
    "The Low Estimate columns has many missisg values, so I am choosing to drop this column and use the High Estimate column."
   ]
  },
  {
   "cell_type": "code",
   "execution_count": 238,
   "metadata": {
    "id": "5Yfb-Yu5MTuE"
   },
   "outputs": [],
   "source": [
    "#Apply the cleaning strategy\n",
    "clean_pesticide_df = clean_pesticide_df.drop('LOW_ESTIMATE', axis=1)"
   ]
  },
  {
   "cell_type": "code",
   "execution_count": 239,
   "metadata": {
    "id": "ionB2sRaMUmY"
   },
   "outputs": [
    {
     "data": {
      "text/html": [
       "<div>\n",
       "<style scoped>\n",
       "    .dataframe tbody tr th:only-of-type {\n",
       "        vertical-align: middle;\n",
       "    }\n",
       "\n",
       "    .dataframe tbody tr th {\n",
       "        vertical-align: top;\n",
       "    }\n",
       "\n",
       "    .dataframe thead th {\n",
       "        text-align: right;\n",
       "    }\n",
       "</style>\n",
       "<table border=\"1\" class=\"dataframe\">\n",
       "  <thead>\n",
       "    <tr style=\"text-align: right;\">\n",
       "      <th></th>\n",
       "      <th>COMPOUND</th>\n",
       "      <th>YEAR</th>\n",
       "      <th>STATE_CODE</th>\n",
       "      <th>COUNTY_CODE</th>\n",
       "      <th>HIGH_ESTIMATE</th>\n",
       "    </tr>\n",
       "  </thead>\n",
       "  <tbody>\n",
       "    <tr>\n",
       "      <th>0</th>\n",
       "      <td>1-Methyl Cyclopropene</td>\n",
       "      <td>2015</td>\n",
       "      <td>41</td>\n",
       "      <td>1</td>\n",
       "      <td>0.0</td>\n",
       "    </tr>\n",
       "    <tr>\n",
       "      <th>1</th>\n",
       "      <td>1-Methyl Cyclopropene</td>\n",
       "      <td>2015</td>\n",
       "      <td>41</td>\n",
       "      <td>21</td>\n",
       "      <td>0.1</td>\n",
       "    </tr>\n",
       "    <tr>\n",
       "      <th>2</th>\n",
       "      <td>1-Methyl Cyclopropene</td>\n",
       "      <td>2015</td>\n",
       "      <td>41</td>\n",
       "      <td>27</td>\n",
       "      <td>1.7</td>\n",
       "    </tr>\n",
       "    <tr>\n",
       "      <th>3</th>\n",
       "      <td>1-Methyl Cyclopropene</td>\n",
       "      <td>2015</td>\n",
       "      <td>41</td>\n",
       "      <td>49</td>\n",
       "      <td>0.1</td>\n",
       "    </tr>\n",
       "    <tr>\n",
       "      <th>4</th>\n",
       "      <td>1-Methyl Cyclopropene</td>\n",
       "      <td>2015</td>\n",
       "      <td>41</td>\n",
       "      <td>55</td>\n",
       "      <td>0.0</td>\n",
       "    </tr>\n",
       "  </tbody>\n",
       "</table>\n",
       "</div>"
      ],
      "text/plain": [
       "                COMPOUND  YEAR  STATE_CODE  COUNTY_CODE  HIGH_ESTIMATE\n",
       "0  1-Methyl Cyclopropene  2015          41            1            0.0\n",
       "1  1-Methyl Cyclopropene  2015          41           21            0.1\n",
       "2  1-Methyl Cyclopropene  2015          41           27            1.7\n",
       "3  1-Methyl Cyclopropene  2015          41           49            0.1\n",
       "4  1-Methyl Cyclopropene  2015          41           55            0.0"
      ]
     },
     "execution_count": 239,
     "metadata": {},
     "output_type": "execute_result"
    }
   ],
   "source": [
    "#FILL IN - Validate the cleaning was successful\n",
    "clean_pesticide_df.head()"
   ]
  },
  {
   "cell_type": "markdown",
   "metadata": {},
   "source": [
    "Justification: This dataset no longer includes the Low Estimate column. I can now move forward with calculating the mean for the High Estimate column."
   ]
  },
  {
   "cell_type": "markdown",
   "metadata": {
    "id": "bIUrrfSNyOPR"
   },
   "source": [
    "### Tidiness Issue 1:\n",
    "I will not be using pesticide use by county in this research project, so will need to drop the County Code, and County columns."
   ]
  },
  {
   "cell_type": "code",
   "execution_count": 240,
   "metadata": {
    "id": "fib0zAm333bn"
   },
   "outputs": [],
   "source": [
    "#FILL IN - Apply the cleaning strategy\n",
    "clean_p_dictionary_df = clean_p_dictionary_df.drop(['COUNTY_CODE','COUNTY'], axis=1) "
   ]
  },
  {
   "cell_type": "code",
   "execution_count": 241,
   "metadata": {
    "scrolled": true
   },
   "outputs": [
    {
     "data": {
      "text/html": [
       "<div>\n",
       "<style scoped>\n",
       "    .dataframe tbody tr th:only-of-type {\n",
       "        vertical-align: middle;\n",
       "    }\n",
       "\n",
       "    .dataframe tbody tr th {\n",
       "        vertical-align: top;\n",
       "    }\n",
       "\n",
       "    .dataframe thead th {\n",
       "        text-align: right;\n",
       "    }\n",
       "</style>\n",
       "<table border=\"1\" class=\"dataframe\">\n",
       "  <thead>\n",
       "    <tr style=\"text-align: right;\">\n",
       "      <th></th>\n",
       "      <th>STATE_CODE</th>\n",
       "      <th>STATE</th>\n",
       "    </tr>\n",
       "  </thead>\n",
       "  <tbody>\n",
       "    <tr>\n",
       "      <th>0</th>\n",
       "      <td>1</td>\n",
       "      <td>AL</td>\n",
       "    </tr>\n",
       "    <tr>\n",
       "      <th>1</th>\n",
       "      <td>1</td>\n",
       "      <td>AL</td>\n",
       "    </tr>\n",
       "    <tr>\n",
       "      <th>2</th>\n",
       "      <td>1</td>\n",
       "      <td>AL</td>\n",
       "    </tr>\n",
       "    <tr>\n",
       "      <th>3</th>\n",
       "      <td>1</td>\n",
       "      <td>AL</td>\n",
       "    </tr>\n",
       "    <tr>\n",
       "      <th>4</th>\n",
       "      <td>1</td>\n",
       "      <td>AL</td>\n",
       "    </tr>\n",
       "  </tbody>\n",
       "</table>\n",
       "</div>"
      ],
      "text/plain": [
       "   STATE_CODE STATE\n",
       "0           1    AL\n",
       "1           1    AL\n",
       "2           1    AL\n",
       "3           1    AL\n",
       "4           1    AL"
      ]
     },
     "execution_count": 241,
     "metadata": {},
     "output_type": "execute_result"
    }
   ],
   "source": [
    "clean_p_dictionary_df.head()"
   ]
  },
  {
   "cell_type": "markdown",
   "metadata": {},
   "source": [
    "There are dulplicate rows in the clean_p_dictionary_df. I will remove the duplicates."
   ]
  },
  {
   "cell_type": "code",
   "execution_count": 242,
   "metadata": {},
   "outputs": [],
   "source": [
    "clean_p_dictionary_df = clean_p_dictionary_df.drop_duplicates()"
   ]
  },
  {
   "cell_type": "code",
   "execution_count": 243,
   "metadata": {
    "scrolled": true
   },
   "outputs": [
    {
     "data": {
      "text/html": [
       "<div>\n",
       "<style scoped>\n",
       "    .dataframe tbody tr th:only-of-type {\n",
       "        vertical-align: middle;\n",
       "    }\n",
       "\n",
       "    .dataframe tbody tr th {\n",
       "        vertical-align: top;\n",
       "    }\n",
       "\n",
       "    .dataframe thead th {\n",
       "        text-align: right;\n",
       "    }\n",
       "</style>\n",
       "<table border=\"1\" class=\"dataframe\">\n",
       "  <thead>\n",
       "    <tr style=\"text-align: right;\">\n",
       "      <th></th>\n",
       "      <th>STATE_CODE</th>\n",
       "      <th>STATE</th>\n",
       "    </tr>\n",
       "  </thead>\n",
       "  <tbody>\n",
       "    <tr>\n",
       "      <th>0</th>\n",
       "      <td>1</td>\n",
       "      <td>AL</td>\n",
       "    </tr>\n",
       "    <tr>\n",
       "      <th>67</th>\n",
       "      <td>2</td>\n",
       "      <td>AK</td>\n",
       "    </tr>\n",
       "    <tr>\n",
       "      <th>96</th>\n",
       "      <td>4</td>\n",
       "      <td>AZ</td>\n",
       "    </tr>\n",
       "    <tr>\n",
       "      <th>111</th>\n",
       "      <td>5</td>\n",
       "      <td>AR</td>\n",
       "    </tr>\n",
       "    <tr>\n",
       "      <th>186</th>\n",
       "      <td>6</td>\n",
       "      <td>CA</td>\n",
       "    </tr>\n",
       "  </tbody>\n",
       "</table>\n",
       "</div>"
      ],
      "text/plain": [
       "     STATE_CODE STATE\n",
       "0             1    AL\n",
       "67            2    AK\n",
       "96            4    AZ\n",
       "111           5    AR\n",
       "186           6    CA"
      ]
     },
     "execution_count": 243,
     "metadata": {},
     "output_type": "execute_result"
    }
   ],
   "source": [
    "clean_p_dictionary_df.head()"
   ]
  },
  {
   "cell_type": "markdown",
   "metadata": {},
   "source": [
    "Now that the duplicates have been removed, I can merge the clean_pesticide_df and the clean_p_dictionary_df."
   ]
  },
  {
   "cell_type": "code",
   "execution_count": 244,
   "metadata": {},
   "outputs": [],
   "source": [
    "clean_pesticide_df = clean_pesticide_df.merge(clean_p_dictionary_df, on=\"STATE_CODE\", how='left')"
   ]
  },
  {
   "cell_type": "code",
   "execution_count": 245,
   "metadata": {
    "id": "yhrnUGY_Nk8B"
   },
   "outputs": [
    {
     "data": {
      "text/html": [
       "<div>\n",
       "<style scoped>\n",
       "    .dataframe tbody tr th:only-of-type {\n",
       "        vertical-align: middle;\n",
       "    }\n",
       "\n",
       "    .dataframe tbody tr th {\n",
       "        vertical-align: top;\n",
       "    }\n",
       "\n",
       "    .dataframe thead th {\n",
       "        text-align: right;\n",
       "    }\n",
       "</style>\n",
       "<table border=\"1\" class=\"dataframe\">\n",
       "  <thead>\n",
       "    <tr style=\"text-align: right;\">\n",
       "      <th></th>\n",
       "      <th>COMPOUND</th>\n",
       "      <th>YEAR</th>\n",
       "      <th>STATE_CODE</th>\n",
       "      <th>COUNTY_CODE</th>\n",
       "      <th>HIGH_ESTIMATE</th>\n",
       "      <th>STATE</th>\n",
       "    </tr>\n",
       "  </thead>\n",
       "  <tbody>\n",
       "    <tr>\n",
       "      <th>0</th>\n",
       "      <td>1-Methyl Cyclopropene</td>\n",
       "      <td>2015</td>\n",
       "      <td>41</td>\n",
       "      <td>1</td>\n",
       "      <td>0.0</td>\n",
       "      <td>OR</td>\n",
       "    </tr>\n",
       "    <tr>\n",
       "      <th>1</th>\n",
       "      <td>1-Methyl Cyclopropene</td>\n",
       "      <td>2015</td>\n",
       "      <td>41</td>\n",
       "      <td>21</td>\n",
       "      <td>0.1</td>\n",
       "      <td>OR</td>\n",
       "    </tr>\n",
       "    <tr>\n",
       "      <th>2</th>\n",
       "      <td>1-Methyl Cyclopropene</td>\n",
       "      <td>2015</td>\n",
       "      <td>41</td>\n",
       "      <td>27</td>\n",
       "      <td>1.7</td>\n",
       "      <td>OR</td>\n",
       "    </tr>\n",
       "    <tr>\n",
       "      <th>3</th>\n",
       "      <td>1-Methyl Cyclopropene</td>\n",
       "      <td>2015</td>\n",
       "      <td>41</td>\n",
       "      <td>49</td>\n",
       "      <td>0.1</td>\n",
       "      <td>OR</td>\n",
       "    </tr>\n",
       "    <tr>\n",
       "      <th>4</th>\n",
       "      <td>1-Methyl Cyclopropene</td>\n",
       "      <td>2015</td>\n",
       "      <td>41</td>\n",
       "      <td>55</td>\n",
       "      <td>0.0</td>\n",
       "      <td>OR</td>\n",
       "    </tr>\n",
       "  </tbody>\n",
       "</table>\n",
       "</div>"
      ],
      "text/plain": [
       "                COMPOUND  YEAR  STATE_CODE  COUNTY_CODE  HIGH_ESTIMATE STATE\n",
       "0  1-Methyl Cyclopropene  2015          41            1            0.0    OR\n",
       "1  1-Methyl Cyclopropene  2015          41           21            0.1    OR\n",
       "2  1-Methyl Cyclopropene  2015          41           27            1.7    OR\n",
       "3  1-Methyl Cyclopropene  2015          41           49            0.1    OR\n",
       "4  1-Methyl Cyclopropene  2015          41           55            0.0    OR"
      ]
     },
     "execution_count": 245,
     "metadata": {},
     "output_type": "execute_result"
    }
   ],
   "source": [
    "#FILL IN - Validate the cleaning was successful\n",
    "clean_pesticide_df.head()"
   ]
  },
  {
   "cell_type": "markdown",
   "metadata": {},
   "source": [
    "Justification: We can now see the State abbreviation in the clean_pesticide_df dataframe."
   ]
  },
  {
   "cell_type": "markdown",
   "metadata": {
    "id": "o51Bt8kwyTzk"
   },
   "source": [
    "### Tidiness Issue 2:\n",
    "The Death dataframe includes the top 5 causes of death. I only need the rows where the cause of death is cancer."
   ]
  },
  {
   "cell_type": "code",
   "execution_count": 246,
   "metadata": {
    "id": "7zW8O5yx4Y9O"
   },
   "outputs": [],
   "source": [
    "#FILL IN - Apply the cleaning strategy\n",
    "clean_cancer_df = clean_cancer_df[clean_cancer_df['Cause of Death'] == 'Cancer']"
   ]
  },
  {
   "cell_type": "code",
   "execution_count": 247,
   "metadata": {
    "id": "q6I_Sr7lxXi5"
   },
   "outputs": [
    {
     "data": {
      "text/plain": [
       "array(['Cancer'], dtype=object)"
      ]
     },
     "execution_count": 247,
     "metadata": {},
     "output_type": "execute_result"
    }
   ],
   "source": [
    "#FILL IN - Validate the cleaning was successful\n",
    "clean_cancer_df['Cause of Death'].unique()"
   ]
  },
  {
   "cell_type": "markdown",
   "metadata": {},
   "source": [
    "Justification: We can see here that the only unique value in the Cause of Death column is now \"Cancer\". All other causes have been removed."
   ]
  },
  {
   "cell_type": "markdown",
   "metadata": {},
   "source": [
    "### Tidiness Issue 3:\n",
    "The Locality column included three types of locations: metropolitan, non-metropolitan, and all. I want to research both metropolitan and non-metropolitan areas, so I am choosing to use the rows where Locality is \"All\"."
   ]
  },
  {
   "cell_type": "code",
   "execution_count": 248,
   "metadata": {},
   "outputs": [],
   "source": [
    "#Apply the cleaning strategy\n",
    "clean_cancer_df = clean_cancer_df[clean_cancer_df['Locality'] == 'All']"
   ]
  },
  {
   "cell_type": "code",
   "execution_count": 249,
   "metadata": {},
   "outputs": [
    {
     "data": {
      "text/plain": [
       "array(['All'], dtype=object)"
      ]
     },
     "execution_count": 249,
     "metadata": {},
     "output_type": "execute_result"
    }
   ],
   "source": [
    "#Validate the cleaning was successful\n",
    "clean_cancer_df['Locality'].unique()"
   ]
  },
  {
   "cell_type": "markdown",
   "metadata": {},
   "source": [
    "Justification: We can see that the only unique value in the Locality column is All."
   ]
  },
  {
   "cell_type": "markdown",
   "metadata": {},
   "source": [
    "### Tidiness Issue 4: \n",
    "The pesticide dataframe has pesticide usage broken out by compound, year, state, and county code. I will like to include the mean for pesticide use by state. To do so, I will group the dataframe by the State column to get the mean of the High Estimate column."
   ]
  },
  {
   "cell_type": "code",
   "execution_count": 250,
   "metadata": {},
   "outputs": [],
   "source": [
    "#Apply the cleaning strategy\n",
    "pesticide_mean_df = clean_pesticide_df.groupby('STATE')['HIGH_ESTIMATE'].mean().to_frame('PESTICIDE_USE_MEAN')"
   ]
  },
  {
   "cell_type": "code",
   "execution_count": 251,
   "metadata": {
    "scrolled": true
   },
   "outputs": [
    {
     "data": {
      "text/html": [
       "<div>\n",
       "<style scoped>\n",
       "    .dataframe tbody tr th:only-of-type {\n",
       "        vertical-align: middle;\n",
       "    }\n",
       "\n",
       "    .dataframe tbody tr th {\n",
       "        vertical-align: top;\n",
       "    }\n",
       "\n",
       "    .dataframe thead th {\n",
       "        text-align: right;\n",
       "    }\n",
       "</style>\n",
       "<table border=\"1\" class=\"dataframe\">\n",
       "  <thead>\n",
       "    <tr style=\"text-align: right;\">\n",
       "      <th></th>\n",
       "      <th>PESTICIDE_USE_MEAN</th>\n",
       "    </tr>\n",
       "    <tr>\n",
       "      <th>STATE</th>\n",
       "      <th></th>\n",
       "    </tr>\n",
       "  </thead>\n",
       "  <tbody>\n",
       "    <tr>\n",
       "      <th>AL</th>\n",
       "      <td>557.698539</td>\n",
       "    </tr>\n",
       "    <tr>\n",
       "      <th>AR</th>\n",
       "      <td>1862.021612</td>\n",
       "    </tr>\n",
       "    <tr>\n",
       "      <th>AZ</th>\n",
       "      <td>907.561324</td>\n",
       "    </tr>\n",
       "    <tr>\n",
       "      <th>CO</th>\n",
       "      <td>1481.976945</td>\n",
       "    </tr>\n",
       "    <tr>\n",
       "      <th>CT</th>\n",
       "      <td>111.018659</td>\n",
       "    </tr>\n",
       "  </tbody>\n",
       "</table>\n",
       "</div>"
      ],
      "text/plain": [
       "       PESTICIDE_USE_MEAN\n",
       "STATE                    \n",
       "AL             557.698539\n",
       "AR            1862.021612\n",
       "AZ             907.561324\n",
       "CO            1481.976945\n",
       "CT             111.018659"
      ]
     },
     "execution_count": 251,
     "metadata": {},
     "output_type": "execute_result"
    }
   ],
   "source": [
    "pesticide_mean_df.head()"
   ]
  },
  {
   "cell_type": "code",
   "execution_count": 252,
   "metadata": {},
   "outputs": [],
   "source": [
    "#reset index\n",
    "pesticide_mean_df = pesticide_mean_df.reset_index(drop=False)"
   ]
  },
  {
   "cell_type": "code",
   "execution_count": 253,
   "metadata": {
    "scrolled": false
   },
   "outputs": [
    {
     "data": {
      "text/html": [
       "<div>\n",
       "<style scoped>\n",
       "    .dataframe tbody tr th:only-of-type {\n",
       "        vertical-align: middle;\n",
       "    }\n",
       "\n",
       "    .dataframe tbody tr th {\n",
       "        vertical-align: top;\n",
       "    }\n",
       "\n",
       "    .dataframe thead th {\n",
       "        text-align: right;\n",
       "    }\n",
       "</style>\n",
       "<table border=\"1\" class=\"dataframe\">\n",
       "  <thead>\n",
       "    <tr style=\"text-align: right;\">\n",
       "      <th></th>\n",
       "      <th>STATE</th>\n",
       "      <th>PESTICIDE_USE_MEAN</th>\n",
       "    </tr>\n",
       "  </thead>\n",
       "  <tbody>\n",
       "    <tr>\n",
       "      <th>0</th>\n",
       "      <td>AL</td>\n",
       "      <td>557.698539</td>\n",
       "    </tr>\n",
       "    <tr>\n",
       "      <th>1</th>\n",
       "      <td>AR</td>\n",
       "      <td>1862.021612</td>\n",
       "    </tr>\n",
       "    <tr>\n",
       "      <th>2</th>\n",
       "      <td>AZ</td>\n",
       "      <td>907.561324</td>\n",
       "    </tr>\n",
       "    <tr>\n",
       "      <th>3</th>\n",
       "      <td>CO</td>\n",
       "      <td>1481.976945</td>\n",
       "    </tr>\n",
       "    <tr>\n",
       "      <th>4</th>\n",
       "      <td>CT</td>\n",
       "      <td>111.018659</td>\n",
       "    </tr>\n",
       "  </tbody>\n",
       "</table>\n",
       "</div>"
      ],
      "text/plain": [
       "  STATE  PESTICIDE_USE_MEAN\n",
       "0    AL          557.698539\n",
       "1    AR         1862.021612\n",
       "2    AZ          907.561324\n",
       "3    CO         1481.976945\n",
       "4    CT          111.018659"
      ]
     },
     "execution_count": 253,
     "metadata": {},
     "output_type": "execute_result"
    }
   ],
   "source": [
    "#Validate the cleaning was successful\n",
    "pesticide_mean_df.head()"
   ]
  },
  {
   "cell_type": "code",
   "execution_count": 254,
   "metadata": {},
   "outputs": [],
   "source": [
    "#Merge pesticide_mean with clean_pesticide_df\n",
    "clean_pesticide_df = pd.merge(clean_pesticide_df, pesticide_mean_df, on=['STATE'], how='left')"
   ]
  },
  {
   "cell_type": "code",
   "execution_count": 255,
   "metadata": {
    "scrolled": true
   },
   "outputs": [
    {
     "data": {
      "text/html": [
       "<div>\n",
       "<style scoped>\n",
       "    .dataframe tbody tr th:only-of-type {\n",
       "        vertical-align: middle;\n",
       "    }\n",
       "\n",
       "    .dataframe tbody tr th {\n",
       "        vertical-align: top;\n",
       "    }\n",
       "\n",
       "    .dataframe thead th {\n",
       "        text-align: right;\n",
       "    }\n",
       "</style>\n",
       "<table border=\"1\" class=\"dataframe\">\n",
       "  <thead>\n",
       "    <tr style=\"text-align: right;\">\n",
       "      <th></th>\n",
       "      <th>COMPOUND</th>\n",
       "      <th>YEAR</th>\n",
       "      <th>STATE_CODE</th>\n",
       "      <th>COUNTY_CODE</th>\n",
       "      <th>HIGH_ESTIMATE</th>\n",
       "      <th>STATE</th>\n",
       "      <th>PESTICIDE_USE_MEAN</th>\n",
       "    </tr>\n",
       "  </thead>\n",
       "  <tbody>\n",
       "    <tr>\n",
       "      <th>0</th>\n",
       "      <td>1-Methyl Cyclopropene</td>\n",
       "      <td>2015</td>\n",
       "      <td>41</td>\n",
       "      <td>1</td>\n",
       "      <td>0.0</td>\n",
       "      <td>OR</td>\n",
       "      <td>1164.397684</td>\n",
       "    </tr>\n",
       "    <tr>\n",
       "      <th>1</th>\n",
       "      <td>1-Methyl Cyclopropene</td>\n",
       "      <td>2015</td>\n",
       "      <td>41</td>\n",
       "      <td>21</td>\n",
       "      <td>0.1</td>\n",
       "      <td>OR</td>\n",
       "      <td>1164.397684</td>\n",
       "    </tr>\n",
       "    <tr>\n",
       "      <th>2</th>\n",
       "      <td>1-Methyl Cyclopropene</td>\n",
       "      <td>2015</td>\n",
       "      <td>41</td>\n",
       "      <td>27</td>\n",
       "      <td>1.7</td>\n",
       "      <td>OR</td>\n",
       "      <td>1164.397684</td>\n",
       "    </tr>\n",
       "    <tr>\n",
       "      <th>3</th>\n",
       "      <td>1-Methyl Cyclopropene</td>\n",
       "      <td>2015</td>\n",
       "      <td>41</td>\n",
       "      <td>49</td>\n",
       "      <td>0.1</td>\n",
       "      <td>OR</td>\n",
       "      <td>1164.397684</td>\n",
       "    </tr>\n",
       "    <tr>\n",
       "      <th>4</th>\n",
       "      <td>1-Methyl Cyclopropene</td>\n",
       "      <td>2015</td>\n",
       "      <td>41</td>\n",
       "      <td>55</td>\n",
       "      <td>0.0</td>\n",
       "      <td>OR</td>\n",
       "      <td>1164.397684</td>\n",
       "    </tr>\n",
       "  </tbody>\n",
       "</table>\n",
       "</div>"
      ],
      "text/plain": [
       "                COMPOUND  YEAR  STATE_CODE  COUNTY_CODE  HIGH_ESTIMATE STATE  \\\n",
       "0  1-Methyl Cyclopropene  2015          41            1            0.0    OR   \n",
       "1  1-Methyl Cyclopropene  2015          41           21            0.1    OR   \n",
       "2  1-Methyl Cyclopropene  2015          41           27            1.7    OR   \n",
       "3  1-Methyl Cyclopropene  2015          41           49            0.1    OR   \n",
       "4  1-Methyl Cyclopropene  2015          41           55            0.0    OR   \n",
       "\n",
       "   PESTICIDE_USE_MEAN  \n",
       "0         1164.397684  \n",
       "1         1164.397684  \n",
       "2         1164.397684  \n",
       "3         1164.397684  \n",
       "4         1164.397684  "
      ]
     },
     "execution_count": 255,
     "metadata": {},
     "output_type": "execute_result"
    }
   ],
   "source": [
    "#view head of clean_pesticide_df to confirm Pesticide_Use_Mean is added\n",
    "clean_pesticide_df.head()"
   ]
  },
  {
   "cell_type": "markdown",
   "metadata": {},
   "source": [
    "The Pesticde Use Mean column has been added, but it is duplicated for each state since the dataframe is still broken out by county code. I am going to rename this column to \"State Pesticide Use Mean\" so that there is no confusion on what this result represents."
   ]
  },
  {
   "cell_type": "code",
   "execution_count": 256,
   "metadata": {},
   "outputs": [],
   "source": [
    "#Rename \"PESTICIDE_USE_MEAN\" as \"STATE_PESTICIDE_USE_MEAN\"\n",
    "clean_pesticide_df = clean_pesticide_df.rename(columns={'PESTICIDE_USE_MEAN':'STATE_PESTICIDE_USE_MEAN'})"
   ]
  },
  {
   "cell_type": "code",
   "execution_count": 257,
   "metadata": {},
   "outputs": [
    {
     "data": {
      "text/html": [
       "<div>\n",
       "<style scoped>\n",
       "    .dataframe tbody tr th:only-of-type {\n",
       "        vertical-align: middle;\n",
       "    }\n",
       "\n",
       "    .dataframe tbody tr th {\n",
       "        vertical-align: top;\n",
       "    }\n",
       "\n",
       "    .dataframe thead th {\n",
       "        text-align: right;\n",
       "    }\n",
       "</style>\n",
       "<table border=\"1\" class=\"dataframe\">\n",
       "  <thead>\n",
       "    <tr style=\"text-align: right;\">\n",
       "      <th></th>\n",
       "      <th>COMPOUND</th>\n",
       "      <th>YEAR</th>\n",
       "      <th>STATE_CODE</th>\n",
       "      <th>COUNTY_CODE</th>\n",
       "      <th>HIGH_ESTIMATE</th>\n",
       "      <th>STATE</th>\n",
       "      <th>STATE_PESTICIDE_USE_MEAN</th>\n",
       "    </tr>\n",
       "  </thead>\n",
       "  <tbody>\n",
       "    <tr>\n",
       "      <th>0</th>\n",
       "      <td>1-Methyl Cyclopropene</td>\n",
       "      <td>2015</td>\n",
       "      <td>41</td>\n",
       "      <td>1</td>\n",
       "      <td>0.0</td>\n",
       "      <td>OR</td>\n",
       "      <td>1164.397684</td>\n",
       "    </tr>\n",
       "    <tr>\n",
       "      <th>1</th>\n",
       "      <td>1-Methyl Cyclopropene</td>\n",
       "      <td>2015</td>\n",
       "      <td>41</td>\n",
       "      <td>21</td>\n",
       "      <td>0.1</td>\n",
       "      <td>OR</td>\n",
       "      <td>1164.397684</td>\n",
       "    </tr>\n",
       "    <tr>\n",
       "      <th>2</th>\n",
       "      <td>1-Methyl Cyclopropene</td>\n",
       "      <td>2015</td>\n",
       "      <td>41</td>\n",
       "      <td>27</td>\n",
       "      <td>1.7</td>\n",
       "      <td>OR</td>\n",
       "      <td>1164.397684</td>\n",
       "    </tr>\n",
       "    <tr>\n",
       "      <th>3</th>\n",
       "      <td>1-Methyl Cyclopropene</td>\n",
       "      <td>2015</td>\n",
       "      <td>41</td>\n",
       "      <td>49</td>\n",
       "      <td>0.1</td>\n",
       "      <td>OR</td>\n",
       "      <td>1164.397684</td>\n",
       "    </tr>\n",
       "    <tr>\n",
       "      <th>4</th>\n",
       "      <td>1-Methyl Cyclopropene</td>\n",
       "      <td>2015</td>\n",
       "      <td>41</td>\n",
       "      <td>55</td>\n",
       "      <td>0.0</td>\n",
       "      <td>OR</td>\n",
       "      <td>1164.397684</td>\n",
       "    </tr>\n",
       "  </tbody>\n",
       "</table>\n",
       "</div>"
      ],
      "text/plain": [
       "                COMPOUND  YEAR  STATE_CODE  COUNTY_CODE  HIGH_ESTIMATE STATE  \\\n",
       "0  1-Methyl Cyclopropene  2015          41            1            0.0    OR   \n",
       "1  1-Methyl Cyclopropene  2015          41           21            0.1    OR   \n",
       "2  1-Methyl Cyclopropene  2015          41           27            1.7    OR   \n",
       "3  1-Methyl Cyclopropene  2015          41           49            0.1    OR   \n",
       "4  1-Methyl Cyclopropene  2015          41           55            0.0    OR   \n",
       "\n",
       "   STATE_PESTICIDE_USE_MEAN  \n",
       "0               1164.397684  \n",
       "1               1164.397684  \n",
       "2               1164.397684  \n",
       "3               1164.397684  \n",
       "4               1164.397684  "
      ]
     },
     "execution_count": 257,
     "metadata": {},
     "output_type": "execute_result"
    }
   ],
   "source": [
    "clean_pesticide_df.head()"
   ]
  },
  {
   "cell_type": "markdown",
   "metadata": {},
   "source": [
    "Justification: Now that I have the High Estimate mean for pesticide use by state, I can add the mean to the clean pesticide dataframe."
   ]
  },
  {
   "cell_type": "markdown",
   "metadata": {},
   "source": [
    "### Tidiness Issue 5: \n",
    "The clean_cancer_df dataframe has 2005 Fixed, 2010 Fixed, and Floating as options in the Benchmark column. I would like to use the rows where the benchmark is floating. This will allow me to remove duplicate rows."
   ]
  },
  {
   "cell_type": "code",
   "execution_count": 258,
   "metadata": {},
   "outputs": [],
   "source": [
    "#FILL IN - Apply the cleaning strategy\n",
    "clean_cancer_df = clean_cancer_df[clean_cancer_df['Benchmark'] == 'Floating']"
   ]
  },
  {
   "cell_type": "code",
   "execution_count": 259,
   "metadata": {},
   "outputs": [
    {
     "data": {
      "text/html": [
       "<div>\n",
       "<style scoped>\n",
       "    .dataframe tbody tr th:only-of-type {\n",
       "        vertical-align: middle;\n",
       "    }\n",
       "\n",
       "    .dataframe tbody tr th {\n",
       "        vertical-align: top;\n",
       "    }\n",
       "\n",
       "    .dataframe thead th {\n",
       "        text-align: right;\n",
       "    }\n",
       "</style>\n",
       "<table border=\"1\" class=\"dataframe\">\n",
       "  <thead>\n",
       "    <tr style=\"text-align: right;\">\n",
       "      <th></th>\n",
       "      <th>Year</th>\n",
       "      <th>Cause of Death</th>\n",
       "      <th>State</th>\n",
       "      <th>State FIPS Code</th>\n",
       "      <th>HHS Region</th>\n",
       "      <th>Age Range</th>\n",
       "      <th>Benchmark</th>\n",
       "      <th>Locality</th>\n",
       "      <th>Observed Deaths</th>\n",
       "      <th>Population</th>\n",
       "      <th>Expected Deaths</th>\n",
       "      <th>Potentially Excess Deaths</th>\n",
       "      <th>Percent Potentially Excess Deaths</th>\n",
       "    </tr>\n",
       "  </thead>\n",
       "  <tbody>\n",
       "    <tr>\n",
       "      <th>6</th>\n",
       "      <td>2005</td>\n",
       "      <td>Cancer</td>\n",
       "      <td>Alabama</td>\n",
       "      <td>AL</td>\n",
       "      <td>4</td>\n",
       "      <td>0-49</td>\n",
       "      <td>Floating</td>\n",
       "      <td>All</td>\n",
       "      <td>756.0</td>\n",
       "      <td>3148377.0</td>\n",
       "      <td>451.0</td>\n",
       "      <td>305.0</td>\n",
       "      <td>40.3</td>\n",
       "    </tr>\n",
       "    <tr>\n",
       "      <th>15</th>\n",
       "      <td>2005</td>\n",
       "      <td>Cancer</td>\n",
       "      <td>Alabama</td>\n",
       "      <td>AL</td>\n",
       "      <td>4</td>\n",
       "      <td>0-54</td>\n",
       "      <td>Floating</td>\n",
       "      <td>All</td>\n",
       "      <td>1346.0</td>\n",
       "      <td>3463216.0</td>\n",
       "      <td>784.0</td>\n",
       "      <td>562.0</td>\n",
       "      <td>41.8</td>\n",
       "    </tr>\n",
       "    <tr>\n",
       "      <th>24</th>\n",
       "      <td>2005</td>\n",
       "      <td>Cancer</td>\n",
       "      <td>Alabama</td>\n",
       "      <td>AL</td>\n",
       "      <td>4</td>\n",
       "      <td>0-59</td>\n",
       "      <td>Floating</td>\n",
       "      <td>All</td>\n",
       "      <td>2199.0</td>\n",
       "      <td>3747300.0</td>\n",
       "      <td>1330.0</td>\n",
       "      <td>869.0</td>\n",
       "      <td>39.5</td>\n",
       "    </tr>\n",
       "    <tr>\n",
       "      <th>33</th>\n",
       "      <td>2005</td>\n",
       "      <td>Cancer</td>\n",
       "      <td>Alabama</td>\n",
       "      <td>AL</td>\n",
       "      <td>4</td>\n",
       "      <td>0-64</td>\n",
       "      <td>Floating</td>\n",
       "      <td>All</td>\n",
       "      <td>3244.0</td>\n",
       "      <td>3967703.0</td>\n",
       "      <td>2067.0</td>\n",
       "      <td>1177.0</td>\n",
       "      <td>36.3</td>\n",
       "    </tr>\n",
       "    <tr>\n",
       "      <th>42</th>\n",
       "      <td>2005</td>\n",
       "      <td>Cancer</td>\n",
       "      <td>Alabama</td>\n",
       "      <td>AL</td>\n",
       "      <td>4</td>\n",
       "      <td>0-69</td>\n",
       "      <td>Floating</td>\n",
       "      <td>All</td>\n",
       "      <td>4472.0</td>\n",
       "      <td>4147645.0</td>\n",
       "      <td>2966.0</td>\n",
       "      <td>1506.0</td>\n",
       "      <td>33.7</td>\n",
       "    </tr>\n",
       "  </tbody>\n",
       "</table>\n",
       "</div>"
      ],
      "text/plain": [
       "    Year Cause of Death    State State FIPS Code  HHS Region Age Range  \\\n",
       "6   2005         Cancer  Alabama              AL           4      0-49   \n",
       "15  2005         Cancer  Alabama              AL           4      0-54   \n",
       "24  2005         Cancer  Alabama              AL           4      0-59   \n",
       "33  2005         Cancer  Alabama              AL           4      0-64   \n",
       "42  2005         Cancer  Alabama              AL           4      0-69   \n",
       "\n",
       "   Benchmark Locality  Observed Deaths  Population  Expected Deaths  \\\n",
       "6   Floating      All            756.0   3148377.0            451.0   \n",
       "15  Floating      All           1346.0   3463216.0            784.0   \n",
       "24  Floating      All           2199.0   3747300.0           1330.0   \n",
       "33  Floating      All           3244.0   3967703.0           2067.0   \n",
       "42  Floating      All           4472.0   4147645.0           2966.0   \n",
       "\n",
       "    Potentially Excess Deaths  Percent Potentially Excess Deaths  \n",
       "6                       305.0                               40.3  \n",
       "15                      562.0                               41.8  \n",
       "24                      869.0                               39.5  \n",
       "33                     1177.0                               36.3  \n",
       "42                     1506.0                               33.7  "
      ]
     },
     "execution_count": 259,
     "metadata": {},
     "output_type": "execute_result"
    }
   ],
   "source": [
    "#FILL IN - Validate the cleaning was successful\n",
    "clean_cancer_df.head()"
   ]
  },
  {
   "cell_type": "markdown",
   "metadata": {},
   "source": [
    "Justification: The duplicate rows for Benchmark are now removed."
   ]
  },
  {
   "cell_type": "markdown",
   "metadata": {},
   "source": [
    "### Tidiness Issue 6: \n",
    "The Age Range column included multiple age ranges. I would like to research all age ranges so am choosing to use the rows where the age range is 0-84. I will remove the rows with the other age ranges."
   ]
  },
  {
   "cell_type": "code",
   "execution_count": 260,
   "metadata": {},
   "outputs": [],
   "source": [
    "#FILL IN - Apply the cleaning strategy\n",
    "clean_cancer_df = clean_cancer_df[clean_cancer_df['Age Range'] == '0-84']"
   ]
  },
  {
   "cell_type": "code",
   "execution_count": 261,
   "metadata": {
    "scrolled": false
   },
   "outputs": [
    {
     "data": {
      "text/html": [
       "<div>\n",
       "<style scoped>\n",
       "    .dataframe tbody tr th:only-of-type {\n",
       "        vertical-align: middle;\n",
       "    }\n",
       "\n",
       "    .dataframe tbody tr th {\n",
       "        vertical-align: top;\n",
       "    }\n",
       "\n",
       "    .dataframe thead th {\n",
       "        text-align: right;\n",
       "    }\n",
       "</style>\n",
       "<table border=\"1\" class=\"dataframe\">\n",
       "  <thead>\n",
       "    <tr style=\"text-align: right;\">\n",
       "      <th></th>\n",
       "      <th>Year</th>\n",
       "      <th>Cause of Death</th>\n",
       "      <th>State</th>\n",
       "      <th>State FIPS Code</th>\n",
       "      <th>HHS Region</th>\n",
       "      <th>Age Range</th>\n",
       "      <th>Benchmark</th>\n",
       "      <th>Locality</th>\n",
       "      <th>Observed Deaths</th>\n",
       "      <th>Population</th>\n",
       "      <th>Expected Deaths</th>\n",
       "      <th>Potentially Excess Deaths</th>\n",
       "      <th>Percent Potentially Excess Deaths</th>\n",
       "    </tr>\n",
       "  </thead>\n",
       "  <tbody>\n",
       "    <tr>\n",
       "      <th>69</th>\n",
       "      <td>2005</td>\n",
       "      <td>Cancer</td>\n",
       "      <td>Alabama</td>\n",
       "      <td>AL</td>\n",
       "      <td>4</td>\n",
       "      <td>0-84</td>\n",
       "      <td>Floating</td>\n",
       "      <td>All</td>\n",
       "      <td>8628.0</td>\n",
       "      <td>4502415.0</td>\n",
       "      <td>6182.0</td>\n",
       "      <td>2446.0</td>\n",
       "      <td>28.3</td>\n",
       "    </tr>\n",
       "    <tr>\n",
       "      <th>141</th>\n",
       "      <td>2005</td>\n",
       "      <td>Cancer</td>\n",
       "      <td>Alaska</td>\n",
       "      <td>AK</td>\n",
       "      <td>10</td>\n",
       "      <td>0-84</td>\n",
       "      <td>Floating</td>\n",
       "      <td>All</td>\n",
       "      <td>659.0</td>\n",
       "      <td>663333.0</td>\n",
       "      <td>596.0</td>\n",
       "      <td>67.0</td>\n",
       "      <td>10.2</td>\n",
       "    </tr>\n",
       "    <tr>\n",
       "      <th>213</th>\n",
       "      <td>2005</td>\n",
       "      <td>Cancer</td>\n",
       "      <td>Arizona</td>\n",
       "      <td>AZ</td>\n",
       "      <td>9</td>\n",
       "      <td>0-84</td>\n",
       "      <td>Floating</td>\n",
       "      <td>All</td>\n",
       "      <td>8410.0</td>\n",
       "      <td>5756893.0</td>\n",
       "      <td>7670.0</td>\n",
       "      <td>740.0</td>\n",
       "      <td>8.8</td>\n",
       "    </tr>\n",
       "    <tr>\n",
       "      <th>286</th>\n",
       "      <td>2005</td>\n",
       "      <td>Cancer</td>\n",
       "      <td>Arkansas</td>\n",
       "      <td>AR</td>\n",
       "      <td>6</td>\n",
       "      <td>0-84</td>\n",
       "      <td>Floating</td>\n",
       "      <td>All</td>\n",
       "      <td>5520.0</td>\n",
       "      <td>2733969.0</td>\n",
       "      <td>3848.0</td>\n",
       "      <td>1672.0</td>\n",
       "      <td>30.3</td>\n",
       "    </tr>\n",
       "    <tr>\n",
       "      <th>358</th>\n",
       "      <td>2005</td>\n",
       "      <td>Cancer</td>\n",
       "      <td>California</td>\n",
       "      <td>CA</td>\n",
       "      <td>9</td>\n",
       "      <td>0-84</td>\n",
       "      <td>Floating</td>\n",
       "      <td>All</td>\n",
       "      <td>46195.0</td>\n",
       "      <td>35334704.0</td>\n",
       "      <td>40784.0</td>\n",
       "      <td>5411.0</td>\n",
       "      <td>11.7</td>\n",
       "    </tr>\n",
       "  </tbody>\n",
       "</table>\n",
       "</div>"
      ],
      "text/plain": [
       "     Year Cause of Death       State State FIPS Code  HHS Region Age Range  \\\n",
       "69   2005         Cancer     Alabama              AL           4      0-84   \n",
       "141  2005         Cancer      Alaska              AK          10      0-84   \n",
       "213  2005         Cancer     Arizona              AZ           9      0-84   \n",
       "286  2005         Cancer    Arkansas              AR           6      0-84   \n",
       "358  2005         Cancer  California              CA           9      0-84   \n",
       "\n",
       "    Benchmark Locality  Observed Deaths  Population  Expected Deaths  \\\n",
       "69   Floating      All           8628.0   4502415.0           6182.0   \n",
       "141  Floating      All            659.0    663333.0            596.0   \n",
       "213  Floating      All           8410.0   5756893.0           7670.0   \n",
       "286  Floating      All           5520.0   2733969.0           3848.0   \n",
       "358  Floating      All          46195.0  35334704.0          40784.0   \n",
       "\n",
       "     Potentially Excess Deaths  Percent Potentially Excess Deaths  \n",
       "69                      2446.0                               28.3  \n",
       "141                       67.0                               10.2  \n",
       "213                      740.0                                8.8  \n",
       "286                     1672.0                               30.3  \n",
       "358                     5411.0                               11.7  "
      ]
     },
     "execution_count": 261,
     "metadata": {},
     "output_type": "execute_result"
    }
   ],
   "source": [
    "#FILL IN - Validate the cleaning was successful\n",
    "clean_cancer_df.head()"
   ]
  },
  {
   "cell_type": "markdown",
   "metadata": {},
   "source": [
    "Justification: The data now only includes rows where the age range is 0-84."
   ]
  },
  {
   "cell_type": "markdown",
   "metadata": {},
   "source": [
    "### Tidiness Issue 7:\n",
    "The clean_cancer_df dataframe does not include a column for percent of deaths. I would like to calucate this information and include it in the dataframe."
   ]
  },
  {
   "cell_type": "code",
   "execution_count": 262,
   "metadata": {},
   "outputs": [],
   "source": [
    "#Apply the cleaning strategy\n",
    "clean_cancer_df['PercentDeaths'] = clean_cancer_df['Observed Deaths'] / clean_cancer_df['Population'] * 100"
   ]
  },
  {
   "cell_type": "code",
   "execution_count": 263,
   "metadata": {},
   "outputs": [
    {
     "data": {
      "text/html": [
       "<div>\n",
       "<style scoped>\n",
       "    .dataframe tbody tr th:only-of-type {\n",
       "        vertical-align: middle;\n",
       "    }\n",
       "\n",
       "    .dataframe tbody tr th {\n",
       "        vertical-align: top;\n",
       "    }\n",
       "\n",
       "    .dataframe thead th {\n",
       "        text-align: right;\n",
       "    }\n",
       "</style>\n",
       "<table border=\"1\" class=\"dataframe\">\n",
       "  <thead>\n",
       "    <tr style=\"text-align: right;\">\n",
       "      <th></th>\n",
       "      <th>Year</th>\n",
       "      <th>Cause of Death</th>\n",
       "      <th>State</th>\n",
       "      <th>State FIPS Code</th>\n",
       "      <th>HHS Region</th>\n",
       "      <th>Age Range</th>\n",
       "      <th>Benchmark</th>\n",
       "      <th>Locality</th>\n",
       "      <th>Observed Deaths</th>\n",
       "      <th>Population</th>\n",
       "      <th>Expected Deaths</th>\n",
       "      <th>Potentially Excess Deaths</th>\n",
       "      <th>Percent Potentially Excess Deaths</th>\n",
       "      <th>PercentDeaths</th>\n",
       "    </tr>\n",
       "  </thead>\n",
       "  <tbody>\n",
       "    <tr>\n",
       "      <th>69</th>\n",
       "      <td>2005</td>\n",
       "      <td>Cancer</td>\n",
       "      <td>Alabama</td>\n",
       "      <td>AL</td>\n",
       "      <td>4</td>\n",
       "      <td>0-84</td>\n",
       "      <td>Floating</td>\n",
       "      <td>All</td>\n",
       "      <td>8628.0</td>\n",
       "      <td>4502415.0</td>\n",
       "      <td>6182.0</td>\n",
       "      <td>2446.0</td>\n",
       "      <td>28.3</td>\n",
       "      <td>0.191630</td>\n",
       "    </tr>\n",
       "    <tr>\n",
       "      <th>141</th>\n",
       "      <td>2005</td>\n",
       "      <td>Cancer</td>\n",
       "      <td>Alaska</td>\n",
       "      <td>AK</td>\n",
       "      <td>10</td>\n",
       "      <td>0-84</td>\n",
       "      <td>Floating</td>\n",
       "      <td>All</td>\n",
       "      <td>659.0</td>\n",
       "      <td>663333.0</td>\n",
       "      <td>596.0</td>\n",
       "      <td>67.0</td>\n",
       "      <td>10.2</td>\n",
       "      <td>0.099347</td>\n",
       "    </tr>\n",
       "    <tr>\n",
       "      <th>213</th>\n",
       "      <td>2005</td>\n",
       "      <td>Cancer</td>\n",
       "      <td>Arizona</td>\n",
       "      <td>AZ</td>\n",
       "      <td>9</td>\n",
       "      <td>0-84</td>\n",
       "      <td>Floating</td>\n",
       "      <td>All</td>\n",
       "      <td>8410.0</td>\n",
       "      <td>5756893.0</td>\n",
       "      <td>7670.0</td>\n",
       "      <td>740.0</td>\n",
       "      <td>8.8</td>\n",
       "      <td>0.146086</td>\n",
       "    </tr>\n",
       "    <tr>\n",
       "      <th>286</th>\n",
       "      <td>2005</td>\n",
       "      <td>Cancer</td>\n",
       "      <td>Arkansas</td>\n",
       "      <td>AR</td>\n",
       "      <td>6</td>\n",
       "      <td>0-84</td>\n",
       "      <td>Floating</td>\n",
       "      <td>All</td>\n",
       "      <td>5520.0</td>\n",
       "      <td>2733969.0</td>\n",
       "      <td>3848.0</td>\n",
       "      <td>1672.0</td>\n",
       "      <td>30.3</td>\n",
       "      <td>0.201904</td>\n",
       "    </tr>\n",
       "    <tr>\n",
       "      <th>358</th>\n",
       "      <td>2005</td>\n",
       "      <td>Cancer</td>\n",
       "      <td>California</td>\n",
       "      <td>CA</td>\n",
       "      <td>9</td>\n",
       "      <td>0-84</td>\n",
       "      <td>Floating</td>\n",
       "      <td>All</td>\n",
       "      <td>46195.0</td>\n",
       "      <td>35334704.0</td>\n",
       "      <td>40784.0</td>\n",
       "      <td>5411.0</td>\n",
       "      <td>11.7</td>\n",
       "      <td>0.130735</td>\n",
       "    </tr>\n",
       "  </tbody>\n",
       "</table>\n",
       "</div>"
      ],
      "text/plain": [
       "     Year Cause of Death       State State FIPS Code  HHS Region Age Range  \\\n",
       "69   2005         Cancer     Alabama              AL           4      0-84   \n",
       "141  2005         Cancer      Alaska              AK          10      0-84   \n",
       "213  2005         Cancer     Arizona              AZ           9      0-84   \n",
       "286  2005         Cancer    Arkansas              AR           6      0-84   \n",
       "358  2005         Cancer  California              CA           9      0-84   \n",
       "\n",
       "    Benchmark Locality  Observed Deaths  Population  Expected Deaths  \\\n",
       "69   Floating      All           8628.0   4502415.0           6182.0   \n",
       "141  Floating      All            659.0    663333.0            596.0   \n",
       "213  Floating      All           8410.0   5756893.0           7670.0   \n",
       "286  Floating      All           5520.0   2733969.0           3848.0   \n",
       "358  Floating      All          46195.0  35334704.0          40784.0   \n",
       "\n",
       "     Potentially Excess Deaths  Percent Potentially Excess Deaths  \\\n",
       "69                      2446.0                               28.3   \n",
       "141                       67.0                               10.2   \n",
       "213                      740.0                                8.8   \n",
       "286                     1672.0                               30.3   \n",
       "358                     5411.0                               11.7   \n",
       "\n",
       "     PercentDeaths  \n",
       "69        0.191630  \n",
       "141       0.099347  \n",
       "213       0.146086  \n",
       "286       0.201904  \n",
       "358       0.130735  "
      ]
     },
     "execution_count": 263,
     "metadata": {},
     "output_type": "execute_result"
    }
   ],
   "source": [
    "#FILL IN - Validate the cleaning was successful\n",
    "clean_cancer_df.head()"
   ]
  },
  {
   "cell_type": "markdown",
   "metadata": {},
   "source": [
    "Justification: I used the Observed Deaths as the numerator and the Population columns to calculate the PercentDeath columns."
   ]
  },
  {
   "cell_type": "markdown",
   "metadata": {},
   "source": [
    "### Tidiness Issue 8:\n",
    "The column names with more that one word have spaces in the clean_cancer_df dataframe. I would like to remove those spaces by renaming the columns."
   ]
  },
  {
   "cell_type": "code",
   "execution_count": 264,
   "metadata": {},
   "outputs": [],
   "source": [
    "#Apply the cleaning strategy\n",
    "#Remove spaces from column names in the clean_cancer_df\n",
    "clean_cancer_df = clean_cancer_df.rename(columns={'Year':'YEAR','Cause of Death':'CAUSE_OF_DEATH','State':'STATE','State FIPS Code':'STATE_FIPS_CODE',\n",
    "                                                 'Age Range':'AGE_RANGE','Benchmark':'BENCHMARK','Locality':'LOCALITY','Observed Deaths':'OBSERVED_DEATHS',\n",
    "                                                 'Population':'POPULATION','PercentDeaths':'PERCENT_OF_DEATHS'})"
   ]
  },
  {
   "cell_type": "code",
   "execution_count": 265,
   "metadata": {
    "scrolled": true
   },
   "outputs": [
    {
     "data": {
      "text/html": [
       "<div>\n",
       "<style scoped>\n",
       "    .dataframe tbody tr th:only-of-type {\n",
       "        vertical-align: middle;\n",
       "    }\n",
       "\n",
       "    .dataframe tbody tr th {\n",
       "        vertical-align: top;\n",
       "    }\n",
       "\n",
       "    .dataframe thead th {\n",
       "        text-align: right;\n",
       "    }\n",
       "</style>\n",
       "<table border=\"1\" class=\"dataframe\">\n",
       "  <thead>\n",
       "    <tr style=\"text-align: right;\">\n",
       "      <th></th>\n",
       "      <th>YEAR</th>\n",
       "      <th>CAUSE_OF_DEATH</th>\n",
       "      <th>STATE</th>\n",
       "      <th>STATE_FIPS_CODE</th>\n",
       "      <th>HHS Region</th>\n",
       "      <th>AGE_RANGE</th>\n",
       "      <th>BENCHMARK</th>\n",
       "      <th>LOCALITY</th>\n",
       "      <th>OBSERVED_DEATHS</th>\n",
       "      <th>POPULATION</th>\n",
       "      <th>Expected Deaths</th>\n",
       "      <th>Potentially Excess Deaths</th>\n",
       "      <th>Percent Potentially Excess Deaths</th>\n",
       "      <th>PERCENT_OF_DEATHS</th>\n",
       "    </tr>\n",
       "  </thead>\n",
       "  <tbody>\n",
       "    <tr>\n",
       "      <th>69</th>\n",
       "      <td>2005</td>\n",
       "      <td>Cancer</td>\n",
       "      <td>Alabama</td>\n",
       "      <td>AL</td>\n",
       "      <td>4</td>\n",
       "      <td>0-84</td>\n",
       "      <td>Floating</td>\n",
       "      <td>All</td>\n",
       "      <td>8628.0</td>\n",
       "      <td>4502415.0</td>\n",
       "      <td>6182.0</td>\n",
       "      <td>2446.0</td>\n",
       "      <td>28.3</td>\n",
       "      <td>0.191630</td>\n",
       "    </tr>\n",
       "    <tr>\n",
       "      <th>141</th>\n",
       "      <td>2005</td>\n",
       "      <td>Cancer</td>\n",
       "      <td>Alaska</td>\n",
       "      <td>AK</td>\n",
       "      <td>10</td>\n",
       "      <td>0-84</td>\n",
       "      <td>Floating</td>\n",
       "      <td>All</td>\n",
       "      <td>659.0</td>\n",
       "      <td>663333.0</td>\n",
       "      <td>596.0</td>\n",
       "      <td>67.0</td>\n",
       "      <td>10.2</td>\n",
       "      <td>0.099347</td>\n",
       "    </tr>\n",
       "    <tr>\n",
       "      <th>213</th>\n",
       "      <td>2005</td>\n",
       "      <td>Cancer</td>\n",
       "      <td>Arizona</td>\n",
       "      <td>AZ</td>\n",
       "      <td>9</td>\n",
       "      <td>0-84</td>\n",
       "      <td>Floating</td>\n",
       "      <td>All</td>\n",
       "      <td>8410.0</td>\n",
       "      <td>5756893.0</td>\n",
       "      <td>7670.0</td>\n",
       "      <td>740.0</td>\n",
       "      <td>8.8</td>\n",
       "      <td>0.146086</td>\n",
       "    </tr>\n",
       "    <tr>\n",
       "      <th>286</th>\n",
       "      <td>2005</td>\n",
       "      <td>Cancer</td>\n",
       "      <td>Arkansas</td>\n",
       "      <td>AR</td>\n",
       "      <td>6</td>\n",
       "      <td>0-84</td>\n",
       "      <td>Floating</td>\n",
       "      <td>All</td>\n",
       "      <td>5520.0</td>\n",
       "      <td>2733969.0</td>\n",
       "      <td>3848.0</td>\n",
       "      <td>1672.0</td>\n",
       "      <td>30.3</td>\n",
       "      <td>0.201904</td>\n",
       "    </tr>\n",
       "    <tr>\n",
       "      <th>358</th>\n",
       "      <td>2005</td>\n",
       "      <td>Cancer</td>\n",
       "      <td>California</td>\n",
       "      <td>CA</td>\n",
       "      <td>9</td>\n",
       "      <td>0-84</td>\n",
       "      <td>Floating</td>\n",
       "      <td>All</td>\n",
       "      <td>46195.0</td>\n",
       "      <td>35334704.0</td>\n",
       "      <td>40784.0</td>\n",
       "      <td>5411.0</td>\n",
       "      <td>11.7</td>\n",
       "      <td>0.130735</td>\n",
       "    </tr>\n",
       "  </tbody>\n",
       "</table>\n",
       "</div>"
      ],
      "text/plain": [
       "     YEAR CAUSE_OF_DEATH       STATE STATE_FIPS_CODE  HHS Region AGE_RANGE  \\\n",
       "69   2005         Cancer     Alabama              AL           4      0-84   \n",
       "141  2005         Cancer      Alaska              AK          10      0-84   \n",
       "213  2005         Cancer     Arizona              AZ           9      0-84   \n",
       "286  2005         Cancer    Arkansas              AR           6      0-84   \n",
       "358  2005         Cancer  California              CA           9      0-84   \n",
       "\n",
       "    BENCHMARK LOCALITY  OBSERVED_DEATHS  POPULATION  Expected Deaths  \\\n",
       "69   Floating      All           8628.0   4502415.0           6182.0   \n",
       "141  Floating      All            659.0    663333.0            596.0   \n",
       "213  Floating      All           8410.0   5756893.0           7670.0   \n",
       "286  Floating      All           5520.0   2733969.0           3848.0   \n",
       "358  Floating      All          46195.0  35334704.0          40784.0   \n",
       "\n",
       "     Potentially Excess Deaths  Percent Potentially Excess Deaths  \\\n",
       "69                      2446.0                               28.3   \n",
       "141                       67.0                               10.2   \n",
       "213                      740.0                                8.8   \n",
       "286                     1672.0                               30.3   \n",
       "358                     5411.0                               11.7   \n",
       "\n",
       "     PERCENT_OF_DEATHS  \n",
       "69            0.191630  \n",
       "141           0.099347  \n",
       "213           0.146086  \n",
       "286           0.201904  \n",
       "358           0.130735  "
      ]
     },
     "execution_count": 265,
     "metadata": {},
     "output_type": "execute_result"
    }
   ],
   "source": [
    "#Validate the cleaning was successful\n",
    "clean_cancer_df.head()"
   ]
  },
  {
   "cell_type": "markdown",
   "metadata": {},
   "source": [
    "Justification: The columns that I will be continuing use in the research now have no spaces in the name."
   ]
  },
  {
   "cell_type": "markdown",
   "metadata": {},
   "source": [
    "### **Remove unnecessary variables and combine datasets**\n",
    "\n",
    "Depending on the datasets, you can also peform the combination before the cleaning steps."
   ]
  },
  {
   "cell_type": "code",
   "execution_count": 266,
   "metadata": {},
   "outputs": [],
   "source": [
    "#Remove unnecessary variables and combine datasets"
   ]
  },
  {
   "cell_type": "markdown",
   "metadata": {},
   "source": [
    "I would like to view the dataframes before I combine the datasets and remove variables."
   ]
  },
  {
   "cell_type": "code",
   "execution_count": 267,
   "metadata": {
    "scrolled": true
   },
   "outputs": [
    {
     "data": {
      "text/html": [
       "<div>\n",
       "<style scoped>\n",
       "    .dataframe tbody tr th:only-of-type {\n",
       "        vertical-align: middle;\n",
       "    }\n",
       "\n",
       "    .dataframe tbody tr th {\n",
       "        vertical-align: top;\n",
       "    }\n",
       "\n",
       "    .dataframe thead th {\n",
       "        text-align: right;\n",
       "    }\n",
       "</style>\n",
       "<table border=\"1\" class=\"dataframe\">\n",
       "  <thead>\n",
       "    <tr style=\"text-align: right;\">\n",
       "      <th></th>\n",
       "      <th>YEAR</th>\n",
       "      <th>CAUSE_OF_DEATH</th>\n",
       "      <th>STATE</th>\n",
       "      <th>STATE_FIPS_CODE</th>\n",
       "      <th>HHS Region</th>\n",
       "      <th>AGE_RANGE</th>\n",
       "      <th>BENCHMARK</th>\n",
       "      <th>LOCALITY</th>\n",
       "      <th>OBSERVED_DEATHS</th>\n",
       "      <th>POPULATION</th>\n",
       "      <th>Expected Deaths</th>\n",
       "      <th>Potentially Excess Deaths</th>\n",
       "      <th>Percent Potentially Excess Deaths</th>\n",
       "      <th>PERCENT_OF_DEATHS</th>\n",
       "    </tr>\n",
       "  </thead>\n",
       "  <tbody>\n",
       "    <tr>\n",
       "      <th>69</th>\n",
       "      <td>2005</td>\n",
       "      <td>Cancer</td>\n",
       "      <td>Alabama</td>\n",
       "      <td>AL</td>\n",
       "      <td>4</td>\n",
       "      <td>0-84</td>\n",
       "      <td>Floating</td>\n",
       "      <td>All</td>\n",
       "      <td>8628.0</td>\n",
       "      <td>4502415.0</td>\n",
       "      <td>6182.0</td>\n",
       "      <td>2446.0</td>\n",
       "      <td>28.3</td>\n",
       "      <td>0.191630</td>\n",
       "    </tr>\n",
       "    <tr>\n",
       "      <th>141</th>\n",
       "      <td>2005</td>\n",
       "      <td>Cancer</td>\n",
       "      <td>Alaska</td>\n",
       "      <td>AK</td>\n",
       "      <td>10</td>\n",
       "      <td>0-84</td>\n",
       "      <td>Floating</td>\n",
       "      <td>All</td>\n",
       "      <td>659.0</td>\n",
       "      <td>663333.0</td>\n",
       "      <td>596.0</td>\n",
       "      <td>67.0</td>\n",
       "      <td>10.2</td>\n",
       "      <td>0.099347</td>\n",
       "    </tr>\n",
       "    <tr>\n",
       "      <th>213</th>\n",
       "      <td>2005</td>\n",
       "      <td>Cancer</td>\n",
       "      <td>Arizona</td>\n",
       "      <td>AZ</td>\n",
       "      <td>9</td>\n",
       "      <td>0-84</td>\n",
       "      <td>Floating</td>\n",
       "      <td>All</td>\n",
       "      <td>8410.0</td>\n",
       "      <td>5756893.0</td>\n",
       "      <td>7670.0</td>\n",
       "      <td>740.0</td>\n",
       "      <td>8.8</td>\n",
       "      <td>0.146086</td>\n",
       "    </tr>\n",
       "    <tr>\n",
       "      <th>286</th>\n",
       "      <td>2005</td>\n",
       "      <td>Cancer</td>\n",
       "      <td>Arkansas</td>\n",
       "      <td>AR</td>\n",
       "      <td>6</td>\n",
       "      <td>0-84</td>\n",
       "      <td>Floating</td>\n",
       "      <td>All</td>\n",
       "      <td>5520.0</td>\n",
       "      <td>2733969.0</td>\n",
       "      <td>3848.0</td>\n",
       "      <td>1672.0</td>\n",
       "      <td>30.3</td>\n",
       "      <td>0.201904</td>\n",
       "    </tr>\n",
       "    <tr>\n",
       "      <th>358</th>\n",
       "      <td>2005</td>\n",
       "      <td>Cancer</td>\n",
       "      <td>California</td>\n",
       "      <td>CA</td>\n",
       "      <td>9</td>\n",
       "      <td>0-84</td>\n",
       "      <td>Floating</td>\n",
       "      <td>All</td>\n",
       "      <td>46195.0</td>\n",
       "      <td>35334704.0</td>\n",
       "      <td>40784.0</td>\n",
       "      <td>5411.0</td>\n",
       "      <td>11.7</td>\n",
       "      <td>0.130735</td>\n",
       "    </tr>\n",
       "  </tbody>\n",
       "</table>\n",
       "</div>"
      ],
      "text/plain": [
       "     YEAR CAUSE_OF_DEATH       STATE STATE_FIPS_CODE  HHS Region AGE_RANGE  \\\n",
       "69   2005         Cancer     Alabama              AL           4      0-84   \n",
       "141  2005         Cancer      Alaska              AK          10      0-84   \n",
       "213  2005         Cancer     Arizona              AZ           9      0-84   \n",
       "286  2005         Cancer    Arkansas              AR           6      0-84   \n",
       "358  2005         Cancer  California              CA           9      0-84   \n",
       "\n",
       "    BENCHMARK LOCALITY  OBSERVED_DEATHS  POPULATION  Expected Deaths  \\\n",
       "69   Floating      All           8628.0   4502415.0           6182.0   \n",
       "141  Floating      All            659.0    663333.0            596.0   \n",
       "213  Floating      All           8410.0   5756893.0           7670.0   \n",
       "286  Floating      All           5520.0   2733969.0           3848.0   \n",
       "358  Floating      All          46195.0  35334704.0          40784.0   \n",
       "\n",
       "     Potentially Excess Deaths  Percent Potentially Excess Deaths  \\\n",
       "69                      2446.0                               28.3   \n",
       "141                       67.0                               10.2   \n",
       "213                      740.0                                8.8   \n",
       "286                     1672.0                               30.3   \n",
       "358                     5411.0                               11.7   \n",
       "\n",
       "     PERCENT_OF_DEATHS  \n",
       "69            0.191630  \n",
       "141           0.099347  \n",
       "213           0.146086  \n",
       "286           0.201904  \n",
       "358           0.130735  "
      ]
     },
     "execution_count": 267,
     "metadata": {},
     "output_type": "execute_result"
    }
   ],
   "source": [
    "#view clean_cancer_df\n",
    "clean_cancer_df.head()"
   ]
  },
  {
   "cell_type": "code",
   "execution_count": 268,
   "metadata": {
    "scrolled": false
   },
   "outputs": [
    {
     "data": {
      "text/html": [
       "<div>\n",
       "<style scoped>\n",
       "    .dataframe tbody tr th:only-of-type {\n",
       "        vertical-align: middle;\n",
       "    }\n",
       "\n",
       "    .dataframe tbody tr th {\n",
       "        vertical-align: top;\n",
       "    }\n",
       "\n",
       "    .dataframe thead th {\n",
       "        text-align: right;\n",
       "    }\n",
       "</style>\n",
       "<table border=\"1\" class=\"dataframe\">\n",
       "  <thead>\n",
       "    <tr style=\"text-align: right;\">\n",
       "      <th></th>\n",
       "      <th>COMPOUND</th>\n",
       "      <th>YEAR</th>\n",
       "      <th>STATE_CODE</th>\n",
       "      <th>COUNTY_CODE</th>\n",
       "      <th>HIGH_ESTIMATE</th>\n",
       "      <th>STATE</th>\n",
       "      <th>STATE_PESTICIDE_USE_MEAN</th>\n",
       "    </tr>\n",
       "  </thead>\n",
       "  <tbody>\n",
       "    <tr>\n",
       "      <th>0</th>\n",
       "      <td>1-Methyl Cyclopropene</td>\n",
       "      <td>2015</td>\n",
       "      <td>41</td>\n",
       "      <td>1</td>\n",
       "      <td>0.0</td>\n",
       "      <td>OR</td>\n",
       "      <td>1164.397684</td>\n",
       "    </tr>\n",
       "    <tr>\n",
       "      <th>1</th>\n",
       "      <td>1-Methyl Cyclopropene</td>\n",
       "      <td>2015</td>\n",
       "      <td>41</td>\n",
       "      <td>21</td>\n",
       "      <td>0.1</td>\n",
       "      <td>OR</td>\n",
       "      <td>1164.397684</td>\n",
       "    </tr>\n",
       "    <tr>\n",
       "      <th>2</th>\n",
       "      <td>1-Methyl Cyclopropene</td>\n",
       "      <td>2015</td>\n",
       "      <td>41</td>\n",
       "      <td>27</td>\n",
       "      <td>1.7</td>\n",
       "      <td>OR</td>\n",
       "      <td>1164.397684</td>\n",
       "    </tr>\n",
       "    <tr>\n",
       "      <th>3</th>\n",
       "      <td>1-Methyl Cyclopropene</td>\n",
       "      <td>2015</td>\n",
       "      <td>41</td>\n",
       "      <td>49</td>\n",
       "      <td>0.1</td>\n",
       "      <td>OR</td>\n",
       "      <td>1164.397684</td>\n",
       "    </tr>\n",
       "    <tr>\n",
       "      <th>4</th>\n",
       "      <td>1-Methyl Cyclopropene</td>\n",
       "      <td>2015</td>\n",
       "      <td>41</td>\n",
       "      <td>55</td>\n",
       "      <td>0.0</td>\n",
       "      <td>OR</td>\n",
       "      <td>1164.397684</td>\n",
       "    </tr>\n",
       "  </tbody>\n",
       "</table>\n",
       "</div>"
      ],
      "text/plain": [
       "                COMPOUND  YEAR  STATE_CODE  COUNTY_CODE  HIGH_ESTIMATE STATE  \\\n",
       "0  1-Methyl Cyclopropene  2015          41            1            0.0    OR   \n",
       "1  1-Methyl Cyclopropene  2015          41           21            0.1    OR   \n",
       "2  1-Methyl Cyclopropene  2015          41           27            1.7    OR   \n",
       "3  1-Methyl Cyclopropene  2015          41           49            0.1    OR   \n",
       "4  1-Methyl Cyclopropene  2015          41           55            0.0    OR   \n",
       "\n",
       "   STATE_PESTICIDE_USE_MEAN  \n",
       "0               1164.397684  \n",
       "1               1164.397684  \n",
       "2               1164.397684  \n",
       "3               1164.397684  \n",
       "4               1164.397684  "
      ]
     },
     "execution_count": 268,
     "metadata": {},
     "output_type": "execute_result"
    }
   ],
   "source": [
    "#view clean_pesticide_df\n",
    "clean_pesticide_df.head()"
   ]
  },
  {
   "cell_type": "markdown",
   "metadata": {},
   "source": [
    "I need a common column to merge the two dataframes on. I am going to use the State column in the pesticde dataframe and the State FIPS Code column in the cancer dataframe. To merge the dataframes using these two columns, first I will need to rename the State column in th pesticide dataframe to \"STATE_FIPS_CODE\"."
   ]
  },
  {
   "cell_type": "code",
   "execution_count": 269,
   "metadata": {},
   "outputs": [],
   "source": [
    "#rename State column to \"STATE_FIPS_CODE\"\n",
    "clean_pesticide_df = clean_pesticide_df.rename(columns={'STATE':'STATE_FIPS_CODE'})"
   ]
  },
  {
   "cell_type": "code",
   "execution_count": 270,
   "metadata": {},
   "outputs": [
    {
     "data": {
      "text/plain": [
       "Index(['COMPOUND', 'YEAR', 'STATE_CODE', 'COUNTY_CODE', 'HIGH_ESTIMATE',\n",
       "       'STATE_FIPS_CODE', 'STATE_PESTICIDE_USE_MEAN'],\n",
       "      dtype='object')"
      ]
     },
     "execution_count": 270,
     "metadata": {},
     "output_type": "execute_result"
    }
   ],
   "source": [
    "#verify column name change\n",
    "clean_pesticide_df.columns"
   ]
  },
  {
   "cell_type": "code",
   "execution_count": 271,
   "metadata": {},
   "outputs": [],
   "source": [
    "#merge dataframes\n",
    "merged_df = pd.merge(clean_cancer_df,clean_pesticide_df, on=['YEAR','STATE_FIPS_CODE'], how='left')"
   ]
  },
  {
   "cell_type": "code",
   "execution_count": 272,
   "metadata": {
    "scrolled": true
   },
   "outputs": [
    {
     "data": {
      "text/html": [
       "<div>\n",
       "<style scoped>\n",
       "    .dataframe tbody tr th:only-of-type {\n",
       "        vertical-align: middle;\n",
       "    }\n",
       "\n",
       "    .dataframe tbody tr th {\n",
       "        vertical-align: top;\n",
       "    }\n",
       "\n",
       "    .dataframe thead th {\n",
       "        text-align: right;\n",
       "    }\n",
       "</style>\n",
       "<table border=\"1\" class=\"dataframe\">\n",
       "  <thead>\n",
       "    <tr style=\"text-align: right;\">\n",
       "      <th></th>\n",
       "      <th>YEAR</th>\n",
       "      <th>CAUSE_OF_DEATH</th>\n",
       "      <th>STATE</th>\n",
       "      <th>STATE_FIPS_CODE</th>\n",
       "      <th>HHS Region</th>\n",
       "      <th>AGE_RANGE</th>\n",
       "      <th>BENCHMARK</th>\n",
       "      <th>LOCALITY</th>\n",
       "      <th>OBSERVED_DEATHS</th>\n",
       "      <th>POPULATION</th>\n",
       "      <th>Expected Deaths</th>\n",
       "      <th>Potentially Excess Deaths</th>\n",
       "      <th>Percent Potentially Excess Deaths</th>\n",
       "      <th>PERCENT_OF_DEATHS</th>\n",
       "      <th>COMPOUND</th>\n",
       "      <th>STATE_CODE</th>\n",
       "      <th>COUNTY_CODE</th>\n",
       "      <th>HIGH_ESTIMATE</th>\n",
       "      <th>STATE_PESTICIDE_USE_MEAN</th>\n",
       "    </tr>\n",
       "  </thead>\n",
       "  <tbody>\n",
       "    <tr>\n",
       "      <th>0</th>\n",
       "      <td>2005</td>\n",
       "      <td>Cancer</td>\n",
       "      <td>Alabama</td>\n",
       "      <td>AL</td>\n",
       "      <td>4</td>\n",
       "      <td>0-84</td>\n",
       "      <td>Floating</td>\n",
       "      <td>All</td>\n",
       "      <td>8628.0</td>\n",
       "      <td>4502415.0</td>\n",
       "      <td>6182.0</td>\n",
       "      <td>2446.0</td>\n",
       "      <td>28.3</td>\n",
       "      <td>0.191630</td>\n",
       "      <td>NaN</td>\n",
       "      <td>NaN</td>\n",
       "      <td>NaN</td>\n",
       "      <td>NaN</td>\n",
       "      <td>NaN</td>\n",
       "    </tr>\n",
       "    <tr>\n",
       "      <th>1</th>\n",
       "      <td>2005</td>\n",
       "      <td>Cancer</td>\n",
       "      <td>Alaska</td>\n",
       "      <td>AK</td>\n",
       "      <td>10</td>\n",
       "      <td>0-84</td>\n",
       "      <td>Floating</td>\n",
       "      <td>All</td>\n",
       "      <td>659.0</td>\n",
       "      <td>663333.0</td>\n",
       "      <td>596.0</td>\n",
       "      <td>67.0</td>\n",
       "      <td>10.2</td>\n",
       "      <td>0.099347</td>\n",
       "      <td>NaN</td>\n",
       "      <td>NaN</td>\n",
       "      <td>NaN</td>\n",
       "      <td>NaN</td>\n",
       "      <td>NaN</td>\n",
       "    </tr>\n",
       "    <tr>\n",
       "      <th>2</th>\n",
       "      <td>2005</td>\n",
       "      <td>Cancer</td>\n",
       "      <td>Arizona</td>\n",
       "      <td>AZ</td>\n",
       "      <td>9</td>\n",
       "      <td>0-84</td>\n",
       "      <td>Floating</td>\n",
       "      <td>All</td>\n",
       "      <td>8410.0</td>\n",
       "      <td>5756893.0</td>\n",
       "      <td>7670.0</td>\n",
       "      <td>740.0</td>\n",
       "      <td>8.8</td>\n",
       "      <td>0.146086</td>\n",
       "      <td>NaN</td>\n",
       "      <td>NaN</td>\n",
       "      <td>NaN</td>\n",
       "      <td>NaN</td>\n",
       "      <td>NaN</td>\n",
       "    </tr>\n",
       "    <tr>\n",
       "      <th>3</th>\n",
       "      <td>2005</td>\n",
       "      <td>Cancer</td>\n",
       "      <td>Arkansas</td>\n",
       "      <td>AR</td>\n",
       "      <td>6</td>\n",
       "      <td>0-84</td>\n",
       "      <td>Floating</td>\n",
       "      <td>All</td>\n",
       "      <td>5520.0</td>\n",
       "      <td>2733969.0</td>\n",
       "      <td>3848.0</td>\n",
       "      <td>1672.0</td>\n",
       "      <td>30.3</td>\n",
       "      <td>0.201904</td>\n",
       "      <td>NaN</td>\n",
       "      <td>NaN</td>\n",
       "      <td>NaN</td>\n",
       "      <td>NaN</td>\n",
       "      <td>NaN</td>\n",
       "    </tr>\n",
       "    <tr>\n",
       "      <th>4</th>\n",
       "      <td>2005</td>\n",
       "      <td>Cancer</td>\n",
       "      <td>California</td>\n",
       "      <td>CA</td>\n",
       "      <td>9</td>\n",
       "      <td>0-84</td>\n",
       "      <td>Floating</td>\n",
       "      <td>All</td>\n",
       "      <td>46195.0</td>\n",
       "      <td>35334704.0</td>\n",
       "      <td>40784.0</td>\n",
       "      <td>5411.0</td>\n",
       "      <td>11.7</td>\n",
       "      <td>0.130735</td>\n",
       "      <td>NaN</td>\n",
       "      <td>NaN</td>\n",
       "      <td>NaN</td>\n",
       "      <td>NaN</td>\n",
       "      <td>NaN</td>\n",
       "    </tr>\n",
       "  </tbody>\n",
       "</table>\n",
       "</div>"
      ],
      "text/plain": [
       "   YEAR CAUSE_OF_DEATH       STATE STATE_FIPS_CODE  HHS Region AGE_RANGE  \\\n",
       "0  2005         Cancer     Alabama              AL           4      0-84   \n",
       "1  2005         Cancer      Alaska              AK          10      0-84   \n",
       "2  2005         Cancer     Arizona              AZ           9      0-84   \n",
       "3  2005         Cancer    Arkansas              AR           6      0-84   \n",
       "4  2005         Cancer  California              CA           9      0-84   \n",
       "\n",
       "  BENCHMARK LOCALITY  OBSERVED_DEATHS  POPULATION  Expected Deaths  \\\n",
       "0  Floating      All           8628.0   4502415.0           6182.0   \n",
       "1  Floating      All            659.0    663333.0            596.0   \n",
       "2  Floating      All           8410.0   5756893.0           7670.0   \n",
       "3  Floating      All           5520.0   2733969.0           3848.0   \n",
       "4  Floating      All          46195.0  35334704.0          40784.0   \n",
       "\n",
       "   Potentially Excess Deaths  Percent Potentially Excess Deaths  \\\n",
       "0                     2446.0                               28.3   \n",
       "1                       67.0                               10.2   \n",
       "2                      740.0                                8.8   \n",
       "3                     1672.0                               30.3   \n",
       "4                     5411.0                               11.7   \n",
       "\n",
       "   PERCENT_OF_DEATHS COMPOUND  STATE_CODE  COUNTY_CODE  HIGH_ESTIMATE  \\\n",
       "0           0.191630      NaN         NaN          NaN            NaN   \n",
       "1           0.099347      NaN         NaN          NaN            NaN   \n",
       "2           0.146086      NaN         NaN          NaN            NaN   \n",
       "3           0.201904      NaN         NaN          NaN            NaN   \n",
       "4           0.130735      NaN         NaN          NaN            NaN   \n",
       "\n",
       "   STATE_PESTICIDE_USE_MEAN  \n",
       "0                       NaN  \n",
       "1                       NaN  \n",
       "2                       NaN  \n",
       "3                       NaN  \n",
       "4                       NaN  "
      ]
     },
     "execution_count": 272,
     "metadata": {},
     "output_type": "execute_result"
    }
   ],
   "source": [
    "#confirm the merge\n",
    "merged_df.head()"
   ]
  },
  {
   "cell_type": "markdown",
   "metadata": {},
   "source": [
    "Now that the dataframes have been merged, I can drop the columns that are no longer needed."
   ]
  },
  {
   "cell_type": "code",
   "execution_count": 273,
   "metadata": {},
   "outputs": [],
   "source": [
    "#remove variables\n",
    "merged_df = merged_df.drop(['HHS Region','Expected Deaths','Potentially Excess Deaths','Percent Potentially Excess Deaths','COMPOUND','STATE_CODE','COUNTY_CODE',\n",
    "                          'HIGH_ESTIMATE'], axis=1)\n"
   ]
  },
  {
   "cell_type": "markdown",
   "metadata": {},
   "source": [
    "After the merge, there is strong possibility that I have duplicate rows. I go ahead and take care of that in the next step to ensure that we do not have duplicate rows."
   ]
  },
  {
   "cell_type": "code",
   "execution_count": 274,
   "metadata": {},
   "outputs": [],
   "source": [
    "#drop duplicate rows\n",
    "merged_df = merged_df.drop_duplicates()"
   ]
  },
  {
   "cell_type": "code",
   "execution_count": 275,
   "metadata": {
    "scrolled": true
   },
   "outputs": [
    {
     "data": {
      "text/html": [
       "<div>\n",
       "<style scoped>\n",
       "    .dataframe tbody tr th:only-of-type {\n",
       "        vertical-align: middle;\n",
       "    }\n",
       "\n",
       "    .dataframe tbody tr th {\n",
       "        vertical-align: top;\n",
       "    }\n",
       "\n",
       "    .dataframe thead th {\n",
       "        text-align: right;\n",
       "    }\n",
       "</style>\n",
       "<table border=\"1\" class=\"dataframe\">\n",
       "  <thead>\n",
       "    <tr style=\"text-align: right;\">\n",
       "      <th></th>\n",
       "      <th>YEAR</th>\n",
       "      <th>CAUSE_OF_DEATH</th>\n",
       "      <th>STATE</th>\n",
       "      <th>STATE_FIPS_CODE</th>\n",
       "      <th>AGE_RANGE</th>\n",
       "      <th>BENCHMARK</th>\n",
       "      <th>LOCALITY</th>\n",
       "      <th>OBSERVED_DEATHS</th>\n",
       "      <th>POPULATION</th>\n",
       "      <th>PERCENT_OF_DEATHS</th>\n",
       "      <th>STATE_PESTICIDE_USE_MEAN</th>\n",
       "    </tr>\n",
       "  </thead>\n",
       "  <tbody>\n",
       "    <tr>\n",
       "      <th>0</th>\n",
       "      <td>2005</td>\n",
       "      <td>Cancer</td>\n",
       "      <td>Alabama</td>\n",
       "      <td>AL</td>\n",
       "      <td>0-84</td>\n",
       "      <td>Floating</td>\n",
       "      <td>All</td>\n",
       "      <td>8628.0</td>\n",
       "      <td>4502415.0</td>\n",
       "      <td>0.191630</td>\n",
       "      <td>NaN</td>\n",
       "    </tr>\n",
       "    <tr>\n",
       "      <th>1</th>\n",
       "      <td>2005</td>\n",
       "      <td>Cancer</td>\n",
       "      <td>Alaska</td>\n",
       "      <td>AK</td>\n",
       "      <td>0-84</td>\n",
       "      <td>Floating</td>\n",
       "      <td>All</td>\n",
       "      <td>659.0</td>\n",
       "      <td>663333.0</td>\n",
       "      <td>0.099347</td>\n",
       "      <td>NaN</td>\n",
       "    </tr>\n",
       "    <tr>\n",
       "      <th>2</th>\n",
       "      <td>2005</td>\n",
       "      <td>Cancer</td>\n",
       "      <td>Arizona</td>\n",
       "      <td>AZ</td>\n",
       "      <td>0-84</td>\n",
       "      <td>Floating</td>\n",
       "      <td>All</td>\n",
       "      <td>8410.0</td>\n",
       "      <td>5756893.0</td>\n",
       "      <td>0.146086</td>\n",
       "      <td>NaN</td>\n",
       "    </tr>\n",
       "    <tr>\n",
       "      <th>3</th>\n",
       "      <td>2005</td>\n",
       "      <td>Cancer</td>\n",
       "      <td>Arkansas</td>\n",
       "      <td>AR</td>\n",
       "      <td>0-84</td>\n",
       "      <td>Floating</td>\n",
       "      <td>All</td>\n",
       "      <td>5520.0</td>\n",
       "      <td>2733969.0</td>\n",
       "      <td>0.201904</td>\n",
       "      <td>NaN</td>\n",
       "    </tr>\n",
       "    <tr>\n",
       "      <th>4</th>\n",
       "      <td>2005</td>\n",
       "      <td>Cancer</td>\n",
       "      <td>California</td>\n",
       "      <td>CA</td>\n",
       "      <td>0-84</td>\n",
       "      <td>Floating</td>\n",
       "      <td>All</td>\n",
       "      <td>46195.0</td>\n",
       "      <td>35334704.0</td>\n",
       "      <td>0.130735</td>\n",
       "      <td>NaN</td>\n",
       "    </tr>\n",
       "  </tbody>\n",
       "</table>\n",
       "</div>"
      ],
      "text/plain": [
       "   YEAR CAUSE_OF_DEATH       STATE STATE_FIPS_CODE AGE_RANGE BENCHMARK  \\\n",
       "0  2005         Cancer     Alabama              AL      0-84  Floating   \n",
       "1  2005         Cancer      Alaska              AK      0-84  Floating   \n",
       "2  2005         Cancer     Arizona              AZ      0-84  Floating   \n",
       "3  2005         Cancer    Arkansas              AR      0-84  Floating   \n",
       "4  2005         Cancer  California              CA      0-84  Floating   \n",
       "\n",
       "  LOCALITY  OBSERVED_DEATHS  POPULATION  PERCENT_OF_DEATHS  \\\n",
       "0      All           8628.0   4502415.0           0.191630   \n",
       "1      All            659.0    663333.0           0.099347   \n",
       "2      All           8410.0   5756893.0           0.146086   \n",
       "3      All           5520.0   2733969.0           0.201904   \n",
       "4      All          46195.0  35334704.0           0.130735   \n",
       "\n",
       "   STATE_PESTICIDE_USE_MEAN  \n",
       "0                       NaN  \n",
       "1                       NaN  \n",
       "2                       NaN  \n",
       "3                       NaN  \n",
       "4                       NaN  "
      ]
     },
     "execution_count": 275,
     "metadata": {},
     "output_type": "execute_result"
    }
   ],
   "source": [
    "#view dataframe\n",
    "merged_df.head()"
   ]
  },
  {
   "cell_type": "code",
   "execution_count": 276,
   "metadata": {},
   "outputs": [
    {
     "name": "stdout",
     "output_type": "stream",
     "text": [
      "<class 'pandas.core.frame.DataFrame'>\n",
      "Index: 572 entries, 0 to 368483\n",
      "Data columns (total 11 columns):\n",
      " #   Column                    Non-Null Count  Dtype  \n",
      "---  ------                    --------------  -----  \n",
      " 0   YEAR                      572 non-null    int64  \n",
      " 1   CAUSE_OF_DEATH            572 non-null    object \n",
      " 2   STATE                     572 non-null    object \n",
      " 3   STATE_FIPS_CODE           572 non-null    object \n",
      " 4   AGE_RANGE                 572 non-null    object \n",
      " 5   BENCHMARK                 572 non-null    object \n",
      " 6   LOCALITY                  572 non-null    object \n",
      " 7   OBSERVED_DEATHS           572 non-null    float64\n",
      " 8   POPULATION                572 non-null    float64\n",
      " 9   PERCENT_OF_DEATHS         572 non-null    float64\n",
      " 10  STATE_PESTICIDE_USE_MEAN  47 non-null     float64\n",
      "dtypes: float64(4), int64(1), object(6)\n",
      "memory usage: 53.6+ KB\n"
     ]
    }
   ],
   "source": [
    "merged_df.info()"
   ]
  },
  {
   "cell_type": "markdown",
   "metadata": {},
   "source": [
    "### Quality Issue 3:\n",
    "There are more States in the Cancer dataframe than there are in the Pesticide dataframe, so I will not have Pesticide Use for every State. Now that I have merged the two dataframes, I can remove the States where the State Pesticide Use Mean value is null."
   ]
  },
  {
   "cell_type": "code",
   "execution_count": 277,
   "metadata": {},
   "outputs": [],
   "source": [
    "#drop rows when Percent of Deaths is null\n",
    "merged_df = merged_df.dropna(subset=['STATE_PESTICIDE_USE_MEAN'])"
   ]
  },
  {
   "cell_type": "markdown",
   "metadata": {},
   "source": [
    "Justification: We saw that there were more States in the Cancer dataframe than there were in the Pesticide dataframe. I was unaware of which States were missing from the Pesticide dataframe. I was able to remove the States where the STATE_PESTICIDE_USE_MEAN was null since those States were added after merging the two dataframes."
   ]
  },
  {
   "cell_type": "markdown",
   "metadata": {
    "id": "F42urHuzttjF"
   },
   "source": [
    "## 4. Update your data store\n",
    "Update your local database/data store with the cleaned data, following best practices for storing your cleaned data:\n",
    "\n",
    "- Must maintain different instances / versions of data (raw and cleaned data)\n",
    "- Must name the dataset files informatively\n",
    "- Ensure both the raw and cleaned data is saved to your database/data store"
   ]
  },
  {
   "cell_type": "code",
   "execution_count": 278,
   "metadata": {
    "id": "V3uay7EJUV_L"
   },
   "outputs": [],
   "source": [
    "# saving data\n",
    "merged_df.to_csv('Pesticide_Use_and_Cancer.csv', index=False)"
   ]
  },
  {
   "cell_type": "markdown",
   "metadata": {
    "id": "cGy_yddGtzhM"
   },
   "source": [
    "## 5. Answer the research question\n",
    "\n",
    "### **5.1:** Define and answer the research question \n",
    "Going back to the problem statement in step 1, use the cleaned data to answer the question you raised. Produce **at least** two visualizations using the cleaned data and explain how they help you answer the question."
   ]
  },
  {
   "cell_type": "markdown",
   "metadata": {
    "id": "gjedE4s4ZkEd"
   },
   "source": [
    "*Research question: Is there a correlation between pesticide use and cancer? Are the death percentages higher in states that have a greater mean for pesticide use in the year of 2015?"
   ]
  },
  {
   "cell_type": "code",
   "execution_count": 279,
   "metadata": {},
   "outputs": [],
   "source": [
    "data2015 = merged_df[merged_df['YEAR'] == 2015]"
   ]
  },
  {
   "cell_type": "code",
   "execution_count": 280,
   "metadata": {
    "id": "Lkw3rW9kZmOm"
   },
   "outputs": [
    {
     "data": {
      "text/plain": [
       "<function matplotlib.pyplot.show(close=None, block=None)>"
      ]
     },
     "execution_count": 280,
     "metadata": {},
     "output_type": "execute_result"
    },
    {
     "data": {
      "image/png": "[encoded data removed]",
      "text/plain": [
       "<Figure size 1500x1000 with 1 Axes>"
      ]
     },
     "metadata": {},
     "output_type": "display_data"
    }
   ],
   "source": [
    "#Visual 1 \n",
    "\n",
    "plt.figure(figsize=(15,10))\n",
    "plt.scatter(data2015['PERCENT_OF_DEATHS'], data2015['STATE_PESTICIDE_USE_MEAN'], c=\"red\", marker='*')\n",
    "plt.title(\"Relationship between Pesticide Use and Cancer Related Deaths\", fontsize=16)\n",
    "plt.xlabel(\"State Percent of Deaths\")\n",
    "plt.ylabel(\"State Pesticide Use\")\n",
    "plt.show\n"
   ]
  },
  {
   "cell_type": "markdown",
   "metadata": {},
   "source": [
    "*Answer to research question:* I did not find a strong correlation between pesticide use and cancer related deaths in this scatter plot. At one point it seems as if pesticide use rises the percent of death increases, but then the percent of deaths increase and then the pesticide use comes down."
   ]
  },
  {
   "cell_type": "code",
   "execution_count": 281,
   "metadata": {
    "scrolled": false
   },
   "outputs": [
    {
     "data": {
      "image/png": "[encoded data removed]",
      "text/plain": [
       "<Figure size 2000x1500 with 2 Axes>"
      ]
     },
     "metadata": {},
     "output_type": "display_data"
    }
   ],
   "source": [
    "#Visual 2\n",
    "x=data2015.STATE_FIPS_CODE\n",
    "y1=data2015['PERCENT_OF_DEATHS']\n",
    "y2=data2015['STATE_PESTICIDE_USE_MEAN']\n",
    "fig, ax1=plt.subplots(figsize=(20,15))\n",
    "ax2=ax1.twinx()\n",
    "plot1=ax1.plot(x,y1, color='r')\n",
    "plot2=ax2.plot(x,y2, color='b')\n",
    "ax1.set_ylabel('Percent of Deaths',fontsize=16, color='r')\n",
    "ax2.set_ylabel('Pesticide Use Mean',fontsize=16, color='b')\n",
    "plt.title(\"Pesticide Use Mean and Cancer Related Deaths by State\", fontsize=20)\n",
    "plt.plot()\n",
    "plt.show()"
   ]
  },
  {
   "cell_type": "markdown",
   "metadata": {
    "id": "K5RgvMGUZoHn"
   },
   "source": [
    "*Answer to research question:* I did not find a strong correlation between pesticide use and cancer related deaths in this visual. In some cases the pesticide use goes up with cancer related deaths, but in other cases the percent of deaths is up while the use of pesticides is down."
   ]
  },
  {
   "cell_type": "markdown",
   "metadata": {
    "id": "0ezWXXZVj-TP"
   },
   "source": [
    "### **5.2:** Reflection\n",
    "In 2-4 sentences, if you had more time to complete the project, what actions would you take? For example, which data quality and structural issues would you look into further, and what research questions would you further explore?"
   ]
  },
  {
   "cell_type": "markdown",
   "metadata": {
    "id": "XB3RBDG5kFe1"
   },
   "source": [
    "*Answer:* If I had more time to complete this project, I would see if I could find data the had cancer related deaths at the city or county level. This would give me more region specific result for cancer related deaths. Also, I would look at the data for other years to see how the results compared."
   ]
  },
  {
   "cell_type": "code",
   "execution_count": null,
   "metadata": {},
   "outputs": [],
   "source": []
  }
 ],
 "metadata": {
  "colab": {
   "provenance": []
  },
  "kernelspec": {
   "display_name": "Python 3 (ipykernel)",
   "language": "python",
   "name": "python3"
  },
  "language_info": {
   "codemirror_mode": {
    "name": "ipython",
    "version": 3
   },
   "file_extension": ".py",
   "mimetype": "text/x-python",
   "name": "python",
   "nbconvert_exporter": "python",
   "pygments_lexer": "ipython3",
   "version": "3.10.11"
  }
 },
 "nbformat": 4,
 "nbformat_minor": 1
}
